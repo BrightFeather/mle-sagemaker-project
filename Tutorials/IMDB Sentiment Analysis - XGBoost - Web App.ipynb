{
 "cells": [
  {
   "cell_type": "markdown",
   "metadata": {},
   "source": [
    "# Sentiment Analysis Web App\n",
    "\n",
    "_Deep Learning Nanodegree Program | Deployment_\n",
    "\n",
    "---\n",
    "\n",
    "In this notebook we will use Amazon's SageMaker service to construct a random tree model to predict the sentiment of a movie review. In addition, we will deploy this model to an endpoint and construct a very simple web app which will interact with our model's deployed endpoint.\n",
    "\n",
    "## General Outline\n",
    "\n",
    "Typically, when using a notebook instance with SageMaker, you will proceed through the following steps. Of course, not every step will need to be done with each project. Also, there is quite a lot of room for variation in many of the steps, as you will see throughout these lessons.\n",
    "\n",
    "1. Download or otherwise retrieve the data.\n",
    "2. Process / Prepare the data.\n",
    "3. Upload the processed data to S3.\n",
    "4. Train a chosen model.\n",
    "5. Test the trained model (typically using a batch transform job).\n",
    "6. Deploy the trained model.\n",
    "7. Use the deployed model.\n",
    "\n",
    "In this notebook we will progress through each of the steps above. We will also see that the final step, using the deployed model, can be quite challenging."
   ]
  },
  {
   "cell_type": "code",
   "execution_count": 1,
   "metadata": {},
   "outputs": [
    {
     "name": "stdout",
     "output_type": "stream",
     "text": [
      "Collecting sagemaker==1.72.0\n",
      "  Using cached sagemaker-1.72.0-py2.py3-none-any.whl\n",
      "Requirement already satisfied: boto3>=1.14.12 in /home/ec2-user/anaconda3/envs/amazonei_mxnet_p36/lib/python3.6/site-packages (from sagemaker==1.72.0) (1.17.35)\n",
      "Requirement already satisfied: scipy>=0.19.0 in /home/ec2-user/anaconda3/envs/amazonei_mxnet_p36/lib/python3.6/site-packages (from sagemaker==1.72.0) (1.5.3)\n",
      "Requirement already satisfied: importlib-metadata>=1.4.0 in /home/ec2-user/anaconda3/envs/amazonei_mxnet_p36/lib/python3.6/site-packages (from sagemaker==1.72.0) (3.6.0)\n",
      "Collecting smdebug-rulesconfig==0.1.4\n",
      "  Using cached smdebug_rulesconfig-0.1.4-py2.py3-none-any.whl (10 kB)\n",
      "Requirement already satisfied: protobuf>=3.1 in /home/ec2-user/anaconda3/envs/amazonei_mxnet_p36/lib/python3.6/site-packages (from sagemaker==1.72.0) (3.15.1)\n",
      "Requirement already satisfied: numpy>=1.9.0 in /home/ec2-user/anaconda3/envs/amazonei_mxnet_p36/lib/python3.6/site-packages (from sagemaker==1.72.0) (1.19.5)\n",
      "Requirement already satisfied: packaging>=20.0 in /home/ec2-user/anaconda3/envs/amazonei_mxnet_p36/lib/python3.6/site-packages (from sagemaker==1.72.0) (20.9)\n",
      "Requirement already satisfied: protobuf3-to-dict>=0.1.5 in /home/ec2-user/anaconda3/envs/amazonei_mxnet_p36/lib/python3.6/site-packages (from sagemaker==1.72.0) (0.1.5)\n",
      "Requirement already satisfied: jmespath<1.0.0,>=0.7.1 in /home/ec2-user/anaconda3/envs/amazonei_mxnet_p36/lib/python3.6/site-packages (from boto3>=1.14.12->sagemaker==1.72.0) (0.10.0)\n",
      "Requirement already satisfied: s3transfer<0.4.0,>=0.3.0 in /home/ec2-user/anaconda3/envs/amazonei_mxnet_p36/lib/python3.6/site-packages (from boto3>=1.14.12->sagemaker==1.72.0) (0.3.4)\n",
      "Requirement already satisfied: botocore<1.21.0,>=1.20.35 in /home/ec2-user/anaconda3/envs/amazonei_mxnet_p36/lib/python3.6/site-packages (from boto3>=1.14.12->sagemaker==1.72.0) (1.20.35)\n",
      "Requirement already satisfied: python-dateutil<3.0.0,>=2.1 in /home/ec2-user/anaconda3/envs/amazonei_mxnet_p36/lib/python3.6/site-packages (from botocore<1.21.0,>=1.20.35->boto3>=1.14.12->sagemaker==1.72.0) (2.8.1)\n",
      "Requirement already satisfied: urllib3<1.27,>=1.25.4 in /home/ec2-user/anaconda3/envs/amazonei_mxnet_p36/lib/python3.6/site-packages (from botocore<1.21.0,>=1.20.35->boto3>=1.14.12->sagemaker==1.72.0) (1.26.3)\n",
      "Requirement already satisfied: typing-extensions>=3.6.4 in /home/ec2-user/anaconda3/envs/amazonei_mxnet_p36/lib/python3.6/site-packages (from importlib-metadata>=1.4.0->sagemaker==1.72.0) (3.7.4.3)\n",
      "Requirement already satisfied: zipp>=0.5 in /home/ec2-user/anaconda3/envs/amazonei_mxnet_p36/lib/python3.6/site-packages (from importlib-metadata>=1.4.0->sagemaker==1.72.0) (3.4.0)\n",
      "Requirement already satisfied: pyparsing>=2.0.2 in /home/ec2-user/anaconda3/envs/amazonei_mxnet_p36/lib/python3.6/site-packages (from packaging>=20.0->sagemaker==1.72.0) (2.4.7)\n",
      "Requirement already satisfied: six>=1.9 in /home/ec2-user/anaconda3/envs/amazonei_mxnet_p36/lib/python3.6/site-packages (from protobuf>=3.1->sagemaker==1.72.0) (1.15.0)\n",
      "Installing collected packages: smdebug-rulesconfig, sagemaker\n",
      "  Attempting uninstall: smdebug-rulesconfig\n",
      "    Found existing installation: smdebug-rulesconfig 1.0.1\n",
      "    Uninstalling smdebug-rulesconfig-1.0.1:\n",
      "      Successfully uninstalled smdebug-rulesconfig-1.0.1\n",
      "  Attempting uninstall: sagemaker\n",
      "    Found existing installation: sagemaker 2.31.1\n",
      "    Uninstalling sagemaker-2.31.1:\n",
      "      Successfully uninstalled sagemaker-2.31.1\n",
      "Successfully installed sagemaker-1.72.0 smdebug-rulesconfig-0.1.4\n"
     ]
    }
   ],
   "source": [
    "# Make sure that we use SageMaker 1.x\n",
    "!pip install sagemaker==1.72.0"
   ]
  },
  {
   "cell_type": "markdown",
   "metadata": {},
   "source": [
    "## Step 1: Downloading the data\n",
    "\n",
    "The dataset we are going to use is very popular among researchers in Natural Language Processing, usually referred to as the [IMDb dataset](http://ai.stanford.edu/~amaas/data/sentiment/). It consists of movie reviews from the website [imdb.com](http://www.imdb.com/), each labeled as either '**pos**itive', if the reviewer enjoyed the film, or '**neg**ative' otherwise.\n",
    "\n",
    "> Maas, Andrew L., et al. [Learning Word Vectors for Sentiment Analysis](http://ai.stanford.edu/~amaas/data/sentiment/). In _Proceedings of the 49th Annual Meeting of the Association for Computational Linguistics: Human Language Technologies_. Association for Computational Linguistics, 2011.\n",
    "\n",
    "We begin by using some Jupyter Notebook magic to download and extract the dataset."
   ]
  },
  {
   "cell_type": "code",
   "execution_count": 2,
   "metadata": {},
   "outputs": [
    {
     "name": "stdout",
     "output_type": "stream",
     "text": [
      "mkdir: cannot create directory ‘../data’: File exists\n",
      "--2021-04-24 21:12:19--  http://ai.stanford.edu/~amaas/data/sentiment/aclImdb_v1.tar.gz\n",
      "Resolving ai.stanford.edu (ai.stanford.edu)... 171.64.68.10\n",
      "Connecting to ai.stanford.edu (ai.stanford.edu)|171.64.68.10|:80... connected.\n",
      "HTTP request sent, awaiting response... 200 OK\n",
      "Length: 84125825 (80M) [application/x-gzip]\n",
      "Saving to: ‘../data/aclImdb_v1.tar.gz’\n",
      "\n",
      "../data/aclImdb_v1. 100%[===================>]  80.23M  27.5MB/s    in 2.9s    \n",
      "\n",
      "2021-04-24 21:12:22 (27.5 MB/s) - ‘../data/aclImdb_v1.tar.gz’ saved [84125825/84125825]\n",
      "\n"
     ]
    }
   ],
   "source": [
    "%mkdir ../data\n",
    "!wget -O ../data/aclImdb_v1.tar.gz http://ai.stanford.edu/~amaas/data/sentiment/aclImdb_v1.tar.gz\n",
    "!tar -zxf ../data/aclImdb_v1.tar.gz -C ../data"
   ]
  },
  {
   "cell_type": "markdown",
   "metadata": {},
   "source": [
    "## Step 2: Preparing and Processing the data\n",
    "\n",
    "The data we have downloaded is split into various files, each of which contains a single review. It will be much easier going forward if we combine these individual files into two large files, one for training and one for testing."
   ]
  },
  {
   "cell_type": "code",
   "execution_count": 4,
   "metadata": {},
   "outputs": [],
   "source": [
    "import os\n",
    "import glob\n",
    "\n",
    "def read_imdb_data(data_dir='../data/aclImdb'):\n",
    "    data = {}\n",
    "    labels = {}\n",
    "    \n",
    "    for data_type in ['train', 'test']:\n",
    "        data[data_type] = {}\n",
    "        labels[data_type] = {}\n",
    "        \n",
    "        for sentiment in ['pos', 'neg']:\n",
    "            data[data_type][sentiment] = []\n",
    "            labels[data_type][sentiment] = []\n",
    "            \n",
    "            path = os.path.join(data_dir, data_type, sentiment, '*.txt')\n",
    "            files = glob.glob(path)\n",
    "            \n",
    "            for f in files:\n",
    "                with open(f) as review:\n",
    "                    data[data_type][sentiment].append(review.read())\n",
    "                    # Here we represent a positive review by '1' and a negative review by '0'\n",
    "                    labels[data_type][sentiment].append(1 if sentiment == 'pos' else 0)\n",
    "                    \n",
    "            assert len(data[data_type][sentiment]) == len(labels[data_type][sentiment]), \\\n",
    "                    \"{}/{} data size does not match labels size\".format(data_type, sentiment)\n",
    "                \n",
    "    return data, labels"
   ]
  },
  {
   "cell_type": "code",
   "execution_count": 5,
   "metadata": {},
   "outputs": [
    {
     "name": "stdout",
     "output_type": "stream",
     "text": [
      "IMDB reviews: train = 12500 pos / 12500 neg, test = 12500 pos / 12500 neg\n"
     ]
    }
   ],
   "source": [
    "data, labels = read_imdb_data()\n",
    "print(\"IMDB reviews: train = {} pos / {} neg, test = {} pos / {} neg\".format(\n",
    "            len(data['train']['pos']), len(data['train']['neg']),\n",
    "            len(data['test']['pos']), len(data['test']['neg'])))"
   ]
  },
  {
   "cell_type": "code",
   "execution_count": 6,
   "metadata": {},
   "outputs": [],
   "source": [
    "from sklearn.utils import shuffle\n",
    "\n",
    "def prepare_imdb_data(data, labels):\n",
    "    \"\"\"Prepare training and test sets from IMDb movie reviews.\"\"\"\n",
    "    \n",
    "    #Combine positive and negative reviews and labels\n",
    "    data_train = data['train']['pos'] + data['train']['neg']\n",
    "    data_test = data['test']['pos'] + data['test']['neg']\n",
    "    labels_train = labels['train']['pos'] + labels['train']['neg']\n",
    "    labels_test = labels['test']['pos'] + labels['test']['neg']\n",
    "    \n",
    "    #Shuffle reviews and corresponding labels within training and test sets\n",
    "    data_train, labels_train = shuffle(data_train, labels_train)\n",
    "    data_test, labels_test = shuffle(data_test, labels_test)\n",
    "    \n",
    "    # Return a unified training data, test data, training labels, test labets\n",
    "    return data_train, data_test, labels_train, labels_test"
   ]
  },
  {
   "cell_type": "code",
   "execution_count": 7,
   "metadata": {},
   "outputs": [
    {
     "name": "stdout",
     "output_type": "stream",
     "text": [
      "IMDb reviews (combined): train = 25000, test = 25000\n"
     ]
    }
   ],
   "source": [
    "train_X, test_X, train_y, test_y = prepare_imdb_data(data, labels)\n",
    "print(\"IMDb reviews (combined): train = {}, test = {}\".format(len(train_X), len(test_X)))"
   ]
  },
  {
   "cell_type": "code",
   "execution_count": 8,
   "metadata": {},
   "outputs": [
    {
     "data": {
      "text/plain": [
       "'At what point exactly does a good movie go bad? When does a movie go from \"watchable\" to \"where\\'s that &^@_+#!* OFF switch\"? Thank goodness for DVDs, like this one, that can be borrowed from the library - for free! Likewise, thank goodness for the \"fast forward\" switch on the DVD player. I feel sorry for those people who were duped at the box office.<br /><br />At one point (I\\'ve forgotten exactly when because now it\\'s all just a blur), our \"hero,\" Luke Wilson starts running through traffic; I think he was looking for a cab. It was at that point when I gave up, realizing I couldn\\'t care whether he found his ride or got run over by a garbage truck.<br /><br />The last time the movie was interesting was when Luke Wilson climbs out of the dumpster, hair dryer in hand, and first meets the \"heroine,\" Uma Thurman. That scene ended with the purse-snatching criminal dangling helplessly from the fire escape far, far above the departing Luke and Uma. That was the last time the movie was funny, and when was that scene? Ten minutes into the flick?<br /><br />Every time the movie tried to become \"funny,\" it couldn\\'t. Every time the movie approached \"excitement,\" it fizzled out, heading in the opposite direction. When a musical score might have helped squeeze life out of this dullard, the sound track stayed empty and silent.<br /><br />The sex scenes were not needed and were beyond lame; the damage to sets and props unnecessary and childish. When Uma turns into the crazy ex-girlfriend, I felt like I was watching \"The 40 Year Old Virgin Meets Pulp Fiction\"; that\\'s when I realized that there was no turning back because I thoroughly disliked \"The 40 Year Old Virgin\" and \"Pulp Fiction.\"<br /><br />Luke Wilson\\'s sidekick, Rainn Wilson (also seen in the dreary \"The Last Mimzy\") adds nothing but insult to injury in this awful movie. Rainn Wilson, the King of Television Boredom, should stay with that equally awful medium. Hey, Rainn Wilson! Leave full-length motion pictures alone! Every time Uma\\'s rival, Anna Faris, came on screen, I expected Jason or Freddy or some fright flick monster to jump out from behind the scenery; once you see Anna Faris in \"Scary Movie,\" that\\'s all you ever see, no matter the movie, no matter the medium. The character played by Wanda Sykes was just plain awful and was so out of place in this flick.'"
      ]
     },
     "execution_count": 8,
     "metadata": {},
     "output_type": "execute_result"
    }
   ],
   "source": [
    "train_X[100]"
   ]
  },
  {
   "cell_type": "markdown",
   "metadata": {},
   "source": [
    "## Processing the data\n",
    "\n",
    "Now that we have our training and testing datasets merged and ready to use, we need to start processing the raw data into something that will be useable by our machine learning algorithm. To begin with, we remove any html formatting and any non-alpha numeric characters that may appear in the reviews. We will do this in a very simplistic way using Python's regular expression module. We will discuss the reason for this rather simplistic pre-processing later on."
   ]
  },
  {
   "cell_type": "code",
   "execution_count": 9,
   "metadata": {},
   "outputs": [],
   "source": [
    "import re\n",
    "\n",
    "REPLACE_NO_SPACE = re.compile(\"(\\.)|(\\;)|(\\:)|(\\!)|(\\')|(\\?)|(\\,)|(\\\")|(\\()|(\\))|(\\[)|(\\])\")\n",
    "REPLACE_WITH_SPACE = re.compile(\"(<br\\s*/><br\\s*/>)|(\\-)|(\\/)\")\n",
    "\n",
    "def review_to_words(review):\n",
    "    words = REPLACE_NO_SPACE.sub(\"\", review.lower())\n",
    "    words = REPLACE_WITH_SPACE.sub(\" \", words)\n",
    "    return words"
   ]
  },
  {
   "cell_type": "code",
   "execution_count": 10,
   "metadata": {},
   "outputs": [
    {
     "data": {
      "text/plain": [
       "'at what point exactly does a good movie go bad when does a movie go from watchable to wheres that &^@_+#* off switch thank goodness for dvds like this one that can be borrowed from the library   for free likewise thank goodness for the fast forward switch on the dvd player i feel sorry for those people who were duped at the box office at one point ive forgotten exactly when because now its all just a blur our hero luke wilson starts running through traffic i think he was looking for a cab it was at that point when i gave up realizing i couldnt care whether he found his ride or got run over by a garbage truck the last time the movie was interesting was when luke wilson climbs out of the dumpster hair dryer in hand and first meets the heroine uma thurman that scene ended with the purse snatching criminal dangling helplessly from the fire escape far far above the departing luke and uma that was the last time the movie was funny and when was that scene ten minutes into the flick every time the movie tried to become funny it couldnt every time the movie approached excitement it fizzled out heading in the opposite direction when a musical score might have helped squeeze life out of this dullard the sound track stayed empty and silent the sex scenes were not needed and were beyond lame the damage to sets and props unnecessary and childish when uma turns into the crazy ex girlfriend i felt like i was watching the 40 year old virgin meets pulp fiction thats when i realized that there was no turning back because i thoroughly disliked the 40 year old virgin and pulp fiction luke wilsons sidekick rainn wilson also seen in the dreary the last mimzy adds nothing but insult to injury in this awful movie rainn wilson the king of television boredom should stay with that equally awful medium hey rainn wilson leave full length motion pictures alone every time umas rival anna faris came on screen i expected jason or freddy or some fright flick monster to jump out from behind the scenery once you see anna faris in scary movie thats all you ever see no matter the movie no matter the medium the character played by wanda sykes was just plain awful and was so out of place in this flick'"
      ]
     },
     "execution_count": 10,
     "metadata": {},
     "output_type": "execute_result"
    }
   ],
   "source": [
    "review_to_words(train_X[100])"
   ]
  },
  {
   "cell_type": "code",
   "execution_count": 11,
   "metadata": {},
   "outputs": [],
   "source": [
    "import pickle\n",
    "\n",
    "cache_dir = os.path.join(\"../cache\", \"sentiment_web_app\")  # where to store cache files\n",
    "os.makedirs(cache_dir)  # ensure cache directory exists"
   ]
  },
  {
   "cell_type": "code",
   "execution_count": 12,
   "metadata": {},
   "outputs": [],
   "source": [
    "def preprocess_data(data_train, data_test, labels_train, labels_test,\n",
    "                    cache_dir=cache_dir, cache_file=\"preprocessed_data.pkl\"):\n",
    "    \"\"\"Convert each review to words; read from cache if available.\"\"\"\n",
    "\n",
    "    # If cache_file is not None, try to read from it first\n",
    "    cache_data = None\n",
    "    if cache_file is not None:\n",
    "        try:\n",
    "            with open(os.path.join(cache_dir, cache_file), \"rb\") as f:\n",
    "                cache_data = pickle.load(f)\n",
    "            print(\"Read preprocessed data from cache file:\", cache_file)\n",
    "        except:\n",
    "            pass  # unable to read from cache, but that's okay\n",
    "    \n",
    "    # If cache is missing, then do the heavy lifting\n",
    "    if cache_data is None:\n",
    "        # Preprocess training and test data to obtain words for each review\n",
    "        #words_train = list(map(review_to_words, data_train))\n",
    "        #words_test = list(map(review_to_words, data_test))\n",
    "        words_train = [review_to_words(review) for review in data_train]\n",
    "        words_test = [review_to_words(review) for review in data_test]\n",
    "        \n",
    "        # Write to cache file for future runs\n",
    "        if cache_file is not None:\n",
    "            cache_data = dict(words_train=words_train, words_test=words_test,\n",
    "                              labels_train=labels_train, labels_test=labels_test)\n",
    "            with open(os.path.join(cache_dir, cache_file), \"wb\") as f:\n",
    "                pickle.dump(cache_data, f)\n",
    "            print(\"Wrote preprocessed data to cache file:\", cache_file)\n",
    "    else:\n",
    "        # Unpack data loaded from cache file\n",
    "        words_train, words_test, labels_train, labels_test = (cache_data['words_train'],\n",
    "                cache_data['words_test'], cache_data['labels_train'], cache_data['labels_test'])\n",
    "    \n",
    "    return words_train, words_test, labels_train, labels_test"
   ]
  },
  {
   "cell_type": "code",
   "execution_count": 13,
   "metadata": {},
   "outputs": [
    {
     "name": "stdout",
     "output_type": "stream",
     "text": [
      "Wrote preprocessed data to cache file: preprocessed_data.pkl\n"
     ]
    }
   ],
   "source": [
    "# Preprocess data\n",
    "train_X, test_X, train_y, test_y = preprocess_data(train_X, test_X, train_y, test_y)"
   ]
  },
  {
   "cell_type": "markdown",
   "metadata": {},
   "source": [
    "### Extract Bag-of-Words features\n",
    "\n",
    "For the model we will be implementing, rather than using the reviews directly, we are going to transform each review into a Bag-of-Words feature representation. Keep in mind that 'in the wild' we will only have access to the training set so our transformer can only use the training set to construct a representation."
   ]
  },
  {
   "cell_type": "code",
   "execution_count": 15,
   "metadata": {},
   "outputs": [],
   "source": [
    "import numpy as np\n",
    "from sklearn.feature_extraction.text import CountVectorizer\n",
    "\n",
    "# sklearn.externals.joblib is deprecated in 0.21 and will be removed in 0.23. \n",
    "# from sklearn.externals import joblib\n",
    "\n",
    "# Import joblib package directly\n",
    "import sklearn.externals\n",
    "import joblib\n",
    "# joblib is an enhanced version of pickle that is more efficient for storing NumPy arrays\n",
    "\n",
    "def extract_BoW_features(words_train, words_test, vocabulary_size=5000,\n",
    "                         cache_dir=cache_dir, cache_file=\"bow_features.pkl\"):\n",
    "    \"\"\"Extract Bag-of-Words for a given set of documents, already preprocessed into words.\"\"\"\n",
    "    \n",
    "    # If cache_file is not None, try to read from it first\n",
    "    cache_data = None\n",
    "    if cache_file is not None:\n",
    "        try:\n",
    "            with open(os.path.join(cache_dir, cache_file), \"rb\") as f:\n",
    "                cache_data = joblib.load(f)\n",
    "            print(\"Read features from cache file:\", cache_file)\n",
    "        except:\n",
    "            pass  # unable to read from cache, but that's okay\n",
    "    \n",
    "    # If cache is missing, then do the heavy lifting\n",
    "    if cache_data is None:\n",
    "        # Fit a vectorizer to training documents and use it to transform them\n",
    "        # NOTE: Training documents have already been preprocessed and tokenized into words;\n",
    "        #       pass in dummy functions to skip those steps, e.g. preprocessor=lambda x: x\n",
    "        vectorizer = CountVectorizer(max_features=vocabulary_size)\n",
    "        features_train = vectorizer.fit_transform(words_train).toarray()\n",
    "\n",
    "        # Apply the same vectorizer to transform the test documents (ignore unknown words)\n",
    "        features_test = vectorizer.transform(words_test).toarray()\n",
    "        \n",
    "        # NOTE: Remember to convert the features using .toarray() for a compact representation\n",
    "        \n",
    "        # Write to cache file for future runs (store vocabulary as well)\n",
    "        if cache_file is not None:\n",
    "            vocabulary = vectorizer.vocabulary_\n",
    "            cache_data = dict(features_train=features_train, features_test=features_test,\n",
    "                             vocabulary=vocabulary)\n",
    "            with open(os.path.join(cache_dir, cache_file), \"wb\") as f:\n",
    "                joblib.dump(cache_data, f)\n",
    "            print(\"Wrote features to cache file:\", cache_file)\n",
    "    else:\n",
    "        # Unpack data loaded from cache file\n",
    "        features_train, features_test, vocabulary = (cache_data['features_train'],\n",
    "                cache_data['features_test'], cache_data['vocabulary'])\n",
    "    \n",
    "    # Return both the extracted features as well as the vocabulary\n",
    "    return features_train, features_test, vocabulary"
   ]
  },
  {
   "cell_type": "code",
   "execution_count": 16,
   "metadata": {},
   "outputs": [
    {
     "name": "stdout",
     "output_type": "stream",
     "text": [
      "Wrote features to cache file: bow_features.pkl\n"
     ]
    }
   ],
   "source": [
    "# Extract Bag of Words features for both training and test datasets\n",
    "train_X, test_X, vocabulary = extract_BoW_features(train_X, test_X)"
   ]
  },
  {
   "cell_type": "code",
   "execution_count": 17,
   "metadata": {},
   "outputs": [
    {
     "data": {
      "text/plain": [
       "5000"
      ]
     },
     "execution_count": 17,
     "metadata": {},
     "output_type": "execute_result"
    }
   ],
   "source": [
    "len(train_X[100])"
   ]
  },
  {
   "cell_type": "markdown",
   "metadata": {},
   "source": [
    "## Step 3: Upload data to S3\n",
    "\n",
    "Now that we have created the feature representation of our training (and testing) data, it is time to start setting up and using the XGBoost classifier provided by SageMaker.\n",
    "\n",
    "### Writing the datasets\n",
    "\n",
    "The XGBoost classifier that we will be using requires the dataset to be written to a file and stored using Amazon S3. To do this, we will start by splitting the training dataset into two parts, the data we will train the model with and a validation set. Then, we will write those datasets to a file locally and then upload the files to S3. In addition, we will write the test set to a file and upload that file to S3. This is so that we can use SageMakers Batch Transform functionality to test our model once we've fit it."
   ]
  },
  {
   "cell_type": "code",
   "execution_count": 18,
   "metadata": {},
   "outputs": [],
   "source": [
    "import pandas as pd\n",
    "\n",
    "# Earlier we shuffled the training dataset so to make things simple we can just assign\n",
    "# the first 10 000 reviews to the validation set and use the remaining reviews for training.\n",
    "val_X = pd.DataFrame(train_X[:10000])\n",
    "train_X = pd.DataFrame(train_X[10000:])\n",
    "\n",
    "val_y = pd.DataFrame(train_y[:10000])\n",
    "train_y = pd.DataFrame(train_y[10000:])"
   ]
  },
  {
   "cell_type": "markdown",
   "metadata": {},
   "source": [
    "The documentation for the XGBoost algorithm in SageMaker requires that the training and validation datasets should contain no headers or index and that the label should occur first for each sample.\n",
    "\n",
    "For more information about this and other algorithms, the SageMaker developer documentation can be found on __[Amazon's website.](https://docs.aws.amazon.com/sagemaker/latest/dg/)__"
   ]
  },
  {
   "cell_type": "code",
   "execution_count": 19,
   "metadata": {},
   "outputs": [],
   "source": [
    "# First we make sure that the local directory in which we'd like to store the training and validation csv files exists.\n",
    "data_dir = '../data/sentiment_web_app'\n",
    "if not os.path.exists(data_dir):\n",
    "    os.makedirs(data_dir)"
   ]
  },
  {
   "cell_type": "code",
   "execution_count": 20,
   "metadata": {},
   "outputs": [],
   "source": [
    "pd.DataFrame(test_X).to_csv(os.path.join(data_dir, 'test.csv'), header=False, index=False)\n",
    "\n",
    "pd.concat([val_y, val_X], axis=1).to_csv(os.path.join(data_dir, 'validation.csv'), header=False, index=False)\n",
    "pd.concat([train_y, train_X], axis=1).to_csv(os.path.join(data_dir, 'train.csv'), header=False, index=False)"
   ]
  },
  {
   "cell_type": "code",
   "execution_count": 21,
   "metadata": {},
   "outputs": [],
   "source": [
    "# To save a bit of memory we can set text_X, train_X, val_X, train_y and val_y to None.\n",
    "\n",
    "test_X = train_X = val_X = train_y = val_y = None"
   ]
  },
  {
   "cell_type": "markdown",
   "metadata": {},
   "source": [
    "### Uploading Training / Validation files to S3\n",
    "\n",
    "Amazon's S3 service allows us to store files that can be accessed by both the built-in training models such as the XGBoost model we will be using as well as custom models such as the one we will see a little later.\n",
    "\n",
    "For this and most other tasks we will be doing using SageMaker, there are two methods we could use. The first is to use the low level functionality of SageMaker which requires knowing each of the objects involved in the SageMaker environment. The second is to use the high level functionality in which certain choices have been made on the user's behalf. The low level approach benefits from allowing the user a great deal of flexibility while the high level approach makes development much quicker. For our purposes we will opt to use the high level approach although using the low-level approach is certainly an option.\n",
    "\n",
    "Recall the method `upload_data()` which is a member of the object representing our current SageMaker session. What this method does is upload the data to the default bucket (which is created if it does not exist) into the path described by the key_prefix variable. To see this for yourself, once you have uploaded the data files, go to the S3 console and look to see where the files have been uploaded.\n",
    "\n",
    "For additional resources, see the __[SageMaker API documentation](http://sagemaker.readthedocs.io/en/latest/)__ and in addition the __[SageMaker Developer Guide.](https://docs.aws.amazon.com/sagemaker/latest/dg/)__"
   ]
  },
  {
   "cell_type": "code",
   "execution_count": 22,
   "metadata": {},
   "outputs": [],
   "source": [
    "import sagemaker\n",
    "\n",
    "session = sagemaker.Session() # Store the current SageMaker session\n",
    "\n",
    "# S3 prefix (which folder will we use)\n",
    "prefix = 'sentiment-web-app'\n",
    "\n",
    "test_location = session.upload_data(os.path.join(data_dir, 'test.csv'), key_prefix=prefix)\n",
    "val_location = session.upload_data(os.path.join(data_dir, 'validation.csv'), key_prefix=prefix)\n",
    "train_location = session.upload_data(os.path.join(data_dir, 'train.csv'), key_prefix=prefix)"
   ]
  },
  {
   "cell_type": "markdown",
   "metadata": {},
   "source": [
    "## Step 4: Creating the XGBoost model\n",
    "\n",
    "Now that the data has been uploaded it is time to create the XGBoost model. To begin with, we need to do some setup. At this point it is worth discussing what a model is in SageMaker. It is easiest to think of a model of comprising three different objects in the SageMaker ecosystem, which interact with one another.\n",
    "\n",
    "- Model Artifacts\n",
    "- Training Code (Container)\n",
    "- Inference Code (Container)\n",
    "\n",
    "The Model Artifacts are what you might think of as the actual model itself. For example, if you were building a neural network, the model artifacts would be the weights of the various layers. In our case, for an XGBoost model, the artifacts are the actual trees that are created during training.\n",
    "\n",
    "The other two objects, the training code and the inference code are then used to manipulate the training artifacts. More precisely, the training code uses the training data that is provided and creates the model artifacts, while the inference code uses the model artifacts to make predictions on new data.\n",
    "\n",
    "The way that SageMaker runs the training and inference code is by making use of Docker containers. For now, think of a container as being a way of packaging code up so that dependencies aren't an issue."
   ]
  },
  {
   "cell_type": "code",
   "execution_count": 23,
   "metadata": {},
   "outputs": [],
   "source": [
    "from sagemaker import get_execution_role\n",
    "\n",
    "# Our current execution role is required when creating the model as the training\n",
    "# and inference code will need to access the model artifacts.\n",
    "role = get_execution_role()"
   ]
  },
  {
   "cell_type": "code",
   "execution_count": 24,
   "metadata": {},
   "outputs": [
    {
     "name": "stderr",
     "output_type": "stream",
     "text": [
      "'get_image_uri' method will be deprecated in favor of 'ImageURIProvider' class in SageMaker Python SDK v2.\n",
      "There is a more up to date SageMaker XGBoost image. To use the newer image, please set 'repo_version'='1.0-1'. For example:\n",
      "\tget_image_uri(region, 'xgboost', '1.0-1').\n"
     ]
    }
   ],
   "source": [
    "# We need to retrieve the location of the container which is provided by Amazon for using XGBoost.\n",
    "# As a matter of convenience, the training and inference code both use the same container.\n",
    "from sagemaker.amazon.amazon_estimator import get_image_uri\n",
    "\n",
    "container = get_image_uri(session.boto_region_name, 'xgboost')"
   ]
  },
  {
   "cell_type": "code",
   "execution_count": 25,
   "metadata": {},
   "outputs": [
    {
     "name": "stderr",
     "output_type": "stream",
     "text": [
      "Parameter image_name will be renamed to image_uri in SageMaker Python SDK v2.\n"
     ]
    }
   ],
   "source": [
    "# First we create a SageMaker estimator object for our model.\n",
    "xgb = sagemaker.estimator.Estimator(container, # The location of the container we wish to use\n",
    "                                    role,                                    # What is our current IAM Role\n",
    "                                    train_instance_count=1,                  # How many compute instances\n",
    "                                    train_instance_type='ml.m4.xlarge',      # What kind of compute instances\n",
    "                                    output_path='s3://{}/{}/output'.format(session.default_bucket(), prefix),\n",
    "                                    sagemaker_session=session)\n",
    "\n",
    "# And then set the algorithm specific parameters.\n",
    "xgb.set_hyperparameters(max_depth=5,\n",
    "                        eta=0.2,\n",
    "                        gamma=4,\n",
    "                        min_child_weight=6,\n",
    "                        subsample=0.8,\n",
    "                        silent=0,\n",
    "                        objective='binary:logistic',\n",
    "                        early_stopping_rounds=10,\n",
    "                        num_round=500)"
   ]
  },
  {
   "cell_type": "markdown",
   "metadata": {},
   "source": [
    "### Fit the XGBoost model\n",
    "\n",
    "Now that our model has been set up we simply need to attach the training and validation datasets and then ask SageMaker to set up the computation."
   ]
  },
  {
   "cell_type": "code",
   "execution_count": 26,
   "metadata": {},
   "outputs": [
    {
     "name": "stderr",
     "output_type": "stream",
     "text": [
      "'s3_input' class will be renamed to 'TrainingInput' in SageMaker Python SDK v2.\n",
      "'s3_input' class will be renamed to 'TrainingInput' in SageMaker Python SDK v2.\n"
     ]
    }
   ],
   "source": [
    "s3_input_train = sagemaker.s3_input(s3_data=train_location, content_type='csv')\n",
    "s3_input_validation = sagemaker.s3_input(s3_data=val_location, content_type='csv')"
   ]
  },
  {
   "cell_type": "code",
   "execution_count": 27,
   "metadata": {},
   "outputs": [
    {
     "name": "stdout",
     "output_type": "stream",
     "text": [
      "2021-04-24 21:18:42 Starting - Starting the training job...\n",
      "2021-04-24 21:18:44 Starting - Launching requested ML instances.........\n",
      "2021-04-24 21:20:14 Starting - Preparing the instances for training......\n",
      "2021-04-24 21:21:29 Downloading - Downloading input data...\n",
      "2021-04-24 21:22:00 Training - Downloading the training image..\u001b[34mArguments: train\u001b[0m\n",
      "\u001b[34m[2021-04-24:21:22:22:INFO] Running standalone xgboost training.\u001b[0m\n",
      "\u001b[34m[2021-04-24:21:22:22:INFO] File size need to be processed in the node: 238.5mb. Available memory size in the node: 8413.87mb\u001b[0m\n",
      "\u001b[34m[2021-04-24:21:22:22:INFO] Determined delimiter of CSV input is ','\u001b[0m\n",
      "\u001b[34m[21:22:22] S3DistributionType set as FullyReplicated\u001b[0m\n",
      "\u001b[34m[21:22:24] 15000x5000 matrix with 75000000 entries loaded from /opt/ml/input/data/train?format=csv&label_column=0&delimiter=,\u001b[0m\n",
      "\u001b[34m[2021-04-24:21:22:24:INFO] Determined delimiter of CSV input is ','\u001b[0m\n",
      "\u001b[34m[21:22:24] S3DistributionType set as FullyReplicated\u001b[0m\n",
      "\u001b[34m[21:22:25] 10000x5000 matrix with 50000000 entries loaded from /opt/ml/input/data/validation?format=csv&label_column=0&delimiter=,\u001b[0m\n",
      "\n",
      "2021-04-24 21:22:21 Training - Training image download completed. Training in progress.\u001b[34m[21:22:29] src/tree/updater_prune.cc:74: tree pruning end, 1 roots, 42 extra nodes, 6 pruned nodes, max_depth=5\u001b[0m\n",
      "\u001b[34m[0]#011train-error:0.299533#011validation-error:0.3137\u001b[0m\n",
      "\u001b[34mMultiple eval metrics have been passed: 'validation-error' will be used for early stopping.\n",
      "\u001b[0m\n",
      "\u001b[34mWill train until validation-error hasn't improved in 10 rounds.\u001b[0m\n",
      "\u001b[34m[21:22:30] src/tree/updater_prune.cc:74: tree pruning end, 1 roots, 40 extra nodes, 4 pruned nodes, max_depth=5\u001b[0m\n",
      "\u001b[34m[1]#011train-error:0.2874#011validation-error:0.2982\u001b[0m\n",
      "\u001b[34m[21:22:32] src/tree/updater_prune.cc:74: tree pruning end, 1 roots, 40 extra nodes, 8 pruned nodes, max_depth=5\u001b[0m\n",
      "\u001b[34m[2]#011train-error:0.260133#011validation-error:0.276\u001b[0m\n",
      "\u001b[34m[21:22:33] src/tree/updater_prune.cc:74: tree pruning end, 1 roots, 38 extra nodes, 0 pruned nodes, max_depth=5\u001b[0m\n",
      "\u001b[34m[3]#011train-error:0.259267#011validation-error:0.2763\u001b[0m\n",
      "\u001b[34m[21:22:34] src/tree/updater_prune.cc:74: tree pruning end, 1 roots, 46 extra nodes, 2 pruned nodes, max_depth=5\u001b[0m\n",
      "\u001b[34m[4]#011train-error:0.264467#011validation-error:0.2809\u001b[0m\n",
      "\u001b[34m[21:22:36] src/tree/updater_prune.cc:74: tree pruning end, 1 roots, 32 extra nodes, 10 pruned nodes, max_depth=5\u001b[0m\n",
      "\u001b[34m[5]#011train-error:0.256#011validation-error:0.2709\u001b[0m\n",
      "\u001b[34m[21:22:37] src/tree/updater_prune.cc:74: tree pruning end, 1 roots, 42 extra nodes, 8 pruned nodes, max_depth=5\u001b[0m\n",
      "\u001b[34m[6]#011train-error:0.246067#011validation-error:0.2658\u001b[0m\n",
      "\u001b[34m[21:22:39] src/tree/updater_prune.cc:74: tree pruning end, 1 roots, 34 extra nodes, 6 pruned nodes, max_depth=5\u001b[0m\n",
      "\u001b[34m[7]#011train-error:0.2366#011validation-error:0.2609\u001b[0m\n",
      "\u001b[34m[21:22:40] src/tree/updater_prune.cc:74: tree pruning end, 1 roots, 30 extra nodes, 0 pruned nodes, max_depth=5\u001b[0m\n",
      "\u001b[34m[8]#011train-error:0.231533#011validation-error:0.2536\u001b[0m\n",
      "\u001b[34m[21:22:41] src/tree/updater_prune.cc:74: tree pruning end, 1 roots, 36 extra nodes, 6 pruned nodes, max_depth=5\u001b[0m\n",
      "\u001b[34m[9]#011train-error:0.2282#011validation-error:0.2452\u001b[0m\n",
      "\u001b[34m[21:22:43] src/tree/updater_prune.cc:74: tree pruning end, 1 roots, 24 extra nodes, 10 pruned nodes, max_depth=5\u001b[0m\n",
      "\u001b[34m[10]#011train-error:0.2252#011validation-error:0.2435\u001b[0m\n",
      "\u001b[34m[21:22:44] src/tree/updater_prune.cc:74: tree pruning end, 1 roots, 26 extra nodes, 10 pruned nodes, max_depth=5\u001b[0m\n",
      "\u001b[34m[11]#011train-error:0.223067#011validation-error:0.2411\u001b[0m\n",
      "\u001b[34m[21:22:45] src/tree/updater_prune.cc:74: tree pruning end, 1 roots, 44 extra nodes, 4 pruned nodes, max_depth=5\u001b[0m\n",
      "\u001b[34m[12]#011train-error:0.215533#011validation-error:0.2367\u001b[0m\n",
      "\u001b[34m[21:22:47] src/tree/updater_prune.cc:74: tree pruning end, 1 roots, 36 extra nodes, 2 pruned nodes, max_depth=5\u001b[0m\n",
      "\u001b[34m[13]#011train-error:0.2114#011validation-error:0.2331\u001b[0m\n",
      "\u001b[34m[21:22:48] src/tree/updater_prune.cc:74: tree pruning end, 1 roots, 26 extra nodes, 8 pruned nodes, max_depth=5\u001b[0m\n",
      "\u001b[34m[14]#011train-error:0.207733#011validation-error:0.2296\u001b[0m\n",
      "\u001b[34m[21:22:49] src/tree/updater_prune.cc:74: tree pruning end, 1 roots, 30 extra nodes, 12 pruned nodes, max_depth=5\u001b[0m\n",
      "\u001b[34m[15]#011train-error:0.203133#011validation-error:0.2271\u001b[0m\n",
      "\u001b[34m[21:22:51] src/tree/updater_prune.cc:74: tree pruning end, 1 roots, 28 extra nodes, 6 pruned nodes, max_depth=5\u001b[0m\n",
      "\u001b[34m[16]#011train-error:0.199667#011validation-error:0.2259\u001b[0m\n",
      "\u001b[34m[21:22:52] src/tree/updater_prune.cc:74: tree pruning end, 1 roots, 26 extra nodes, 16 pruned nodes, max_depth=5\u001b[0m\n",
      "\u001b[34m[17]#011train-error:0.197733#011validation-error:0.2204\u001b[0m\n",
      "\u001b[34m[21:22:54] src/tree/updater_prune.cc:74: tree pruning end, 1 roots, 34 extra nodes, 4 pruned nodes, max_depth=5\u001b[0m\n",
      "\u001b[34m[18]#011train-error:0.194267#011validation-error:0.2183\u001b[0m\n",
      "\u001b[34m[21:22:55] src/tree/updater_prune.cc:74: tree pruning end, 1 roots, 28 extra nodes, 8 pruned nodes, max_depth=5\u001b[0m\n",
      "\u001b[34m[19]#011train-error:0.192067#011validation-error:0.2162\u001b[0m\n",
      "\u001b[34m[21:22:56] src/tree/updater_prune.cc:74: tree pruning end, 1 roots, 32 extra nodes, 6 pruned nodes, max_depth=5\u001b[0m\n",
      "\u001b[34m[20]#011train-error:0.1892#011validation-error:0.2147\u001b[0m\n",
      "\u001b[34m[21:22:58] src/tree/updater_prune.cc:74: tree pruning end, 1 roots, 32 extra nodes, 4 pruned nodes, max_depth=5\u001b[0m\n",
      "\u001b[34m[21]#011train-error:0.186333#011validation-error:0.2124\u001b[0m\n",
      "\u001b[34m[21:22:59] src/tree/updater_prune.cc:74: tree pruning end, 1 roots, 22 extra nodes, 12 pruned nodes, max_depth=5\u001b[0m\n",
      "\u001b[34m[22]#011train-error:0.1846#011validation-error:0.2089\u001b[0m\n",
      "\u001b[34m[21:23:01] src/tree/updater_prune.cc:74: tree pruning end, 1 roots, 40 extra nodes, 4 pruned nodes, max_depth=5\u001b[0m\n",
      "\u001b[34m[23]#011train-error:0.180467#011validation-error:0.2082\u001b[0m\n",
      "\u001b[34m[21:23:02] src/tree/updater_prune.cc:74: tree pruning end, 1 roots, 30 extra nodes, 6 pruned nodes, max_depth=5\u001b[0m\n",
      "\u001b[34m[24]#011train-error:0.178533#011validation-error:0.2056\u001b[0m\n",
      "\u001b[34m[21:23:04] src/tree/updater_prune.cc:74: tree pruning end, 1 roots, 14 extra nodes, 16 pruned nodes, max_depth=5\u001b[0m\n",
      "\u001b[34m[25]#011train-error:0.177533#011validation-error:0.2039\u001b[0m\n",
      "\u001b[34m[21:23:06] src/tree/updater_prune.cc:74: tree pruning end, 1 roots, 22 extra nodes, 10 pruned nodes, max_depth=5\u001b[0m\n",
      "\u001b[34m[26]#011train-error:0.176333#011validation-error:0.2024\u001b[0m\n",
      "\u001b[34m[21:23:07] src/tree/updater_prune.cc:74: tree pruning end, 1 roots, 34 extra nodes, 14 pruned nodes, max_depth=5\u001b[0m\n",
      "\u001b[34m[27]#011train-error:0.173733#011validation-error:0.2015\u001b[0m\n",
      "\u001b[34m[21:23:08] src/tree/updater_prune.cc:74: tree pruning end, 1 roots, 26 extra nodes, 4 pruned nodes, max_depth=5\u001b[0m\n",
      "\u001b[34m[28]#011train-error:0.171267#011validation-error:0.1999\u001b[0m\n",
      "\u001b[34m[21:23:10] src/tree/updater_prune.cc:74: tree pruning end, 1 roots, 24 extra nodes, 14 pruned nodes, max_depth=5\u001b[0m\n",
      "\u001b[34m[29]#011train-error:0.171133#011validation-error:0.1988\u001b[0m\n",
      "\u001b[34m[21:23:11] src/tree/updater_prune.cc:74: tree pruning end, 1 roots, 28 extra nodes, 14 pruned nodes, max_depth=5\u001b[0m\n",
      "\u001b[34m[30]#011train-error:0.169867#011validation-error:0.197\u001b[0m\n",
      "\u001b[34m[21:23:12] src/tree/updater_prune.cc:74: tree pruning end, 1 roots, 20 extra nodes, 10 pruned nodes, max_depth=5\u001b[0m\n",
      "\u001b[34m[31]#011train-error:0.1682#011validation-error:0.196\u001b[0m\n",
      "\u001b[34m[21:23:14] src/tree/updater_prune.cc:74: tree pruning end, 1 roots, 22 extra nodes, 6 pruned nodes, max_depth=5\u001b[0m\n",
      "\u001b[34m[32]#011train-error:0.166133#011validation-error:0.1948\u001b[0m\n",
      "\u001b[34m[21:23:15] src/tree/updater_prune.cc:74: tree pruning end, 1 roots, 16 extra nodes, 10 pruned nodes, max_depth=5\u001b[0m\n",
      "\u001b[34m[33]#011train-error:0.164933#011validation-error:0.1921\u001b[0m\n",
      "\u001b[34m[21:23:16] src/tree/updater_prune.cc:74: tree pruning end, 1 roots, 24 extra nodes, 12 pruned nodes, max_depth=5\u001b[0m\n",
      "\u001b[34m[34]#011train-error:0.164#011validation-error:0.1917\u001b[0m\n",
      "\u001b[34m[21:23:18] src/tree/updater_prune.cc:74: tree pruning end, 1 roots, 30 extra nodes, 16 pruned nodes, max_depth=5\u001b[0m\n",
      "\u001b[34m[35]#011train-error:0.163267#011validation-error:0.1917\u001b[0m\n",
      "\u001b[34m[21:23:19] src/tree/updater_prune.cc:74: tree pruning end, 1 roots, 18 extra nodes, 10 pruned nodes, max_depth=5\u001b[0m\n",
      "\u001b[34m[36]#011train-error:0.162#011validation-error:0.1898\u001b[0m\n",
      "\u001b[34m[21:23:21] src/tree/updater_prune.cc:74: tree pruning end, 1 roots, 18 extra nodes, 14 pruned nodes, max_depth=5\u001b[0m\n",
      "\u001b[34m[37]#011train-error:0.1604#011validation-error:0.1882\u001b[0m\n",
      "\u001b[34m[21:23:22] src/tree/updater_prune.cc:74: tree pruning end, 1 roots, 24 extra nodes, 4 pruned nodes, max_depth=5\u001b[0m\n",
      "\u001b[34m[38]#011train-error:0.1588#011validation-error:0.1872\u001b[0m\n",
      "\u001b[34m[21:23:23] src/tree/updater_prune.cc:74: tree pruning end, 1 roots, 24 extra nodes, 4 pruned nodes, max_depth=5\u001b[0m\n",
      "\u001b[34m[39]#011train-error:0.156733#011validation-error:0.1866\u001b[0m\n",
      "\u001b[34m[21:23:25] src/tree/updater_prune.cc:74: tree pruning end, 1 roots, 24 extra nodes, 12 pruned nodes, max_depth=5\u001b[0m\n",
      "\u001b[34m[40]#011train-error:0.155133#011validation-error:0.1849\u001b[0m\n",
      "\u001b[34m[21:23:26] src/tree/updater_prune.cc:74: tree pruning end, 1 roots, 36 extra nodes, 4 pruned nodes, max_depth=5\u001b[0m\n",
      "\u001b[34m[41]#011train-error:0.153467#011validation-error:0.1848\u001b[0m\n",
      "\u001b[34m[21:23:27] src/tree/updater_prune.cc:74: tree pruning end, 1 roots, 22 extra nodes, 6 pruned nodes, max_depth=5\u001b[0m\n",
      "\u001b[34m[42]#011train-error:0.1514#011validation-error:0.1836\u001b[0m\n",
      "\u001b[34m[21:23:29] src/tree/updater_prune.cc:74: tree pruning end, 1 roots, 16 extra nodes, 8 pruned nodes, max_depth=5\u001b[0m\n",
      "\u001b[34m[43]#011train-error:0.150867#011validation-error:0.1833\u001b[0m\n",
      "\u001b[34m[21:23:30] src/tree/updater_prune.cc:74: tree pruning end, 1 roots, 18 extra nodes, 8 pruned nodes, max_depth=5\u001b[0m\n",
      "\u001b[34m[44]#011train-error:0.148933#011validation-error:0.1835\u001b[0m\n",
      "\u001b[34m[21:23:31] src/tree/updater_prune.cc:74: tree pruning end, 1 roots, 22 extra nodes, 10 pruned nodes, max_depth=5\u001b[0m\n",
      "\u001b[34m[45]#011train-error:0.147933#011validation-error:0.183\u001b[0m\n",
      "\u001b[34m[21:23:33] src/tree/updater_prune.cc:74: tree pruning end, 1 roots, 22 extra nodes, 10 pruned nodes, max_depth=5\u001b[0m\n",
      "\u001b[34m[46]#011train-error:0.147#011validation-error:0.1809\u001b[0m\n",
      "\u001b[34m[21:23:34] src/tree/updater_prune.cc:74: tree pruning end, 1 roots, 28 extra nodes, 8 pruned nodes, max_depth=5\u001b[0m\n",
      "\u001b[34m[47]#011train-error:0.145467#011validation-error:0.18\u001b[0m\n",
      "\u001b[34m[21:23:36] src/tree/updater_prune.cc:74: tree pruning end, 1 roots, 34 extra nodes, 8 pruned nodes, max_depth=5\u001b[0m\n",
      "\u001b[34m[48]#011train-error:0.142467#011validation-error:0.1778\u001b[0m\n",
      "\u001b[34m[21:23:37] src/tree/updater_prune.cc:74: tree pruning end, 1 roots, 26 extra nodes, 8 pruned nodes, max_depth=5\u001b[0m\n",
      "\u001b[34m[49]#011train-error:0.141267#011validation-error:0.1786\u001b[0m\n",
      "\u001b[34m[21:23:38] src/tree/updater_prune.cc:74: tree pruning end, 1 roots, 34 extra nodes, 4 pruned nodes, max_depth=5\u001b[0m\n",
      "\u001b[34m[50]#011train-error:0.139933#011validation-error:0.1779\u001b[0m\n",
      "\u001b[34m[21:23:40] src/tree/updater_prune.cc:74: tree pruning end, 1 roots, 30 extra nodes, 10 pruned nodes, max_depth=5\u001b[0m\n",
      "\u001b[34m[51]#011train-error:0.139533#011validation-error:0.1777\u001b[0m\n",
      "\u001b[34m[21:23:41] src/tree/updater_prune.cc:74: tree pruning end, 1 roots, 34 extra nodes, 10 pruned nodes, max_depth=5\u001b[0m\n",
      "\u001b[34m[52]#011train-error:0.138667#011validation-error:0.1768\u001b[0m\n",
      "\u001b[34m[21:23:42] src/tree/updater_prune.cc:74: tree pruning end, 1 roots, 20 extra nodes, 14 pruned nodes, max_depth=5\u001b[0m\n",
      "\u001b[34m[53]#011train-error:0.138533#011validation-error:0.1769\u001b[0m\n",
      "\u001b[34m[21:23:44] src/tree/updater_prune.cc:74: tree pruning end, 1 roots, 20 extra nodes, 12 pruned nodes, max_depth=5\u001b[0m\n",
      "\u001b[34m[54]#011train-error:0.137733#011validation-error:0.1764\u001b[0m\n",
      "\u001b[34m[21:23:45] src/tree/updater_prune.cc:74: tree pruning end, 1 roots, 14 extra nodes, 16 pruned nodes, max_depth=5\u001b[0m\n",
      "\u001b[34m[55]#011train-error:0.137867#011validation-error:0.1749\u001b[0m\n",
      "\u001b[34m[21:23:46] src/tree/updater_prune.cc:74: tree pruning end, 1 roots, 14 extra nodes, 6 pruned nodes, max_depth=5\u001b[0m\n",
      "\u001b[34m[56]#011train-error:0.1364#011validation-error:0.1744\u001b[0m\n",
      "\u001b[34m[21:23:48] src/tree/updater_prune.cc:74: tree pruning end, 1 roots, 26 extra nodes, 2 pruned nodes, max_depth=5\u001b[0m\n",
      "\u001b[34m[57]#011train-error:0.1362#011validation-error:0.1731\u001b[0m\n",
      "\u001b[34m[21:23:49] src/tree/updater_prune.cc:74: tree pruning end, 1 roots, 16 extra nodes, 2 pruned nodes, max_depth=5\u001b[0m\n",
      "\u001b[34m[58]#011train-error:0.134533#011validation-error:0.1727\u001b[0m\n",
      "\u001b[34m[21:23:50] src/tree/updater_prune.cc:74: tree pruning end, 1 roots, 26 extra nodes, 12 pruned nodes, max_depth=5\u001b[0m\n",
      "\u001b[34m[59]#011train-error:0.1314#011validation-error:0.1718\u001b[0m\n",
      "\u001b[34m[21:23:52] src/tree/updater_prune.cc:74: tree pruning end, 1 roots, 30 extra nodes, 4 pruned nodes, max_depth=5\u001b[0m\n",
      "\u001b[34m[60]#011train-error:0.1306#011validation-error:0.1717\u001b[0m\n",
      "\u001b[34m[21:23:53] src/tree/updater_prune.cc:74: tree pruning end, 1 roots, 16 extra nodes, 6 pruned nodes, max_depth=5\u001b[0m\n",
      "\u001b[34m[61]#011train-error:0.129867#011validation-error:0.1715\u001b[0m\n",
      "\u001b[34m[21:23:55] src/tree/updater_prune.cc:74: tree pruning end, 1 roots, 16 extra nodes, 10 pruned nodes, max_depth=5\u001b[0m\n",
      "\u001b[34m[62]#011train-error:0.128267#011validation-error:0.17\u001b[0m\n",
      "\u001b[34m[21:23:56] src/tree/updater_prune.cc:74: tree pruning end, 1 roots, 24 extra nodes, 8 pruned nodes, max_depth=5\u001b[0m\n",
      "\u001b[34m[63]#011train-error:0.127#011validation-error:0.17\u001b[0m\n",
      "\u001b[34m[21:23:57] src/tree/updater_prune.cc:74: tree pruning end, 1 roots, 22 extra nodes, 16 pruned nodes, max_depth=5\u001b[0m\n",
      "\u001b[34m[64]#011train-error:0.127333#011validation-error:0.1703\u001b[0m\n",
      "\u001b[34m[21:23:59] src/tree/updater_prune.cc:74: tree pruning end, 1 roots, 20 extra nodes, 12 pruned nodes, max_depth=5\u001b[0m\n",
      "\u001b[34m[65]#011train-error:0.126933#011validation-error:0.1693\u001b[0m\n",
      "\u001b[34m[21:24:00] src/tree/updater_prune.cc:74: tree pruning end, 1 roots, 26 extra nodes, 12 pruned nodes, max_depth=5\u001b[0m\n",
      "\u001b[34m[66]#011train-error:0.125667#011validation-error:0.169\u001b[0m\n",
      "\u001b[34m[21:24:01] src/tree/updater_prune.cc:74: tree pruning end, 1 roots, 14 extra nodes, 12 pruned nodes, max_depth=5\u001b[0m\n",
      "\u001b[34m[67]#011train-error:0.124#011validation-error:0.1696\u001b[0m\n",
      "\u001b[34m[21:24:03] src/tree/updater_prune.cc:74: tree pruning end, 1 roots, 28 extra nodes, 12 pruned nodes, max_depth=5\u001b[0m\n",
      "\u001b[34m[68]#011train-error:0.123933#011validation-error:0.1692\u001b[0m\n",
      "\u001b[34m[21:24:04] src/tree/updater_prune.cc:74: tree pruning end, 1 roots, 22 extra nodes, 6 pruned nodes, max_depth=5\u001b[0m\n",
      "\u001b[34m[69]#011train-error:0.122733#011validation-error:0.1685\u001b[0m\n",
      "\u001b[34m[21:24:06] src/tree/updater_prune.cc:74: tree pruning end, 1 roots, 18 extra nodes, 12 pruned nodes, max_depth=5\u001b[0m\n",
      "\u001b[34m[70]#011train-error:0.1226#011validation-error:0.167\u001b[0m\n",
      "\u001b[34m[21:24:08] src/tree/updater_prune.cc:74: tree pruning end, 1 roots, 20 extra nodes, 8 pruned nodes, max_depth=5\u001b[0m\n",
      "\u001b[34m[71]#011train-error:0.121933#011validation-error:0.1665\u001b[0m\n",
      "\u001b[34m[21:24:09] src/tree/updater_prune.cc:74: tree pruning end, 1 roots, 32 extra nodes, 2 pruned nodes, max_depth=5\u001b[0m\n",
      "\u001b[34m[72]#011train-error:0.1204#011validation-error:0.1665\u001b[0m\n",
      "\u001b[34m[21:24:11] src/tree/updater_prune.cc:74: tree pruning end, 1 roots, 28 extra nodes, 2 pruned nodes, max_depth=5\u001b[0m\n",
      "\u001b[34m[73]#011train-error:0.120133#011validation-error:0.1661\u001b[0m\n",
      "\u001b[34m[21:24:12] src/tree/updater_prune.cc:74: tree pruning end, 1 roots, 16 extra nodes, 14 pruned nodes, max_depth=5\u001b[0m\n",
      "\u001b[34m[74]#011train-error:0.119867#011validation-error:0.166\u001b[0m\n",
      "\u001b[34m[21:24:13] src/tree/updater_prune.cc:74: tree pruning end, 1 roots, 14 extra nodes, 6 pruned nodes, max_depth=5\u001b[0m\n",
      "\u001b[34m[75]#011train-error:0.119133#011validation-error:0.1656\u001b[0m\n",
      "\u001b[34m[21:24:15] src/tree/updater_prune.cc:74: tree pruning end, 1 roots, 30 extra nodes, 12 pruned nodes, max_depth=5\u001b[0m\n",
      "\u001b[34m[76]#011train-error:0.117733#011validation-error:0.1666\u001b[0m\n",
      "\u001b[34m[21:24:16] src/tree/updater_prune.cc:74: tree pruning end, 1 roots, 26 extra nodes, 6 pruned nodes, max_depth=5\u001b[0m\n",
      "\u001b[34m[77]#011train-error:0.116867#011validation-error:0.1668\u001b[0m\n",
      "\u001b[34m[21:24:17] src/tree/updater_prune.cc:74: tree pruning end, 1 roots, 18 extra nodes, 14 pruned nodes, max_depth=5\u001b[0m\n",
      "\u001b[34m[78]#011train-error:0.115733#011validation-error:0.1647\u001b[0m\n",
      "\u001b[34m[21:24:19] src/tree/updater_prune.cc:74: tree pruning end, 1 roots, 24 extra nodes, 12 pruned nodes, max_depth=5\u001b[0m\n",
      "\u001b[34m[79]#011train-error:0.1152#011validation-error:0.1638\u001b[0m\n",
      "\u001b[34m[21:24:20] src/tree/updater_prune.cc:74: tree pruning end, 1 roots, 14 extra nodes, 4 pruned nodes, max_depth=5\u001b[0m\n",
      "\u001b[34m[80]#011train-error:0.114933#011validation-error:0.1641\u001b[0m\n",
      "\u001b[34m[21:24:21] src/tree/updater_prune.cc:74: tree pruning end, 1 roots, 26 extra nodes, 12 pruned nodes, max_depth=5\u001b[0m\n",
      "\u001b[34m[81]#011train-error:0.1144#011validation-error:0.1633\u001b[0m\n",
      "\u001b[34m[21:24:23] src/tree/updater_prune.cc:74: tree pruning end, 1 roots, 30 extra nodes, 10 pruned nodes, max_depth=5\u001b[0m\n",
      "\u001b[34m[82]#011train-error:0.113#011validation-error:0.1627\u001b[0m\n",
      "\u001b[34m[21:24:24] src/tree/updater_prune.cc:74: tree pruning end, 1 roots, 16 extra nodes, 8 pruned nodes, max_depth=5\u001b[0m\n",
      "\u001b[34m[83]#011train-error:0.1118#011validation-error:0.1624\u001b[0m\n",
      "\u001b[34m[21:24:26] src/tree/updater_prune.cc:74: tree pruning end, 1 roots, 32 extra nodes, 8 pruned nodes, max_depth=5\u001b[0m\n",
      "\u001b[34m[84]#011train-error:0.109067#011validation-error:0.1623\u001b[0m\n",
      "\u001b[34m[21:24:27] src/tree/updater_prune.cc:74: tree pruning end, 1 roots, 22 extra nodes, 4 pruned nodes, max_depth=5\u001b[0m\n",
      "\u001b[34m[85]#011train-error:0.109867#011validation-error:0.1618\u001b[0m\n",
      "\u001b[34m[21:24:28] src/tree/updater_prune.cc:74: tree pruning end, 1 roots, 24 extra nodes, 6 pruned nodes, max_depth=5\u001b[0m\n",
      "\u001b[34m[86]#011train-error:0.108867#011validation-error:0.1594\u001b[0m\n",
      "\u001b[34m[21:24:30] src/tree/updater_prune.cc:74: tree pruning end, 1 roots, 20 extra nodes, 14 pruned nodes, max_depth=5\u001b[0m\n",
      "\u001b[34m[87]#011train-error:0.108733#011validation-error:0.16\u001b[0m\n",
      "\u001b[34m[21:24:31] src/tree/updater_prune.cc:74: tree pruning end, 1 roots, 12 extra nodes, 14 pruned nodes, max_depth=5\u001b[0m\n",
      "\u001b[34m[88]#011train-error:0.108133#011validation-error:0.1589\u001b[0m\n",
      "\u001b[34m[21:24:32] src/tree/updater_prune.cc:74: tree pruning end, 1 roots, 16 extra nodes, 6 pruned nodes, max_depth=5\u001b[0m\n",
      "\u001b[34m[89]#011train-error:0.107467#011validation-error:0.1577\u001b[0m\n",
      "\u001b[34m[21:24:34] src/tree/updater_prune.cc:74: tree pruning end, 1 roots, 26 extra nodes, 10 pruned nodes, max_depth=5\u001b[0m\n",
      "\u001b[34m[90]#011train-error:0.107867#011validation-error:0.1587\u001b[0m\n",
      "\u001b[34m[21:24:35] src/tree/updater_prune.cc:74: tree pruning end, 1 roots, 18 extra nodes, 12 pruned nodes, max_depth=5\u001b[0m\n",
      "\u001b[34m[91]#011train-error:0.1074#011validation-error:0.1583\u001b[0m\n",
      "\u001b[34m[21:24:37] src/tree/updater_prune.cc:74: tree pruning end, 1 roots, 12 extra nodes, 20 pruned nodes, max_depth=5\u001b[0m\n",
      "\u001b[34m[92]#011train-error:0.107067#011validation-error:0.1583\u001b[0m\n",
      "\u001b[34m[21:24:38] src/tree/updater_prune.cc:74: tree pruning end, 1 roots, 12 extra nodes, 6 pruned nodes, max_depth=5\u001b[0m\n",
      "\u001b[34m[93]#011train-error:0.106733#011validation-error:0.1575\u001b[0m\n",
      "\u001b[34m[21:24:39] src/tree/updater_prune.cc:74: tree pruning end, 1 roots, 20 extra nodes, 8 pruned nodes, max_depth=5\u001b[0m\n",
      "\u001b[34m[94]#011train-error:0.106533#011validation-error:0.1572\u001b[0m\n",
      "\u001b[34m[21:24:41] src/tree/updater_prune.cc:74: tree pruning end, 1 roots, 14 extra nodes, 4 pruned nodes, max_depth=5\u001b[0m\n",
      "\u001b[34m[95]#011train-error:0.105533#011validation-error:0.1565\u001b[0m\n",
      "\u001b[34m[21:24:42] src/tree/updater_prune.cc:74: tree pruning end, 1 roots, 20 extra nodes, 16 pruned nodes, max_depth=5\u001b[0m\n",
      "\u001b[34m[96]#011train-error:0.1048#011validation-error:0.1564\u001b[0m\n",
      "\u001b[34m[21:24:43] src/tree/updater_prune.cc:74: tree pruning end, 1 roots, 10 extra nodes, 8 pruned nodes, max_depth=5\u001b[0m\n",
      "\u001b[34m[97]#011train-error:0.1042#011validation-error:0.1562\u001b[0m\n",
      "\u001b[34m[21:24:45] src/tree/updater_prune.cc:74: tree pruning end, 1 roots, 22 extra nodes, 4 pruned nodes, max_depth=5\u001b[0m\n",
      "\u001b[34m[98]#011train-error:0.1044#011validation-error:0.1563\u001b[0m\n",
      "\u001b[34m[21:24:46] src/tree/updater_prune.cc:74: tree pruning end, 1 roots, 16 extra nodes, 8 pruned nodes, max_depth=5\u001b[0m\n",
      "\u001b[34m[99]#011train-error:0.103667#011validation-error:0.156\u001b[0m\n",
      "\u001b[34m[21:24:47] src/tree/updater_prune.cc:74: tree pruning end, 1 roots, 26 extra nodes, 10 pruned nodes, max_depth=5\u001b[0m\n",
      "\u001b[34m[100]#011train-error:0.1028#011validation-error:0.1556\u001b[0m\n",
      "\u001b[34m[21:24:49] src/tree/updater_prune.cc:74: tree pruning end, 1 roots, 18 extra nodes, 6 pruned nodes, max_depth=5\u001b[0m\n",
      "\u001b[34m[101]#011train-error:0.102733#011validation-error:0.156\u001b[0m\n",
      "\u001b[34m[21:24:50] src/tree/updater_prune.cc:74: tree pruning end, 1 roots, 20 extra nodes, 14 pruned nodes, max_depth=5\u001b[0m\n",
      "\u001b[34m[102]#011train-error:0.1024#011validation-error:0.1555\u001b[0m\n",
      "\u001b[34m[21:24:52] src/tree/updater_prune.cc:74: tree pruning end, 1 roots, 12 extra nodes, 16 pruned nodes, max_depth=5\u001b[0m\n",
      "\u001b[34m[103]#011train-error:0.102#011validation-error:0.1547\u001b[0m\n",
      "\u001b[34m[21:24:53] src/tree/updater_prune.cc:74: tree pruning end, 1 roots, 38 extra nodes, 6 pruned nodes, max_depth=5\u001b[0m\n",
      "\u001b[34m[104]#011train-error:0.100267#011validation-error:0.1532\u001b[0m\n",
      "\u001b[34m[21:24:54] src/tree/updater_prune.cc:74: tree pruning end, 1 roots, 10 extra nodes, 4 pruned nodes, max_depth=5\u001b[0m\n",
      "\u001b[34m[105]#011train-error:0.100467#011validation-error:0.1532\u001b[0m\n",
      "\u001b[34m[21:24:56] src/tree/updater_prune.cc:74: tree pruning end, 1 roots, 14 extra nodes, 12 pruned nodes, max_depth=5\u001b[0m\n",
      "\u001b[34m[106]#011train-error:0.100333#011validation-error:0.1539\u001b[0m\n",
      "\u001b[34m[21:24:57] src/tree/updater_prune.cc:74: tree pruning end, 1 roots, 20 extra nodes, 4 pruned nodes, max_depth=5\u001b[0m\n",
      "\u001b[34m[107]#011train-error:0.1004#011validation-error:0.1538\u001b[0m\n",
      "\u001b[34m[21:24:58] src/tree/updater_prune.cc:74: tree pruning end, 1 roots, 18 extra nodes, 16 pruned nodes, max_depth=5\u001b[0m\n",
      "\u001b[34m[108]#011train-error:0.099467#011validation-error:0.1532\u001b[0m\n",
      "\u001b[34m[21:25:00] src/tree/updater_prune.cc:74: tree pruning end, 1 roots, 12 extra nodes, 10 pruned nodes, max_depth=5\u001b[0m\n",
      "\u001b[34m[109]#011train-error:0.099133#011validation-error:0.1527\u001b[0m\n",
      "\u001b[34m[21:25:01] src/tree/updater_prune.cc:74: tree pruning end, 1 roots, 12 extra nodes, 12 pruned nodes, max_depth=5\u001b[0m\n",
      "\u001b[34m[110]#011train-error:0.0986#011validation-error:0.152\u001b[0m\n",
      "\u001b[34m[21:25:03] src/tree/updater_prune.cc:74: tree pruning end, 1 roots, 18 extra nodes, 20 pruned nodes, max_depth=5\u001b[0m\n",
      "\u001b[34m[111]#011train-error:0.098933#011validation-error:0.152\u001b[0m\n",
      "\u001b[34m[21:25:05] src/tree/updater_prune.cc:74: tree pruning end, 1 roots, 24 extra nodes, 14 pruned nodes, max_depth=5\u001b[0m\n",
      "\u001b[34m[112]#011train-error:0.098267#011validation-error:0.152\u001b[0m\n",
      "\u001b[34m[21:25:06] src/tree/updater_prune.cc:74: tree pruning end, 1 roots, 38 extra nodes, 8 pruned nodes, max_depth=5\u001b[0m\n",
      "\u001b[34m[113]#011train-error:0.097333#011validation-error:0.1518\u001b[0m\n",
      "\u001b[34m[21:25:07] src/tree/updater_prune.cc:74: tree pruning end, 1 roots, 24 extra nodes, 12 pruned nodes, max_depth=5\u001b[0m\n",
      "\u001b[34m[114]#011train-error:0.097133#011validation-error:0.1518\u001b[0m\n",
      "\u001b[34m[21:25:09] src/tree/updater_prune.cc:74: tree pruning end, 1 roots, 10 extra nodes, 8 pruned nodes, max_depth=5\u001b[0m\n",
      "\u001b[34m[115]#011train-error:0.096067#011validation-error:0.1514\u001b[0m\n",
      "\u001b[34m[21:25:10] src/tree/updater_prune.cc:74: tree pruning end, 1 roots, 12 extra nodes, 2 pruned nodes, max_depth=5\u001b[0m\n",
      "\u001b[34m[116]#011train-error:0.0958#011validation-error:0.1512\u001b[0m\n",
      "\u001b[34m[21:25:12] src/tree/updater_prune.cc:74: tree pruning end, 1 roots, 12 extra nodes, 8 pruned nodes, max_depth=5\u001b[0m\n",
      "\u001b[34m[117]#011train-error:0.095533#011validation-error:0.1508\u001b[0m\n",
      "\u001b[34m[21:25:13] src/tree/updater_prune.cc:74: tree pruning end, 1 roots, 12 extra nodes, 10 pruned nodes, max_depth=5\u001b[0m\n",
      "\u001b[34m[118]#011train-error:0.095333#011validation-error:0.1505\u001b[0m\n",
      "\u001b[34m[21:25:14] src/tree/updater_prune.cc:74: tree pruning end, 1 roots, 10 extra nodes, 8 pruned nodes, max_depth=5\u001b[0m\n",
      "\u001b[34m[119]#011train-error:0.095267#011validation-error:0.1501\u001b[0m\n",
      "\u001b[34m[21:25:16] src/tree/updater_prune.cc:74: tree pruning end, 1 roots, 10 extra nodes, 12 pruned nodes, max_depth=5\u001b[0m\n",
      "\u001b[34m[120]#011train-error:0.094733#011validation-error:0.1497\u001b[0m\n",
      "\u001b[34m[21:25:17] src/tree/updater_prune.cc:74: tree pruning end, 1 roots, 18 extra nodes, 4 pruned nodes, max_depth=5\u001b[0m\n",
      "\u001b[34m[121]#011train-error:0.0948#011validation-error:0.1491\u001b[0m\n",
      "\u001b[34m[21:25:18] src/tree/updater_prune.cc:74: tree pruning end, 1 roots, 12 extra nodes, 0 pruned nodes, max_depth=5\u001b[0m\n",
      "\u001b[34m[122]#011train-error:0.094333#011validation-error:0.1488\u001b[0m\n",
      "\u001b[34m[21:25:20] src/tree/updater_prune.cc:74: tree pruning end, 1 roots, 10 extra nodes, 8 pruned nodes, max_depth=5\u001b[0m\n",
      "\u001b[34m[123]#011train-error:0.094133#011validation-error:0.1485\u001b[0m\n",
      "\u001b[34m[21:25:21] src/tree/updater_prune.cc:74: tree pruning end, 1 roots, 18 extra nodes, 10 pruned nodes, max_depth=5\u001b[0m\n",
      "\u001b[34m[124]#011train-error:0.093533#011validation-error:0.1475\u001b[0m\n",
      "\u001b[34m[21:25:22] src/tree/updater_prune.cc:74: tree pruning end, 1 roots, 14 extra nodes, 6 pruned nodes, max_depth=5\u001b[0m\n",
      "\u001b[34m[125]#011train-error:0.0932#011validation-error:0.1482\u001b[0m\n",
      "\u001b[34m[21:25:24] src/tree/updater_prune.cc:74: tree pruning end, 1 roots, 16 extra nodes, 8 pruned nodes, max_depth=5\u001b[0m\n",
      "\u001b[34m[126]#011train-error:0.092733#011validation-error:0.1479\u001b[0m\n",
      "\u001b[34m[21:25:25] src/tree/updater_prune.cc:74: tree pruning end, 1 roots, 20 extra nodes, 8 pruned nodes, max_depth=5\u001b[0m\n",
      "\u001b[34m[127]#011train-error:0.091933#011validation-error:0.1481\u001b[0m\n",
      "\u001b[34m[21:25:27] src/tree/updater_prune.cc:74: tree pruning end, 1 roots, 16 extra nodes, 10 pruned nodes, max_depth=5\u001b[0m\n",
      "\u001b[34m[128]#011train-error:0.091467#011validation-error:0.1469\u001b[0m\n",
      "\u001b[34m[21:25:28] src/tree/updater_prune.cc:74: tree pruning end, 1 roots, 28 extra nodes, 14 pruned nodes, max_depth=5\u001b[0m\n",
      "\u001b[34m[129]#011train-error:0.0912#011validation-error:0.147\u001b[0m\n",
      "\u001b[34m[21:25:29] src/tree/updater_prune.cc:74: tree pruning end, 1 roots, 20 extra nodes, 8 pruned nodes, max_depth=5\u001b[0m\n",
      "\u001b[34m[130]#011train-error:0.090733#011validation-error:0.1475\u001b[0m\n",
      "\u001b[34m[21:25:31] src/tree/updater_prune.cc:74: tree pruning end, 1 roots, 18 extra nodes, 8 pruned nodes, max_depth=5\u001b[0m\n",
      "\u001b[34m[131]#011train-error:0.090867#011validation-error:0.1473\u001b[0m\n",
      "\u001b[34m[21:25:32] src/tree/updater_prune.cc:74: tree pruning end, 1 roots, 10 extra nodes, 8 pruned nodes, max_depth=5\u001b[0m\n",
      "\u001b[34m[132]#011train-error:0.090467#011validation-error:0.1481\u001b[0m\n",
      "\u001b[34m[21:25:33] src/tree/updater_prune.cc:74: tree pruning end, 1 roots, 28 extra nodes, 8 pruned nodes, max_depth=5\u001b[0m\n",
      "\u001b[34m[133]#011train-error:0.0894#011validation-error:0.1478\u001b[0m\n",
      "\u001b[34m[21:25:35] src/tree/updater_prune.cc:74: tree pruning end, 1 roots, 18 extra nodes, 10 pruned nodes, max_depth=5\u001b[0m\n",
      "\u001b[34m[134]#011train-error:0.089267#011validation-error:0.1481\u001b[0m\n",
      "\u001b[34m[21:25:36] src/tree/updater_prune.cc:74: tree pruning end, 1 roots, 14 extra nodes, 10 pruned nodes, max_depth=5\u001b[0m\n",
      "\u001b[34m[135]#011train-error:0.088933#011validation-error:0.1464\u001b[0m\n",
      "\u001b[34m[21:25:38] src/tree/updater_prune.cc:74: tree pruning end, 1 roots, 14 extra nodes, 8 pruned nodes, max_depth=5\u001b[0m\n",
      "\u001b[34m[136]#011train-error:0.0892#011validation-error:0.1461\u001b[0m\n",
      "\u001b[34m[21:25:39] src/tree/updater_prune.cc:74: tree pruning end, 1 roots, 14 extra nodes, 12 pruned nodes, max_depth=5\u001b[0m\n",
      "\u001b[34m[137]#011train-error:0.089267#011validation-error:0.1458\u001b[0m\n",
      "\u001b[34m[21:25:40] src/tree/updater_prune.cc:74: tree pruning end, 1 roots, 16 extra nodes, 10 pruned nodes, max_depth=5\u001b[0m\n",
      "\u001b[34m[138]#011train-error:0.088733#011validation-error:0.1458\u001b[0m\n",
      "\u001b[34m[21:25:42] src/tree/updater_prune.cc:74: tree pruning end, 1 roots, 10 extra nodes, 12 pruned nodes, max_depth=5\u001b[0m\n",
      "\u001b[34m[139]#011train-error:0.088533#011validation-error:0.1452\u001b[0m\n",
      "\u001b[34m[21:25:43] src/tree/updater_prune.cc:74: tree pruning end, 1 roots, 12 extra nodes, 6 pruned nodes, max_depth=5\u001b[0m\n",
      "\u001b[34m[140]#011train-error:0.0882#011validation-error:0.1452\u001b[0m\n",
      "\u001b[34m[21:25:44] src/tree/updater_prune.cc:74: tree pruning end, 1 roots, 18 extra nodes, 2 pruned nodes, max_depth=5\u001b[0m\n",
      "\u001b[34m[141]#011train-error:0.088#011validation-error:0.145\u001b[0m\n",
      "\u001b[34m[21:25:46] src/tree/updater_prune.cc:74: tree pruning end, 1 roots, 26 extra nodes, 10 pruned nodes, max_depth=5\u001b[0m\n",
      "\u001b[34m[142]#011train-error:0.0868#011validation-error:0.1449\u001b[0m\n",
      "\u001b[34m[21:25:47] src/tree/updater_prune.cc:74: tree pruning end, 1 roots, 10 extra nodes, 8 pruned nodes, max_depth=5\u001b[0m\n",
      "\u001b[34m[143]#011train-error:0.087733#011validation-error:0.1442\u001b[0m\n",
      "\u001b[34m[21:25:48] src/tree/updater_prune.cc:74: tree pruning end, 1 roots, 28 extra nodes, 6 pruned nodes, max_depth=5\u001b[0m\n",
      "\u001b[34m[144]#011train-error:0.0866#011validation-error:0.1442\u001b[0m\n",
      "\u001b[34m[21:25:50] src/tree/updater_prune.cc:74: tree pruning end, 1 roots, 10 extra nodes, 4 pruned nodes, max_depth=5\u001b[0m\n",
      "\u001b[34m[145]#011train-error:0.086467#011validation-error:0.1449\u001b[0m\n",
      "\u001b[34m[21:25:51] src/tree/updater_prune.cc:74: tree pruning end, 1 roots, 14 extra nodes, 12 pruned nodes, max_depth=5\u001b[0m\n",
      "\u001b[34m[146]#011train-error:0.0868#011validation-error:0.1434\u001b[0m\n",
      "\u001b[34m[21:25:52] src/tree/updater_prune.cc:74: tree pruning end, 1 roots, 10 extra nodes, 2 pruned nodes, max_depth=5\u001b[0m\n",
      "\u001b[34m[147]#011train-error:0.086267#011validation-error:0.1427\u001b[0m\n",
      "\u001b[34m[21:25:54] src/tree/updater_prune.cc:74: tree pruning end, 1 roots, 12 extra nodes, 6 pruned nodes, max_depth=5\u001b[0m\n",
      "\u001b[34m[148]#011train-error:0.085667#011validation-error:0.1427\u001b[0m\n",
      "\u001b[34m[21:25:55] src/tree/updater_prune.cc:74: tree pruning end, 1 roots, 12 extra nodes, 12 pruned nodes, max_depth=5\u001b[0m\n",
      "\u001b[34m[149]#011train-error:0.0848#011validation-error:0.1425\u001b[0m\n",
      "\u001b[34m[21:25:56] src/tree/updater_prune.cc:74: tree pruning end, 1 roots, 18 extra nodes, 12 pruned nodes, max_depth=5\u001b[0m\n",
      "\u001b[34m[150]#011train-error:0.084467#011validation-error:0.1424\u001b[0m\n",
      "\u001b[34m[21:25:58] src/tree/updater_prune.cc:74: tree pruning end, 1 roots, 18 extra nodes, 4 pruned nodes, max_depth=5\u001b[0m\n",
      "\u001b[34m[151]#011train-error:0.0842#011validation-error:0.1423\u001b[0m\n",
      "\u001b[34m[21:25:59] src/tree/updater_prune.cc:74: tree pruning end, 1 roots, 38 extra nodes, 10 pruned nodes, max_depth=5\u001b[0m\n",
      "\u001b[34m[152]#011train-error:0.082933#011validation-error:0.1424\u001b[0m\n",
      "\u001b[34m[21:26:01] src/tree/updater_prune.cc:74: tree pruning end, 1 roots, 14 extra nodes, 6 pruned nodes, max_depth=5\u001b[0m\n",
      "\u001b[34m[153]#011train-error:0.0824#011validation-error:0.1424\u001b[0m\n",
      "\u001b[34m[21:26:02] src/tree/updater_prune.cc:74: tree pruning end, 1 roots, 24 extra nodes, 6 pruned nodes, max_depth=5\u001b[0m\n",
      "\u001b[34m[154]#011train-error:0.082333#011validation-error:0.1411\u001b[0m\n",
      "\u001b[34m[21:26:04] src/tree/updater_prune.cc:74: tree pruning end, 1 roots, 16 extra nodes, 10 pruned nodes, max_depth=5\u001b[0m\n",
      "\u001b[34m[155]#011train-error:0.082267#011validation-error:0.1415\u001b[0m\n",
      "\u001b[34m[21:26:06] src/tree/updater_prune.cc:74: tree pruning end, 1 roots, 16 extra nodes, 14 pruned nodes, max_depth=5\u001b[0m\n",
      "\u001b[34m[156]#011train-error:0.0822#011validation-error:0.1419\u001b[0m\n",
      "\u001b[34m[21:26:07] src/tree/updater_prune.cc:74: tree pruning end, 1 roots, 10 extra nodes, 6 pruned nodes, max_depth=5\u001b[0m\n",
      "\u001b[34m[157]#011train-error:0.081933#011validation-error:0.1421\u001b[0m\n",
      "\u001b[34m[21:26:08] src/tree/updater_prune.cc:74: tree pruning end, 1 roots, 20 extra nodes, 12 pruned nodes, max_depth=5\u001b[0m\n",
      "\u001b[34m[158]#011train-error:0.081533#011validation-error:0.1421\u001b[0m\n",
      "\u001b[34m[21:26:10] src/tree/updater_prune.cc:74: tree pruning end, 1 roots, 24 extra nodes, 4 pruned nodes, max_depth=5\u001b[0m\n",
      "\u001b[34m[159]#011train-error:0.081667#011validation-error:0.1427\u001b[0m\n",
      "\u001b[34m[21:26:11] src/tree/updater_prune.cc:74: tree pruning end, 1 roots, 14 extra nodes, 16 pruned nodes, max_depth=5\u001b[0m\n",
      "\u001b[34m[160]#011train-error:0.081533#011validation-error:0.1419\u001b[0m\n",
      "\u001b[34m[21:26:12] src/tree/updater_prune.cc:74: tree pruning end, 1 roots, 16 extra nodes, 10 pruned nodes, max_depth=5\u001b[0m\n",
      "\u001b[34m[161]#011train-error:0.081267#011validation-error:0.1423\u001b[0m\n",
      "\u001b[34m[21:26:14] src/tree/updater_prune.cc:74: tree pruning end, 1 roots, 14 extra nodes, 4 pruned nodes, max_depth=5\u001b[0m\n",
      "\u001b[34m[162]#011train-error:0.081333#011validation-error:0.1428\u001b[0m\n",
      "\u001b[34m[21:26:15] src/tree/updater_prune.cc:74: tree pruning end, 1 roots, 14 extra nodes, 8 pruned nodes, max_depth=5\u001b[0m\n",
      "\u001b[34m[163]#011train-error:0.080733#011validation-error:0.1425\u001b[0m\n",
      "\u001b[34m[21:26:16] src/tree/updater_prune.cc:74: tree pruning end, 1 roots, 10 extra nodes, 4 pruned nodes, max_depth=5\u001b[0m\n",
      "\u001b[34m[164]#011train-error:0.0806#011validation-error:0.1432\u001b[0m\n",
      "\u001b[34mStopping. Best iteration:\u001b[0m\n",
      "\u001b[34m[154]#011train-error:0.082333#011validation-error:0.1411\n",
      "\u001b[0m\n",
      "\n",
      "2021-04-24 21:26:24 Uploading - Uploading generated training model\n",
      "2021-04-24 21:26:24 Completed - Training job completed\n",
      "Training seconds: 295\n",
      "Billable seconds: 295\n"
     ]
    }
   ],
   "source": [
    "xgb.fit({'train': s3_input_train, 'validation': s3_input_validation})"
   ]
  },
  {
   "cell_type": "markdown",
   "metadata": {},
   "source": [
    "## Step 5: Testing the model\n",
    "\n",
    "Now that we've fit our XGBoost model, it's time to see how well it performs. To do this we will use SageMakers Batch Transform functionality. Batch Transform is a convenient way to perform inference on a large dataset in a way that is not realtime. That is, we don't necessarily need to use our model's results immediately and instead we can perform inference on a large number of samples. An example of this in industry might be performing an end of month report. This method of inference can also be useful to us as it means that we can perform inference on our entire test set. \n",
    "\n",
    "To perform a Batch Transformation we need to first create a transformer objects from our trained estimator object."
   ]
  },
  {
   "cell_type": "code",
   "execution_count": 28,
   "metadata": {},
   "outputs": [
    {
     "name": "stderr",
     "output_type": "stream",
     "text": [
      "Parameter image will be renamed to image_uri in SageMaker Python SDK v2.\n"
     ]
    }
   ],
   "source": [
    "xgb_transformer = xgb.transformer(instance_count = 1, instance_type = 'ml.m4.xlarge')"
   ]
  },
  {
   "cell_type": "markdown",
   "metadata": {},
   "source": [
    "Next we actually perform the transform job. When doing so we need to make sure to specify the type of data we are sending so that it is serialized correctly in the background. In our case we are providing our model with csv data so we specify `text/csv`. Also, if the test data that we have provided is too large to process all at once then we need to specify how the data file should be split up. Since each line is a single entry in our data set we tell SageMaker that it can split the input on each line."
   ]
  },
  {
   "cell_type": "code",
   "execution_count": 29,
   "metadata": {},
   "outputs": [],
   "source": [
    "xgb_transformer.transform(test_location, content_type='text/csv', split_type='Line')"
   ]
  },
  {
   "cell_type": "markdown",
   "metadata": {},
   "source": [
    "Currently the transform job is running but it is doing so in the background. Since we wish to wait until the transform job is done and we would like a bit of feedback we can run the `wait()` method."
   ]
  },
  {
   "cell_type": "code",
   "execution_count": 30,
   "metadata": {},
   "outputs": [
    {
     "name": "stdout",
     "output_type": "stream",
     "text": [
      ".............................\u001b[34mArguments: serve\u001b[0m\n",
      "\u001b[34m[2021-04-24 21:35:18 +0000] [1] [INFO] Starting gunicorn 19.9.0\u001b[0m\n",
      "\u001b[34m[2021-04-24 21:35:18 +0000] [1] [INFO] Listening at: http://0.0.0.0:8080 (1)\u001b[0m\n",
      "\u001b[34m[2021-04-24 21:35:18 +0000] [1] [INFO] Using worker: gevent\u001b[0m\n",
      "\u001b[34m[2021-04-24 21:35:18 +0000] [20] [INFO] Booting worker with pid: 20\u001b[0m\n",
      "\u001b[34m/opt/amazon/lib/python3.7/site-packages/gunicorn/workers/ggevent.py:65: MonkeyPatchWarning: Monkey-patching ssl after ssl has already been imported may lead to errors, including RecursionError on Python 3.6. It may also silently lead to incorrect behaviour on Python 3.7. Please monkey-patch earlier. See https://github.com/gevent/gevent/issues/1016. Modules that had direct imports (NOT patched): ['urllib3.util (/opt/amazon/lib/python3.7/site-packages/urllib3/util/__init__.py)', 'urllib3.util.ssl_ (/opt/amazon/lib/python3.7/site-packages/urllib3/util/ssl_.py)']. \n",
      "  monkey.patch_all(subprocess=True)\u001b[0m\n",
      "\u001b[34m[2021-04-24:21:35:18:INFO] Model loaded successfully for worker : 20\u001b[0m\n",
      "\u001b[34m[2021-04-24 21:35:18 +0000] [21] [INFO] Booting worker with pid: 21\u001b[0m\n",
      "\u001b[35mArguments: serve\u001b[0m\n",
      "\u001b[35m[2021-04-24 21:35:18 +0000] [1] [INFO] Starting gunicorn 19.9.0\u001b[0m\n",
      "\u001b[35m[2021-04-24 21:35:18 +0000] [1] [INFO] Listening at: http://0.0.0.0:8080 (1)\u001b[0m\n",
      "\u001b[35m[2021-04-24 21:35:18 +0000] [1] [INFO] Using worker: gevent\u001b[0m\n",
      "\u001b[35m[2021-04-24 21:35:18 +0000] [20] [INFO] Booting worker with pid: 20\u001b[0m\n",
      "\u001b[35m/opt/amazon/lib/python3.7/site-packages/gunicorn/workers/ggevent.py:65: MonkeyPatchWarning: Monkey-patching ssl after ssl has already been imported may lead to errors, including RecursionError on Python 3.6. It may also silently lead to incorrect behaviour on Python 3.7. Please monkey-patch earlier. See https://github.com/gevent/gevent/issues/1016. Modules that had direct imports (NOT patched): ['urllib3.util (/opt/amazon/lib/python3.7/site-packages/urllib3/util/__init__.py)', 'urllib3.util.ssl_ (/opt/amazon/lib/python3.7/site-packages/urllib3/util/ssl_.py)']. \n",
      "  monkey.patch_all(subprocess=True)\u001b[0m\n",
      "\u001b[35m[2021-04-24:21:35:18:INFO] Model loaded successfully for worker : 20\u001b[0m\n",
      "\u001b[35m[2021-04-24 21:35:18 +0000] [21] [INFO] Booting worker with pid: 21\u001b[0m\n",
      "\u001b[34m/opt/amazon/lib/python3.7/site-packages/gunicorn/workers/ggevent.py:65: MonkeyPatchWarning: Monkey-patching ssl after ssl has already been imported may lead to errors, including RecursionError on Python 3.6. It may also silently lead to incorrect behaviour on Python 3.7. Please monkey-patch earlier. See https://github.com/gevent/gevent/issues/1016. Modules that had direct imports (NOT patched): ['urllib3.util (/opt/amazon/lib/python3.7/site-packages/urllib3/util/__init__.py)', 'urllib3.util.ssl_ (/opt/amazon/lib/python3.7/site-packages/urllib3/util/ssl_.py)']. \n",
      "  monkey.patch_all(subprocess=True)\u001b[0m\n",
      "\u001b[34m[2021-04-24:21:35:18:INFO] Model loaded successfully for worker : 21\u001b[0m\n",
      "\u001b[34m[2021-04-24 21:35:18 +0000] [22] [INFO] Booting worker with pid: 22\u001b[0m\n",
      "\u001b[34m[2021-04-24 21:35:18 +0000] [23] [INFO] Booting worker with pid: 23\u001b[0m\n",
      "\u001b[34m/opt/amazon/lib/python3.7/site-packages/gunicorn/workers/ggevent.py:65: MonkeyPatchWarning: Monkey-patching ssl after ssl has already been imported may lead to errors, including RecursionError on Python 3.6. It may also silently lead to incorrect behaviour on Python 3.7. Please monkey-patch earlier. See https://github.com/gevent/gevent/issues/1016. Modules that had direct imports (NOT patched): ['urllib3.util (/opt/amazon/lib/python3.7/site-packages/urllib3/util/__init__.py)', 'urllib3.util.ssl_ (/opt/amazon/lib/python3.7/site-packages/urllib3/util/ssl_.py)']. \n",
      "  monkey.patch_all(subprocess=True)\u001b[0m\n",
      "\u001b[34m[2021-04-24:21:35:18:INFO] Model loaded successfully for worker : 22\u001b[0m\n",
      "\u001b[34m/opt/amazon/lib/python3.7/site-packages/gunicorn/workers/ggevent.py:65: MonkeyPatchWarning: Monkey-patching ssl after ssl has already been imported may lead to errors, including RecursionError on Python 3.6. It may also silently lead to incorrect behaviour on Python 3.7. Please monkey-patch earlier. See https://github.com/gevent/gevent/issues/1016. Modules that had direct imports (NOT patched): ['urllib3.util (/opt/amazon/lib/python3.7/site-packages/urllib3/util/__init__.py)', 'urllib3.util.ssl_ (/opt/amazon/lib/python3.7/site-packages/urllib3/util/ssl_.py)']. \n",
      "  monkey.patch_all(subprocess=True)\u001b[0m\n",
      "\u001b[34m[2021-04-24:21:35:18:INFO] Model loaded successfully for worker : 23\u001b[0m\n",
      "\u001b[35m/opt/amazon/lib/python3.7/site-packages/gunicorn/workers/ggevent.py:65: MonkeyPatchWarning: Monkey-patching ssl after ssl has already been imported may lead to errors, including RecursionError on Python 3.6. It may also silently lead to incorrect behaviour on Python 3.7. Please monkey-patch earlier. See https://github.com/gevent/gevent/issues/1016. Modules that had direct imports (NOT patched): ['urllib3.util (/opt/amazon/lib/python3.7/site-packages/urllib3/util/__init__.py)', 'urllib3.util.ssl_ (/opt/amazon/lib/python3.7/site-packages/urllib3/util/ssl_.py)']. \n",
      "  monkey.patch_all(subprocess=True)\u001b[0m\n",
      "\u001b[35m[2021-04-24:21:35:18:INFO] Model loaded successfully for worker : 21\u001b[0m\n",
      "\u001b[35m[2021-04-24 21:35:18 +0000] [22] [INFO] Booting worker with pid: 22\u001b[0m\n",
      "\u001b[35m[2021-04-24 21:35:18 +0000] [23] [INFO] Booting worker with pid: 23\u001b[0m\n",
      "\u001b[35m/opt/amazon/lib/python3.7/site-packages/gunicorn/workers/ggevent.py:65: MonkeyPatchWarning: Monkey-patching ssl after ssl has already been imported may lead to errors, including RecursionError on Python 3.6. It may also silently lead to incorrect behaviour on Python 3.7. Please monkey-patch earlier. See https://github.com/gevent/gevent/issues/1016. Modules that had direct imports (NOT patched): ['urllib3.util (/opt/amazon/lib/python3.7/site-packages/urllib3/util/__init__.py)', 'urllib3.util.ssl_ (/opt/amazon/lib/python3.7/site-packages/urllib3/util/ssl_.py)']. \n",
      "  monkey.patch_all(subprocess=True)\u001b[0m\n",
      "\u001b[35m[2021-04-24:21:35:18:INFO] Model loaded successfully for worker : 22\u001b[0m\n",
      "\u001b[35m/opt/amazon/lib/python3.7/site-packages/gunicorn/workers/ggevent.py:65: MonkeyPatchWarning: Monkey-patching ssl after ssl has already been imported may lead to errors, including RecursionError on Python 3.6. It may also silently lead to incorrect behaviour on Python 3.7. Please monkey-patch earlier. See https://github.com/gevent/gevent/issues/1016. Modules that had direct imports (NOT patched): ['urllib3.util (/opt/amazon/lib/python3.7/site-packages/urllib3/util/__init__.py)', 'urllib3.util.ssl_ (/opt/amazon/lib/python3.7/site-packages/urllib3/util/ssl_.py)']. \n",
      "  monkey.patch_all(subprocess=True)\u001b[0m\n",
      "\u001b[35m[2021-04-24:21:35:18:INFO] Model loaded successfully for worker : 23\u001b[0m\n",
      "\u001b[32m2021-04-24T21:35:22.175:[sagemaker logs]: MaxConcurrentTransforms=4, MaxPayloadInMB=6, BatchStrategy=MULTI_RECORD\u001b[0m\n",
      "\u001b[34m[2021-04-24:21:35:25:INFO] Sniff delimiter as ','\u001b[0m\n",
      "\u001b[34m[2021-04-24:21:35:25:INFO] Determined delimiter of CSV input is ','\u001b[0m\n",
      "\u001b[34m[2021-04-24:21:35:25:INFO] Sniff delimiter as ','\u001b[0m\n",
      "\u001b[34m[2021-04-24:21:35:25:INFO] Determined delimiter of CSV input is ','\u001b[0m\n",
      "\u001b[34m[2021-04-24:21:35:25:INFO] Sniff delimiter as ','\u001b[0m\n",
      "\u001b[34m[2021-04-24:21:35:25:INFO] Determined delimiter of CSV input is ','\u001b[0m\n",
      "\u001b[34m[2021-04-24:21:35:25:INFO] Sniff delimiter as ','\u001b[0m\n",
      "\u001b[34m[2021-04-24:21:35:25:INFO] Determined delimiter of CSV input is ','\u001b[0m\n",
      "\u001b[35m[2021-04-24:21:35:25:INFO] Sniff delimiter as ','\u001b[0m\n",
      "\u001b[35m[2021-04-24:21:35:25:INFO] Determined delimiter of CSV input is ','\u001b[0m\n",
      "\u001b[35m[2021-04-24:21:35:25:INFO] Sniff delimiter as ','\u001b[0m\n",
      "\u001b[35m[2021-04-24:21:35:25:INFO] Determined delimiter of CSV input is ','\u001b[0m\n",
      "\u001b[35m[2021-04-24:21:35:25:INFO] Sniff delimiter as ','\u001b[0m\n",
      "\u001b[35m[2021-04-24:21:35:25:INFO] Determined delimiter of CSV input is ','\u001b[0m\n",
      "\u001b[35m[2021-04-24:21:35:25:INFO] Sniff delimiter as ','\u001b[0m\n",
      "\u001b[35m[2021-04-24:21:35:25:INFO] Determined delimiter of CSV input is ','\u001b[0m\n",
      "\u001b[34m[2021-04-24:21:35:29:INFO] Sniff delimiter as ','\u001b[0m\n",
      "\u001b[34m[2021-04-24:21:35:29:INFO] Determined delimiter of CSV input is ','\u001b[0m\n",
      "\u001b[34m[2021-04-24:21:35:29:INFO] Sniff delimiter as ','\u001b[0m\n",
      "\u001b[34m[2021-04-24:21:35:29:INFO] Determined delimiter of CSV input is ','\u001b[0m\n",
      "\u001b[34m[2021-04-24:21:35:29:INFO] Sniff delimiter as ','\u001b[0m\n",
      "\u001b[34m[2021-04-24:21:35:29:INFO] Determined delimiter of CSV input is ','\u001b[0m\n",
      "\u001b[34m[2021-04-24:21:35:29:INFO] Sniff delimiter as ','\u001b[0m\n",
      "\u001b[34m[2021-04-24:21:35:29:INFO] Determined delimiter of CSV input is ','\u001b[0m\n",
      "\u001b[35m[2021-04-24:21:35:29:INFO] Sniff delimiter as ','\u001b[0m\n",
      "\u001b[35m[2021-04-24:21:35:29:INFO] Determined delimiter of CSV input is ','\u001b[0m\n",
      "\u001b[35m[2021-04-24:21:35:29:INFO] Sniff delimiter as ','\u001b[0m\n",
      "\u001b[35m[2021-04-24:21:35:29:INFO] Determined delimiter of CSV input is ','\u001b[0m\n",
      "\u001b[35m[2021-04-24:21:35:29:INFO] Sniff delimiter as ','\u001b[0m\n",
      "\u001b[35m[2021-04-24:21:35:29:INFO] Determined delimiter of CSV input is ','\u001b[0m\n",
      "\u001b[35m[2021-04-24:21:35:29:INFO] Sniff delimiter as ','\u001b[0m\n",
      "\u001b[35m[2021-04-24:21:35:29:INFO] Determined delimiter of CSV input is ','\u001b[0m\n",
      "\u001b[34m[2021-04-24:21:35:36:INFO] Sniff delimiter as ','\u001b[0m\n",
      "\u001b[34m[2021-04-24:21:35:36:INFO] Determined delimiter of CSV input is ','\u001b[0m\n",
      "\u001b[34m[2021-04-24:21:35:37:INFO] Sniff delimiter as ','\u001b[0m\n",
      "\u001b[35m[2021-04-24:21:35:36:INFO] Sniff delimiter as ','\u001b[0m\n",
      "\u001b[35m[2021-04-24:21:35:36:INFO] Determined delimiter of CSV input is ','\u001b[0m\n",
      "\u001b[35m[2021-04-24:21:35:37:INFO] Sniff delimiter as ','\u001b[0m\n",
      "\u001b[34m[2021-04-24:21:35:37:INFO] Determined delimiter of CSV input is ','\u001b[0m\n",
      "\u001b[35m[2021-04-24:21:35:37:INFO] Determined delimiter of CSV input is ','\u001b[0m\n",
      "\u001b[34m[2021-04-24:21:35:37:INFO] Determined delimiter of CSV input is ','\u001b[0m\n",
      "\u001b[34m[2021-04-24:21:35:37:INFO] Sniff delimiter as ','\u001b[0m\n",
      "\u001b[34m[2021-04-24:21:35:37:INFO] Determined delimiter of CSV input is ','\u001b[0m\n",
      "\u001b[35m[2021-04-24:21:35:37:INFO] Determined delimiter of CSV input is ','\u001b[0m\n",
      "\u001b[35m[2021-04-24:21:35:37:INFO] Sniff delimiter as ','\u001b[0m\n",
      "\u001b[35m[2021-04-24:21:35:37:INFO] Determined delimiter of CSV input is ','\u001b[0m\n",
      "\u001b[34m[2021-04-24:21:35:40:INFO] Sniff delimiter as ','\u001b[0m\n",
      "\u001b[34m[2021-04-24:21:35:40:INFO] Determined delimiter of CSV input is ','\u001b[0m\n",
      "\u001b[34m[2021-04-24:21:35:40:INFO] Sniff delimiter as ','\u001b[0m\n",
      "\u001b[34m[2021-04-24:21:35:40:INFO] Determined delimiter of CSV input is ','\u001b[0m\n",
      "\u001b[34m[2021-04-24:21:35:41:INFO] Sniff delimiter as ','\u001b[0m\n",
      "\u001b[35m[2021-04-24:21:35:40:INFO] Sniff delimiter as ','\u001b[0m\n",
      "\u001b[35m[2021-04-24:21:35:40:INFO] Determined delimiter of CSV input is ','\u001b[0m\n",
      "\u001b[35m[2021-04-24:21:35:40:INFO] Sniff delimiter as ','\u001b[0m\n",
      "\u001b[35m[2021-04-24:21:35:40:INFO] Determined delimiter of CSV input is ','\u001b[0m\n",
      "\u001b[35m[2021-04-24:21:35:41:INFO] Sniff delimiter as ','\u001b[0m\n",
      "\u001b[34m[2021-04-24:21:35:41:INFO] Determined delimiter of CSV input is ','\u001b[0m\n",
      "\u001b[35m[2021-04-24:21:35:41:INFO] Determined delimiter of CSV input is ','\u001b[0m\n",
      "\u001b[34m[2021-04-24:21:35:41:INFO] Sniff delimiter as ','\u001b[0m\n",
      "\u001b[34m[2021-04-24:21:35:41:INFO] Determined delimiter of CSV input is ','\u001b[0m\n",
      "\u001b[35m[2021-04-24:21:35:41:INFO] Sniff delimiter as ','\u001b[0m\n",
      "\u001b[35m[2021-04-24:21:35:41:INFO] Determined delimiter of CSV input is ','\u001b[0m\n",
      "\u001b[34m[2021-04-24:21:35:44:INFO] Sniff delimiter as ','\u001b[0m\n",
      "\u001b[34m[2021-04-24:21:35:44:INFO] Determined delimiter of CSV input is ','\u001b[0m\n",
      "\u001b[34m[2021-04-24:21:35:44:INFO] Sniff delimiter as ','\u001b[0m\n",
      "\u001b[34m[2021-04-24:21:35:44:INFO] Determined delimiter of CSV input is ','\u001b[0m\n",
      "\u001b[34m[2021-04-24:21:35:44:INFO] Sniff delimiter as ','\u001b[0m\n",
      "\u001b[34m[2021-04-24:21:35:44:INFO] Determined delimiter of CSV input is ','\u001b[0m\n",
      "\u001b[35m[2021-04-24:21:35:44:INFO] Sniff delimiter as ','\u001b[0m\n",
      "\u001b[35m[2021-04-24:21:35:44:INFO] Determined delimiter of CSV input is ','\u001b[0m\n",
      "\u001b[35m[2021-04-24:21:35:44:INFO] Sniff delimiter as ','\u001b[0m\n",
      "\u001b[35m[2021-04-24:21:35:44:INFO] Determined delimiter of CSV input is ','\u001b[0m\n",
      "\u001b[35m[2021-04-24:21:35:44:INFO] Sniff delimiter as ','\u001b[0m\n",
      "\u001b[35m[2021-04-24:21:35:44:INFO] Determined delimiter of CSV input is ','\u001b[0m\n",
      "\u001b[34m[2021-04-24:21:35:45:INFO] Sniff delimiter as ','\u001b[0m\n",
      "\u001b[34m[2021-04-24:21:35:45:INFO] Determined delimiter of CSV input is ','\u001b[0m\n",
      "\u001b[35m[2021-04-24:21:35:45:INFO] Sniff delimiter as ','\u001b[0m\n",
      "\u001b[35m[2021-04-24:21:35:45:INFO] Determined delimiter of CSV input is ','\u001b[0m\n",
      "\u001b[34m[2021-04-24:21:35:48:INFO] Sniff delimiter as ','\u001b[0m\n",
      "\u001b[34m[2021-04-24:21:35:48:INFO] Determined delimiter of CSV input is ','\u001b[0m\n",
      "\u001b[34m[2021-04-24:21:35:48:INFO] Sniff delimiter as ','\u001b[0m\n",
      "\u001b[34m[2021-04-24:21:35:48:INFO] Determined delimiter of CSV input is ','\u001b[0m\n",
      "\u001b[34m[2021-04-24:21:35:48:INFO] Sniff delimiter as ','\u001b[0m\n",
      "\u001b[34m[2021-04-24:21:35:48:INFO] Determined delimiter of CSV input is ','\u001b[0m\n",
      "\u001b[34m[2021-04-24:21:35:48:INFO] Sniff delimiter as ','\u001b[0m\n",
      "\u001b[34m[2021-04-24:21:35:48:INFO] Determined delimiter of CSV input is ','\u001b[0m\n",
      "\u001b[35m[2021-04-24:21:35:48:INFO] Sniff delimiter as ','\u001b[0m\n",
      "\u001b[35m[2021-04-24:21:35:48:INFO] Determined delimiter of CSV input is ','\u001b[0m\n",
      "\u001b[35m[2021-04-24:21:35:48:INFO] Sniff delimiter as ','\u001b[0m\n",
      "\u001b[35m[2021-04-24:21:35:48:INFO] Determined delimiter of CSV input is ','\u001b[0m\n",
      "\u001b[35m[2021-04-24:21:35:48:INFO] Sniff delimiter as ','\u001b[0m\n",
      "\u001b[35m[2021-04-24:21:35:48:INFO] Determined delimiter of CSV input is ','\u001b[0m\n",
      "\u001b[35m[2021-04-24:21:35:48:INFO] Sniff delimiter as ','\u001b[0m\n",
      "\u001b[35m[2021-04-24:21:35:48:INFO] Determined delimiter of CSV input is ','\u001b[0m\n",
      "\u001b[34m[2021-04-24:21:35:56:INFO] Sniff delimiter as ','\u001b[0m\n",
      "\u001b[34m[2021-04-24:21:35:56:INFO] Determined delimiter of CSV input is ','\u001b[0m\n",
      "\u001b[35m[2021-04-24:21:35:56:INFO] Sniff delimiter as ','\u001b[0m\n",
      "\u001b[35m[2021-04-24:21:35:56:INFO] Determined delimiter of CSV input is ','\u001b[0m\n",
      "\u001b[34m[2021-04-24:21:35:56:INFO] Sniff delimiter as ','\u001b[0m\n",
      "\u001b[34m[2021-04-24:21:35:56:INFO] Determined delimiter of CSV input is ','\u001b[0m\n",
      "\u001b[34m[2021-04-24:21:35:56:INFO] Sniff delimiter as ','\u001b[0m\n",
      "\u001b[34m[2021-04-24:21:35:56:INFO] Determined delimiter of CSV input is ','\u001b[0m\n",
      "\u001b[34m[2021-04-24:21:35:56:INFO] Sniff delimiter as ','\u001b[0m\n",
      "\u001b[34m[2021-04-24:21:35:56:INFO] Determined delimiter of CSV input is ','\u001b[0m\n",
      "\u001b[35m[2021-04-24:21:35:56:INFO] Sniff delimiter as ','\u001b[0m\n",
      "\u001b[35m[2021-04-24:21:35:56:INFO] Determined delimiter of CSV input is ','\u001b[0m\n",
      "\u001b[35m[2021-04-24:21:35:56:INFO] Sniff delimiter as ','\u001b[0m\n",
      "\u001b[35m[2021-04-24:21:35:56:INFO] Determined delimiter of CSV input is ','\u001b[0m\n",
      "\u001b[35m[2021-04-24:21:35:56:INFO] Sniff delimiter as ','\u001b[0m\n",
      "\u001b[35m[2021-04-24:21:35:56:INFO] Determined delimiter of CSV input is ','\u001b[0m\n",
      "\n",
      "\u001b[34m[2021-04-24:21:36:00:INFO] Sniff delimiter as ','\u001b[0m\n",
      "\u001b[34m[2021-04-24:21:36:00:INFO] Determined delimiter of CSV input is ','\u001b[0m\n",
      "\u001b[35m[2021-04-24:21:36:00:INFO] Sniff delimiter as ','\u001b[0m\n",
      "\u001b[35m[2021-04-24:21:36:00:INFO] Determined delimiter of CSV input is ','\u001b[0m\n"
     ]
    }
   ],
   "source": [
    "xgb_transformer.wait()"
   ]
  },
  {
   "cell_type": "markdown",
   "metadata": {},
   "source": [
    "Now the transform job has executed and the result, the estimated sentiment of each review, has been saved on S3. Since we would rather work on this file locally we can perform a bit of notebook magic to copy the file to the `data_dir`."
   ]
  },
  {
   "cell_type": "code",
   "execution_count": 31,
   "metadata": {},
   "outputs": [
    {
     "name": "stdout",
     "output_type": "stream",
     "text": [
      "download: s3://sagemaker-us-east-1-399684875495/xgboost-2021-04-24-21-30-40-488/test.csv.out to ../data/sentiment_web_app/test.csv.out\n"
     ]
    }
   ],
   "source": [
    "!aws s3 cp --recursive $xgb_transformer.output_path $data_dir"
   ]
  },
  {
   "cell_type": "markdown",
   "metadata": {},
   "source": [
    "The last step is now to read in the output from our model, convert the output to something a little more usable, in this case we want the sentiment to be either `1` (positive) or `0` (negative), and then compare to the ground truth labels."
   ]
  },
  {
   "cell_type": "code",
   "execution_count": 32,
   "metadata": {},
   "outputs": [],
   "source": [
    "predictions = pd.read_csv(os.path.join(data_dir, 'test.csv.out'), header=None)\n",
    "predictions = [round(num) for num in predictions.squeeze().values]"
   ]
  },
  {
   "cell_type": "code",
   "execution_count": 33,
   "metadata": {},
   "outputs": [
    {
     "data": {
      "text/plain": [
       "0.8564"
      ]
     },
     "execution_count": 33,
     "metadata": {},
     "output_type": "execute_result"
    }
   ],
   "source": [
    "from sklearn.metrics import accuracy_score\n",
    "accuracy_score(test_y, predictions)"
   ]
  },
  {
   "cell_type": "markdown",
   "metadata": {},
   "source": [
    "## Step 6: Deploying the model\n",
    "\n",
    "Once we construct and fit our model, SageMaker stores the resulting model artifacts and we can use those to deploy an endpoint (inference code). To see this, look in the SageMaker console and you should see that a model has been created along with a link to the S3 location where the model artifacts have been stored.\n",
    "\n",
    "Deploying an endpoint is a lot like training the model with a few important differences. The first is that a deployed model doesn't change the model artifacts, so as you send it various testing instances the model won't change. Another difference is that since we aren't performing a fixed computation, as we were in the training step or while performing a batch transform, the compute instance that gets started stays running until we tell it to stop. This is important to note as if we forget and leave it running we will be charged the entire time.\n",
    "\n",
    "In other words **If you are no longer using a deployed endpoint, shut it down!**"
   ]
  },
  {
   "cell_type": "code",
   "execution_count": 34,
   "metadata": {},
   "outputs": [
    {
     "name": "stderr",
     "output_type": "stream",
     "text": [
      "Parameter image will be renamed to image_uri in SageMaker Python SDK v2.\n",
      "Using already existing model: xgboost-2021-04-24-21-18-41-974\n"
     ]
    },
    {
     "name": "stdout",
     "output_type": "stream",
     "text": [
      "---------------!"
     ]
    }
   ],
   "source": [
    "xgb_predictor = xgb.deploy(initial_instance_count = 1, instance_type = 'ml.m4.xlarge')"
   ]
  },
  {
   "cell_type": "markdown",
   "metadata": {},
   "source": [
    "### Testing the model (again)\n",
    "\n",
    "Now that we have deployed our endpoint, we can send the testing data to it and get back the inference results. We already did this earlier using the batch transform functionality of SageMaker, however, we will test our model again using the newly deployed endpoint so that we can make sure that it works properly and to get a bit of a feel for how the endpoint works.\n",
    "\n",
    "When using the created endpoint it is important to know that we are limited in the amount of information we can send in each call so we need to break the testing data up into chunks and then send each chunk. Also, we need to serialize our data before we send it to the endpoint to ensure that our data is transmitted properly. Fortunately, SageMaker can do the serialization part for us provided we tell it the format of our data."
   ]
  },
  {
   "cell_type": "code",
   "execution_count": 35,
   "metadata": {},
   "outputs": [],
   "source": [
    "from sagemaker.predictor import csv_serializer\n",
    "\n",
    "# We need to tell the endpoint what format the data we are sending is in so that SageMaker can perform the serialization.\n",
    "xgb_predictor.content_type = 'text/csv'\n",
    "xgb_predictor.serializer = csv_serializer"
   ]
  },
  {
   "cell_type": "code",
   "execution_count": 36,
   "metadata": {},
   "outputs": [],
   "source": [
    "# We split the data into chunks and send each chunk seperately, accumulating the results.\n",
    "\n",
    "def predict(data, rows=512):\n",
    "    split_array = np.array_split(data, int(data.shape[0] / float(rows) + 1))\n",
    "    predictions = ''\n",
    "    for array in split_array:\n",
    "        predictions = ','.join([predictions, xgb_predictor.predict(array).decode('utf-8')])\n",
    "    \n",
    "    return np.fromstring(predictions[1:], sep=',')"
   ]
  },
  {
   "cell_type": "code",
   "execution_count": 37,
   "metadata": {},
   "outputs": [],
   "source": [
    "test_X = pd.read_csv(os.path.join(data_dir, 'test.csv'), header=None).values\n",
    "\n",
    "predictions = predict(test_X)\n",
    "predictions = [round(num) for num in predictions]"
   ]
  },
  {
   "cell_type": "markdown",
   "metadata": {},
   "source": [
    "Lastly, we check to see what the accuracy of our model is."
   ]
  },
  {
   "cell_type": "code",
   "execution_count": 38,
   "metadata": {},
   "outputs": [
    {
     "data": {
      "text/plain": [
       "0.8564"
      ]
     },
     "execution_count": 38,
     "metadata": {},
     "output_type": "execute_result"
    }
   ],
   "source": [
    "from sklearn.metrics import accuracy_score\n",
    "accuracy_score(test_y, predictions)"
   ]
  },
  {
   "cell_type": "markdown",
   "metadata": {},
   "source": [
    "And the results here should agree with the model testing that we did earlier using the batch transform job.\n",
    "\n",
    "### Cleaning up\n",
    "\n",
    "Now that we've determined that deploying our model works as expected, we are going to shut it down. Remember that the longer the endpoint is left running, the greater the cost and since we have a bit more work to do before we are able to use our endpoint with our simple web app, we should shut everything down."
   ]
  },
  {
   "cell_type": "code",
   "execution_count": 39,
   "metadata": {},
   "outputs": [],
   "source": [
    "xgb_predictor.delete_endpoint()"
   ]
  },
  {
   "cell_type": "markdown",
   "metadata": {},
   "source": [
    "## Step 7: Putting our model to work\n",
    "\n",
    "As we've mentioned a few times now, our goal is to have our model deployed and then access it using a very simple web app. The intent is for this web app to take some user submitted data (a review), send it off to our endpoint (the model) and then display the result.\n",
    "\n",
    "However, there is a small catch. Currently the only way we can access the endpoint to send it data is using the SageMaker API. We can, if we wish, expose the actual URL that our model's endpoint is receiving data from, however, if we just send it data ourselves we will not get anything in return. This is because the endpoint created by SageMaker requires the entity accessing it have the correct permissions. So, we would need to somehow authenticate our web app with AWS.\n",
    "\n",
    "Having a website that authenticates to AWS seems a bit beyond the scope of this lesson so we will opt for an alternative approach. Namely, we will create a new endpoint which does not require authentication and which acts as a proxy for the SageMaker endpoint.\n",
    "\n",
    "As an additional constraint, we will try to avoid doing any data processing in the web app itself. Remember that when we constructed and tested our model we started with a movie review, then we simplified it by removing any html formatting and punctuation, then we constructed a bag of words embedding and the resulting vector is what we sent to our model. All of this needs to be done to our user input as well.\n",
    "\n",
    "Fortunately we can do all of this data processing in the backend, using Amazon's Lambda service.\n",
    "\n",
    "<img src=\"Web App Diagram.svg\">\n",
    "\n",
    "The diagram above gives an overview of how the various services will work together. On the far right is the model which we trained above and which will be deployed using SageMaker. On the far left is our web app that collects a user's movie review, sends it off and expects a positive or negative sentiment in return.\n",
    "\n",
    "In the middle is where some of the magic happens. We will construct a Lambda function, which you can think of as a straightforward Python function that can be executed whenever a specified event occurs. This Python function will do the data processing we need to perform on a user submitted review. In addition, we will give this function permission to send and recieve data from a SageMaker endpoint.\n",
    "\n",
    "Lastly, the method we will use to execute the Lambda function is a new endpoint that we will create using API Gateway. This endpoint will be a url that listens for data to be sent to it. Once it gets some data it will pass that data on to the Lambda function and then return whatever the Lambda function returns. Essentially it will act as an interface that lets our web app communicate with the Lambda function.\n",
    "\n",
    "### Processing a single review\n",
    "\n",
    "For now, suppose we are given a movie review by our user in the form of a string, like so:"
   ]
  },
  {
   "cell_type": "code",
   "execution_count": 40,
   "metadata": {},
   "outputs": [],
   "source": [
    "test_review = \"Nothing but a disgusting materialistic pageant of glistening abed remote control greed zombies, totally devoid of any heart or heat. A romantic comedy that has zero romantic chemestry and zero laughs!\""
   ]
  },
  {
   "cell_type": "markdown",
   "metadata": {},
   "source": [
    "How do we go from this string to the bag of words feature vector that is expected by our model?\n",
    "\n",
    "If we recall at the beginning of this notebook, the first step is to remove any unnecessary characters using the `review_to_words` method. Remember that we intentionally did this in a very simplistic way. This is because we are going to have to copy this method to our (eventual) Lambda function (we will go into more detail later) and this means it needs to be rather simplistic."
   ]
  },
  {
   "cell_type": "code",
   "execution_count": 41,
   "metadata": {},
   "outputs": [
    {
     "name": "stdout",
     "output_type": "stream",
     "text": [
      "nothing but a disgusting materialistic pageant of glistening abed remote control greed zombies totally devoid of any heart or heat a romantic comedy that has zero romantic chemestry and zero laughs\n"
     ]
    }
   ],
   "source": [
    "test_words = review_to_words(test_review)\n",
    "print(test_words)"
   ]
  },
  {
   "cell_type": "markdown",
   "metadata": {},
   "source": [
    "Next, we need to construct a bag of words embedding of the `test_words` string. To do this, remember that a bag of words embedding uses a `vocabulary` consisting of the most frequently appearing words in a set of documents. Then, for each word in the vocabulary we record the number of times that word appears in `test_words`. We constructed the `vocabulary` earlier using the training set for our problem so encoding `test_words` is relatively straightforward."
   ]
  },
  {
   "cell_type": "code",
   "execution_count": 42,
   "metadata": {},
   "outputs": [],
   "source": [
    "def bow_encoding(words, vocabulary):\n",
    "    bow = [0] * len(vocabulary) # Start by setting the count for each word in the vocabulary to zero.\n",
    "    for word in words.split():  # For each word in the string\n",
    "        if word in vocabulary:  # If the word is one that occurs in the vocabulary, increase its count.\n",
    "            bow[vocabulary[word]] += 1\n",
    "    return bow"
   ]
  },
  {
   "cell_type": "code",
   "execution_count": 43,
   "metadata": {},
   "outputs": [
    {
     "name": "stdout",
     "output_type": "stream",
     "text": [
      "[0, 0, 0, 0, 0, 0, 0, 0, 0, 0, 0, 0, 0, 0, 0, 0, 0, 0, 0, 0, 0, 0, 0, 0, 0, 0, 0, 0, 0, 0, 0, 0, 0, 0, 0, 0, 0, 0, 0, 0, 0, 0, 0, 0, 0, 0, 0, 0, 0, 0, 0, 0, 0, 0, 0, 0, 0, 0, 0, 0, 0, 0, 0, 0, 0, 0, 0, 0, 0, 0, 0, 0, 0, 0, 0, 0, 0, 0, 0, 0, 0, 0, 0, 0, 0, 0, 0, 0, 0, 0, 0, 0, 0, 0, 0, 0, 0, 0, 0, 0, 0, 0, 0, 0, 0, 0, 0, 0, 0, 0, 0, 0, 0, 0, 0, 0, 0, 0, 0, 0, 0, 0, 0, 0, 0, 0, 0, 0, 0, 0, 0, 0, 0, 0, 0, 0, 0, 0, 0, 0, 0, 0, 0, 0, 0, 0, 0, 0, 0, 0, 0, 0, 0, 0, 0, 0, 0, 0, 0, 0, 0, 0, 0, 0, 0, 0, 0, 0, 0, 0, 0, 0, 0, 0, 0, 0, 0, 0, 0, 0, 0, 0, 0, 0, 0, 0, 0, 0, 0, 0, 0, 0, 0, 0, 0, 0, 0, 0, 0, 0, 0, 0, 0, 0, 0, 0, 0, 0, 0, 0, 0, 0, 0, 0, 0, 0, 0, 0, 0, 0, 0, 0, 0, 0, 0, 0, 1, 0, 0, 0, 0, 0, 0, 0, 0, 0, 0, 0, 0, 0, 0, 0, 0, 0, 0, 0, 0, 0, 0, 0, 0, 0, 0, 0, 0, 0, 1, 0, 0, 0, 0, 0, 0, 0, 0, 0, 0, 0, 0, 0, 0, 0, 0, 0, 0, 0, 0, 0, 0, 0, 0, 0, 0, 0, 0, 0, 0, 0, 0, 0, 0, 0, 0, 0, 0, 0, 0, 0, 0, 0, 0, 0, 0, 0, 0, 0, 0, 0, 0, 0, 0, 0, 0, 0, 0, 0, 0, 0, 0, 0, 0, 0, 0, 0, 0, 0, 0, 0, 0, 0, 0, 0, 0, 0, 0, 0, 0, 0, 0, 0, 0, 0, 0, 0, 0, 0, 0, 0, 0, 0, 0, 0, 0, 0, 0, 0, 0, 0, 0, 0, 0, 0, 0, 0, 0, 0, 0, 0, 0, 0, 0, 0, 0, 0, 0, 0, 0, 0, 0, 0, 0, 0, 0, 0, 0, 0, 0, 0, 0, 0, 0, 0, 0, 0, 0, 0, 0, 0, 0, 0, 0, 0, 0, 0, 0, 0, 0, 0, 0, 0, 0, 0, 0, 0, 0, 0, 0, 0, 0, 0, 0, 0, 0, 0, 0, 0, 0, 0, 0, 0, 0, 0, 0, 0, 0, 0, 0, 0, 0, 0, 0, 0, 0, 0, 0, 0, 0, 0, 0, 0, 0, 0, 0, 0, 0, 0, 0, 0, 0, 0, 0, 0, 0, 0, 0, 0, 0, 0, 0, 0, 0, 0, 0, 0, 0, 0, 0, 0, 0, 0, 0, 0, 0, 0, 0, 0, 0, 0, 0, 0, 0, 0, 0, 0, 0, 0, 0, 0, 0, 0, 0, 0, 0, 0, 0, 0, 0, 0, 0, 0, 0, 0, 0, 0, 0, 0, 0, 0, 0, 0, 0, 0, 0, 0, 0, 0, 0, 0, 0, 0, 0, 0, 0, 0, 0, 0, 0, 0, 0, 0, 0, 0, 0, 0, 0, 0, 0, 0, 0, 0, 0, 0, 0, 0, 0, 0, 0, 0, 0, 0, 0, 0, 0, 0, 0, 0, 0, 0, 0, 0, 0, 0, 0, 0, 0, 0, 0, 0, 0, 0, 0, 0, 0, 0, 0, 0, 0, 0, 0, 0, 0, 0, 0, 0, 0, 0, 0, 0, 0, 0, 0, 0, 0, 0, 0, 0, 0, 0, 0, 0, 0, 0, 0, 0, 0, 0, 0, 0, 0, 0, 0, 0, 0, 0, 0, 0, 0, 0, 0, 0, 0, 0, 0, 0, 0, 0, 1, 0, 0, 0, 0, 0, 0, 0, 0, 0, 0, 0, 0, 0, 0, 0, 0, 0, 0, 0, 0, 0, 0, 0, 0, 0, 0, 0, 0, 0, 0, 0, 0, 0, 0, 0, 0, 0, 0, 0, 0, 0, 0, 0, 0, 0, 0, 0, 0, 0, 0, 0, 0, 0, 0, 0, 0, 0, 0, 0, 0, 0, 0, 0, 0, 0, 0, 0, 0, 0, 0, 0, 0, 0, 0, 0, 0, 0, 0, 0, 0, 0, 0, 0, 0, 0, 0, 0, 0, 0, 0, 0, 0, 0, 0, 0, 0, 0, 0, 0, 0, 0, 0, 0, 0, 0, 0, 0, 0, 0, 0, 0, 0, 0, 0, 0, 0, 0, 0, 0, 0, 0, 0, 0, 0, 0, 0, 0, 0, 0, 0, 0, 0, 0, 0, 0, 0, 0, 0, 0, 0, 0, 0, 0, 0, 0, 0, 0, 0, 0, 0, 0, 0, 0, 0, 0, 0, 0, 0, 0, 0, 0, 0, 0, 0, 0, 0, 0, 0, 0, 0, 0, 0, 0, 0, 0, 0, 0, 0, 0, 0, 0, 0, 0, 0, 0, 0, 0, 0, 0, 0, 0, 0, 0, 0, 0, 0, 0, 0, 0, 0, 0, 0, 0, 0, 0, 0, 0, 0, 0, 0, 0, 0, 0, 0, 0, 0, 0, 0, 0, 0, 0, 0, 0, 0, 0, 0, 0, 0, 0, 0, 0, 0, 0, 0, 0, 0, 0, 0, 0, 0, 0, 0, 0, 0, 0, 0, 0, 0, 0, 0, 0, 0, 0, 1, 0, 0, 0, 0, 0, 0, 0, 0, 0, 0, 0, 0, 0, 0, 0, 0, 0, 0, 0, 0, 0, 0, 0, 0, 0, 0, 0, 0, 0, 0, 0, 0, 0, 0, 0, 0, 0, 0, 0, 0, 0, 0, 0, 0, 0, 0, 0, 0, 0, 0, 0, 0, 0, 0, 0, 0, 0, 0, 0, 0, 0, 0, 0, 0, 0, 0, 0, 0, 0, 0, 0, 0, 0, 0, 0, 0, 0, 0, 0, 0, 0, 0, 0, 0, 0, 0, 1, 0, 0, 0, 0, 0, 0, 0, 0, 0, 0, 0, 0, 0, 0, 0, 0, 0, 0, 0, 0, 0, 0, 0, 0, 0, 0, 0, 0, 0, 0, 0, 0, 0, 0, 0, 0, 0, 0, 0, 0, 0, 0, 0, 0, 0, 0, 0, 0, 0, 0, 0, 0, 0, 0, 0, 0, 0, 0, 0, 0, 0, 0, 0, 0, 0, 0, 0, 0, 0, 0, 0, 0, 0, 0, 0, 0, 0, 0, 0, 0, 0, 0, 0, 0, 0, 0, 0, 0, 0, 0, 0, 0, 0, 0, 0, 0, 0, 0, 0, 0, 0, 0, 0, 0, 0, 0, 0, 0, 0, 0, 0, 0, 0, 0, 0, 0, 0, 0, 0, 0, 0, 0, 0, 0, 0, 0, 0, 0, 0, 0, 0, 0, 0, 0, 0, 0, 0, 0, 0, 0, 0, 0, 0, 0, 0, 0, 0, 0, 0, 0, 0, 0, 0, 0, 0, 0, 0, 0, 0, 0, 0, 0, 0, 0, 0, 0, 0, 0, 0, 0, 0, 0, 0, 0, 0, 0, 0, 0, 0, 0, 0, 0, 0, 0, 0, 0, 0, 0, 0, 0, 0, 0, 0, 0, 0, 0, 0, 0, 0, 0, 0, 0, 0, 0, 0, 0, 0, 0, 0, 0, 0, 0, 0, 0, 0, 0, 0, 0, 0, 0, 0, 0, 0, 0, 0, 0, 0, 0, 0, 0, 0, 0, 0, 0, 0, 0, 0, 0, 0, 0, 0, 0, 0, 0, 0, 0, 0, 0, 0, 0, 0, 0, 1, 0, 0, 0, 0, 0, 0, 0, 0, 0, 0, 0, 0, 0, 0, 0, 0, 0, 0, 0, 0, 0, 0, 0, 0, 0, 0, 0, 0, 0, 0, 0, 0, 0, 0, 0, 0, 0, 0, 0, 0, 0, 0, 0, 0, 0, 0, 0, 0, 0, 0, 0, 0, 0, 0, 0, 1, 0, 0, 0, 0, 0, 0, 0, 0, 0, 0, 0, 0, 0, 0, 0, 0, 0, 0, 0, 0, 0, 0, 0, 0, 0, 0, 0, 0, 0, 0, 0, 0, 0, 0, 0, 0, 0, 0, 0, 0, 0, 0, 0, 0, 0, 0, 0, 0, 0, 0, 0, 0, 0, 0, 0, 0, 0, 0, 0, 0, 0, 0, 0, 0, 0, 0, 0, 0, 0, 0, 0, 0, 0, 0, 0, 0, 0, 0, 0, 0, 0, 0, 0, 0, 0, 0, 0, 0, 0, 0, 0, 0, 0, 0, 0, 0, 0, 0, 0, 0, 0, 0, 0, 0, 0, 0, 0, 0, 0, 0, 0, 0, 0, 0, 0, 0, 0, 0, 0, 0, 0, 0, 0, 0, 0, 0, 0, 0, 0, 0, 0, 0, 0, 0, 0, 0, 0, 0, 0, 0, 0, 0, 0, 0, 0, 0, 0, 0, 0, 0, 0, 0, 0, 0, 0, 0, 0, 0, 0, 0, 0, 0, 0, 0, 0, 0, 0, 0, 0, 0, 0, 0, 0, 0, 0, 0, 0, 0, 0, 0, 0, 0, 0, 0, 0, 0, 0, 0, 0, 0, 0, 0, 0, 0, 0, 0, 0, 0, 0, 0, 0, 0, 0, 0, 0, 0, 0, 0, 0, 0, 0, 0, 0, 0, 0, 0, 0, 0, 0, 0, 0, 0, 0, 0, 0, 0, 0, 0, 0, 0, 0, 0, 0, 0, 0, 0, 0, 0, 0, 0, 0, 0, 0, 0, 0, 0, 0, 0, 0, 0, 0, 0, 0, 0, 0, 0, 0, 0, 0, 0, 0, 0, 0, 0, 0, 0, 0, 0, 0, 0, 0, 0, 0, 0, 0, 0, 0, 0, 0, 0, 0, 0, 0, 0, 0, 0, 0, 0, 0, 0, 0, 0, 0, 0, 0, 0, 0, 0, 0, 0, 0, 0, 0, 0, 0, 0, 0, 0, 0, 0, 0, 0, 0, 0, 0, 0, 0, 0, 0, 0, 0, 0, 0, 0, 0, 0, 0, 0, 0, 0, 0, 0, 0, 0, 0, 0, 0, 0, 0, 0, 0, 0, 0, 0, 0, 0, 0, 0, 0, 0, 0, 0, 0, 0, 0, 0, 0, 0, 0, 0, 0, 0, 0, 0, 0, 0, 0, 0, 0, 0, 0, 0, 0, 0, 0, 0, 0, 0, 0, 0, 0, 0, 0, 0, 0, 0, 0, 0, 0, 0, 0, 0, 0, 0, 0, 0, 0, 0, 0, 0, 0, 0, 0, 0, 0, 0, 0, 0, 0, 0, 0, 0, 0, 0, 0, 0, 0, 0, 0, 0, 0, 0, 0, 0, 0, 0, 0, 0, 0, 0, 0, 0, 0, 0, 0, 0, 0, 0, 0, 0, 0, 0, 0, 0, 0, 0, 0, 0, 0, 0, 0, 0, 0, 0, 0, 0, 0, 0, 0, 0, 0, 0, 0, 0, 0, 0, 0, 0, 0, 0, 0, 0, 0, 0, 0, 0, 0, 0, 0, 0, 0, 0, 0, 0, 0, 0, 0, 0, 0, 0, 0, 0, 0, 0, 0, 0, 0, 0, 0, 0, 0, 0, 0, 0, 0, 0, 0, 0, 0, 0, 0, 0, 0, 0, 0, 0, 0, 0, 0, 0, 0, 0, 0, 0, 0, 0, 0, 0, 0, 0, 0, 0, 0, 0, 0, 0, 0, 0, 0, 0, 0, 0, 0, 0, 0, 0, 0, 0, 0, 0, 0, 0, 0, 0, 0, 0, 0, 0, 0, 0, 0, 0, 0, 0, 0, 0, 0, 0, 0, 0, 0, 0, 0, 0, 0, 0, 0, 0, 0, 0, 0, 0, 0, 0, 0, 0, 0, 0, 0, 0, 0, 0, 0, 0, 0, 0, 0, 0, 0, 0, 0, 0, 0, 0, 0, 0, 0, 0, 0, 0, 0, 0, 0, 0, 0, 0, 0, 0, 0, 0, 0, 0, 0, 0, 0, 0, 0, 0, 0, 0, 0, 0, 0, 0, 0, 0, 0, 0, 0, 0, 0, 0, 0, 0, 0, 0, 0, 0, 0, 0, 0, 0, 0, 0, 0, 0, 0, 0, 0, 0, 0, 0, 0, 0, 0, 0, 0, 0, 0, 0, 0, 0, 0, 0, 0, 0, 0, 0, 0, 0, 0, 1, 0, 0, 0, 0, 0, 0, 0, 0, 0, 0, 0, 0, 0, 0, 0, 0, 0, 0, 0, 0, 0, 0, 0, 0, 0, 0, 0, 0, 0, 0, 0, 0, 0, 0, 0, 0, 0, 0, 0, 0, 0, 0, 0, 0, 0, 0, 0, 0, 0, 0, 0, 0, 0, 0, 0, 0, 0, 0, 0, 0, 0, 0, 0, 0, 0, 0, 0, 0, 0, 0, 0, 0, 0, 0, 1, 0, 0, 0, 0, 0, 0, 0, 0, 0, 0, 0, 0, 0, 0, 0, 0, 0, 0, 0, 0, 1, 0, 0, 1, 0, 0, 0, 0, 0, 0, 0, 0, 0, 0, 0, 0, 0, 0, 0, 0, 0, 0, 0, 0, 0, 0, 0, 0, 0, 0, 0, 0, 0, 0, 0, 0, 0, 0, 0, 0, 0, 0, 0, 0, 0, 0, 0, 0, 0, 0, 0, 0, 0, 0, 0, 0, 0, 0, 0, 0, 0, 0, 0, 0, 0, 0, 0, 0, 0, 0, 0, 0, 0, 0, 0, 0, 0, 0, 0, 0, 0, 0, 0, 0, 0, 0, 0, 0, 0, 0, 0, 0, 0, 0, 0, 0, 0, 0, 0, 0, 0, 0, 0, 0, 0, 0, 0, 0, 0, 0, 0, 0, 0, 0, 0, 0, 0, 0, 0, 0, 0, 0, 0, 0, 0, 0, 0, 0, 0, 0, 0, 0, 0, 0, 0, 0, 0, 0, 0, 0, 0, 0, 0, 0, 0, 0, 0, 0, 0, 0, 0, 0, 0, 0, 0, 0, 0, 0, 0, 0, 0, 0, 0, 0, 0, 0, 0, 0, 0, 0, 0, 0, 0, 0, 0, 0, 0, 0, 0, 0, 0, 0, 0, 0, 0, 0, 0, 0, 0, 0, 0, 0, 0, 0, 0, 0, 0, 0, 0, 0, 0, 0, 0, 0, 0, 0, 0, 0, 0, 0, 0, 0, 0, 0, 0, 0, 0, 0, 0, 0, 0, 0, 0, 0, 0, 0, 0, 0, 0, 0, 0, 0, 0, 0, 0, 0, 0, 0, 0, 0, 0, 0, 0, 0, 0, 0, 0, 0, 0, 0, 0, 0, 0, 0, 0, 0, 0, 0, 0, 0, 0, 0, 0, 0, 0, 0, 0, 0, 0, 0, 0, 0, 0, 0, 0, 0, 0, 0, 0, 0, 0, 0, 0, 0, 0, 0, 0, 0, 0, 0, 0, 0, 0, 0, 0, 0, 0, 0, 0, 0, 0, 0, 0, 0, 0, 0, 0, 0, 0, 0, 0, 0, 0, 0, 0, 0, 0, 0, 0, 0, 0, 0, 0, 0, 0, 0, 0, 0, 0, 0, 0, 0, 0, 0, 0, 0, 0, 0, 0, 0, 0, 0, 0, 0, 0, 0, 0, 0, 0, 0, 0, 0, 0, 0, 0, 0, 0, 0, 0, 0, 0, 0, 0, 0, 0, 0, 0, 0, 0, 0, 0, 0, 0, 0, 0, 0, 0, 0, 0, 0, 0, 0, 0, 0, 0, 0, 0, 0, 0, 0, 0, 0, 0, 0, 0, 0, 0, 0, 0, 0, 0, 0, 0, 0, 0, 0, 0, 0, 0, 0, 0, 0, 0, 0, 0, 0, 0, 0, 0, 0, 0, 0, 0, 0, 0, 0, 0, 0, 0, 0, 0, 0, 0, 0, 0, 0, 0, 0, 0, 0, 0, 0, 0, 0, 0, 0, 0, 0, 0, 0, 0, 0, 0, 0, 0, 0, 0, 0, 0, 0, 0, 0, 0, 0, 0, 0, 0, 0, 0, 0, 1, 0, 0, 0, 0, 0, 0, 0, 0, 0, 0, 0, 0, 0, 0, 0, 0, 0, 0, 0, 0, 0, 0, 0, 0, 0, 0, 0, 0, 0, 0, 0, 0, 0, 0, 0, 0, 0, 0, 0, 0, 0, 0, 0, 0, 0, 0, 0, 0, 0, 0, 0, 0, 0, 0, 0, 0, 0, 0, 0, 0, 0, 0, 0, 0, 0, 0, 0, 0, 0, 0, 0, 0, 0, 0, 0, 0, 0, 0, 0, 0, 0, 0, 0, 0, 0, 0, 0, 0, 0, 0, 0, 0, 0, 0, 0, 0, 0, 0, 0, 0, 0, 0, 0, 0, 0, 0, 0, 0, 0, 0, 0, 0, 0, 0, 0, 0, 0, 0, 0, 0, 0, 0, 0, 0, 0, 0, 0, 0, 0, 0, 0, 0, 0, 0, 0, 0, 0, 0, 0, 0, 0, 0, 0, 0, 0, 0, 0, 0, 0, 0, 0, 0, 0, 0, 0, 0, 0, 0, 0, 0, 0, 0, 0, 0, 0, 0, 0, 0, 0, 0, 0, 0, 0, 0, 0, 0, 0, 0, 0, 0, 0, 0, 0, 0, 0, 0, 0, 0, 0, 0, 0, 0, 0, 0, 0, 0, 0, 0, 0, 0, 0, 0, 0, 0, 0, 0, 0, 0, 0, 0, 0, 0, 0, 0, 0, 0, 0, 0, 0, 0, 0, 0, 0, 0, 0, 0, 0, 0, 0, 0, 0, 0, 0, 0, 0, 0, 0, 0, 0, 0, 0, 0, 0, 0, 0, 0, 0, 0, 0, 0, 0, 0, 0, 0, 0, 0, 0, 0, 0, 0, 0, 0, 0, 0, 0, 0, 0, 0, 0, 0, 0, 0, 0, 0, 0, 0, 0, 0, 0, 0, 0, 0, 0, 0, 0, 0, 0, 0, 0, 0, 0, 0, 0, 0, 0, 0, 0, 0, 0, 0, 0, 0, 0, 0, 0, 0, 0, 0, 0, 0, 0, 0, 0, 0, 0, 0, 0, 0, 0, 0, 0, 0, 0, 0, 0, 0, 0, 0, 0, 0, 0, 0, 0, 0, 0, 0, 0, 0, 0, 0, 0, 0, 0, 0, 0, 0, 0, 0, 0, 0, 0, 0, 0, 0, 0, 0, 0, 0, 0, 0, 0, 0, 0, 0, 0, 0, 0, 0, 0, 0, 0, 0, 0, 0, 0, 0, 0, 0, 0, 0, 0, 0, 0, 0, 0, 0, 0, 0, 0, 0, 0, 0, 0, 0, 0, 0, 0, 0, 0, 0, 0, 0, 0, 0, 0, 0, 0, 0, 0, 0, 0, 0, 0, 0, 0, 0, 0, 0, 0, 0, 0, 0, 0, 0, 0, 0, 0, 0, 0, 0, 0, 0, 0, 0, 0, 0, 0, 0, 0, 0, 0, 0, 0, 0, 0, 0, 0, 0, 0, 0, 0, 0, 0, 0, 0, 0, 0, 0, 0, 0, 0, 0, 0, 0, 0, 0, 0, 0, 0, 0, 0, 0, 0, 0, 0, 0, 0, 0, 0, 0, 0, 0, 0, 0, 0, 0, 0, 0, 0, 0, 0, 0, 0, 0, 0, 0, 0, 0, 0, 0, 0, 0, 0, 0, 0, 0, 0, 0, 0, 0, 0, 0, 1, 0, 0, 0, 0, 0, 0, 0, 0, 0, 0, 0, 0, 0, 0, 0, 0, 0, 0, 0, 0, 0, 0, 0, 0, 0, 0, 0, 0, 0, 0, 0, 0, 0, 0, 0, 2, 0, 0, 0, 0, 0, 0, 0, 0, 0, 0, 0, 0, 0, 0, 0, 0, 0, 0, 0, 0, 0, 0, 0, 0, 0, 0, 0, 0, 0, 0, 0, 0, 0, 0, 0, 0, 0, 0, 0, 0, 1, 0, 0, 0, 0, 0, 0, 0, 0, 0, 0, 0, 0, 0, 0, 0, 0, 0, 0, 0, 0, 0, 0, 0, 0, 0, 0, 0, 0, 0, 0, 0, 0, 0, 0, 0, 0, 0, 0, 0, 0, 0, 0, 0, 0, 0, 0, 0, 0, 0, 0, 0, 0, 0, 0, 0, 0, 0, 0, 0, 0, 0, 0, 0, 0, 0, 0, 0, 0, 0, 0, 0, 0, 0, 0, 0, 0, 0, 0, 0, 0, 0, 0, 0, 0, 0, 0, 0, 0, 0, 0, 0, 0, 0, 0, 0, 0, 0, 0, 0, 0, 0, 0, 0, 0, 0, 0, 0, 0, 0, 0, 0, 0, 0, 0, 0, 0, 0, 0, 0, 0, 0, 0, 0, 0, 0, 0, 0, 0, 0, 0, 0, 0, 0, 0, 0, 0, 0, 0, 0, 0, 0, 0, 0, 0, 0, 0, 0, 0, 0, 0, 0, 0, 0, 0, 0, 0, 0, 0, 0, 0, 0, 0, 0, 0, 0, 0, 0, 0, 0, 0, 0, 0, 0, 0, 0, 0, 0, 0, 0, 0, 0, 0, 0, 0, 0, 0, 0, 0, 0, 0, 0, 0, 0, 0, 0, 0, 0, 0, 0, 0, 0, 0, 0, 0, 0, 0, 0, 0, 0, 0, 0, 0, 0, 0, 0, 0, 0, 0, 0, 0, 0, 0, 0, 0, 0, 0, 0, 0, 0, 0, 0, 0, 0, 0, 0, 0, 0, 0, 0, 0, 0, 0, 0, 0, 0, 0, 0, 0, 0, 0, 0, 0, 0, 0, 0, 0, 0, 0, 0, 0, 0, 0, 0, 0, 0, 0, 0, 0, 0, 0, 0, 0, 0, 0, 0, 0, 0, 0, 0, 0, 0, 0, 0, 0, 0, 0, 0, 0, 0, 0, 0, 0, 0, 0, 0, 0, 0, 0, 0, 0, 0, 0, 0, 0, 0, 0, 0, 0, 0, 0, 0, 0, 0, 0, 0, 0, 0, 0, 0, 0, 0, 0, 0, 0, 0, 0, 0, 0, 0, 0, 0, 0, 0, 0, 0, 0, 0, 0, 0, 0, 0, 0, 0, 0, 0, 0, 0, 0, 0, 0, 0, 0, 0, 0, 0, 0, 0, 0, 0, 0, 0, 0, 0, 0, 0, 0, 0, 0, 0, 0, 0, 0, 0, 0, 0, 0, 0, 0, 0, 0, 0, 0, 0, 0, 0, 0, 0, 0, 0, 0, 0, 0, 0, 0, 0, 0, 0, 0, 0, 0, 0, 0, 0, 0, 0, 0, 0, 0, 0, 0, 0, 0, 0, 0, 0, 0, 0, 0, 0, 0, 0, 0, 0, 0, 0, 0, 0, 0, 0, 0, 0, 0, 0, 0, 0, 0, 0, 0, 0, 0, 0, 0, 0, 0, 0, 0, 0, 0, 0, 0, 0, 0, 0, 0, 0, 0, 0, 0, 0, 0, 0, 0, 0, 0, 0, 0, 0, 0, 0, 0, 0, 0, 0, 0, 0, 0, 0, 0, 0, 0, 0, 0, 0, 0, 0, 0, 0, 0, 0, 0, 0, 0, 0, 0, 0, 0, 0, 1, 0, 0, 0, 0, 0, 0, 0, 0, 0, 0, 0, 0, 0, 0, 0, 0, 0, 0, 0, 0, 0, 0, 0, 0, 0, 0, 0, 0, 0, 0, 0, 0, 0, 0, 0, 0, 0, 0, 0, 0, 0, 0, 0, 0, 0, 0, 0, 0, 0, 0, 0, 0, 0, 0, 0, 0, 0, 0, 0, 0, 0, 0, 0, 0, 0, 0, 0, 0, 0, 0, 0, 0, 0, 0, 0, 0, 0, 0, 0, 0, 0, 0, 0, 0, 0, 0, 0, 0, 0, 0, 0, 0, 0, 0, 0, 0, 0, 0, 0, 0, 0, 0, 0, 0, 0, 0, 0, 0, 0, 0, 2, 0, 0, 0, 0, 0, 0, 0, 0, 0, 0, 0, 0, 0, 0, 0, 0, 0, 0, 0, 0, 0, 0, 0, 0, 0, 0, 0, 0, 0, 0, 0, 0, 0, 0, 0, 0, 0, 0, 0, 0, 0, 0, 0, 0, 0, 0, 0, 0, 0, 0, 0, 0, 0, 0, 0, 0, 0, 0, 0, 0, 0, 0, 0, 0, 0, 0, 0, 0, 0, 0, 0, 0, 0, 0, 0, 0, 0, 0, 0, 0, 0, 0, 0, 0, 0, 0, 0, 0, 0, 0, 0, 0, 0, 0, 0, 0, 0, 0, 0, 0, 0, 0, 0, 0, 0, 0, 0, 0, 0, 0, 0, 0, 0, 0, 0, 0, 0, 0, 0, 0, 0, 0, 0, 0, 0, 0, 0, 0, 0, 0, 0, 0, 0, 0, 0, 0, 0, 0, 0, 0, 0, 0, 0, 0, 0, 0, 0, 0, 0, 0, 0, 0, 0, 0, 0, 0, 0, 0, 0, 0, 0, 0, 0, 0, 0, 0, 0, 0, 0, 0, 0, 0, 0, 0, 0, 0, 0, 0, 0, 0, 0, 0, 0, 0, 0, 0, 0, 0, 0, 0, 0, 0, 0, 0, 0, 0, 0, 0, 0, 0, 0, 0, 0, 0, 0, 0, 0, 0, 0, 0, 0, 0, 0, 0, 0, 0, 0, 0, 0, 0, 0, 0, 0, 0, 0, 0, 0, 0, 0, 0, 0, 0, 0, 0, 0, 0, 0, 0, 0, 0, 0, 0, 0, 0, 0, 0, 0, 0, 0, 0, 0, 0, 0, 0, 0, 0, 0, 0, 0, 0, 0, 0, 0, 0, 0, 0, 0, 0, 0, 0, 0, 0, 0, 0, 0, 0, 0, 0, 0, 0, 0, 0, 0, 0, 0, 0, 0, 0, 0, 0, 0, 0, 0, 0, 0, 0, 0, 0, 0, 0, 0, 0, 0, 0, 0, 0, 0, 0, 0, 0, 0, 0, 0, 0, 0, 0, 0, 0, 0, 0, 0, 0, 0, 0, 0, 0, 0, 0, 0, 0, 0, 0, 0, 0, 0, 0, 0, 0, 0, 0, 0, 0, 0, 0, 0, 0, 0, 0, 0, 0, 0, 0, 0, 0, 0, 0, 0, 0, 0, 0, 0, 0, 0, 0, 0, 0, 0, 0, 0, 0, 0, 0, 0, 0, 0, 0, 0, 0, 0, 0, 0, 0, 0, 0, 0, 0, 0, 0, 0, 0, 0, 0, 0, 0, 0, 0, 0, 0, 0, 0, 0, 0, 0, 0, 0, 0, 0, 0, 0, 0, 0, 0, 0, 0, 0, 0, 0, 0, 0, 0, 0, 0, 0, 0, 0, 0, 0, 0, 0, 0, 0, 0, 0, 0, 0, 0, 0, 0, 0, 0, 0, 0, 0, 0, 0, 0, 0, 0, 0, 0, 0, 0, 0, 0, 0, 0, 0, 0, 0, 0, 0, 0, 0, 0, 0, 0, 0, 0, 0, 0, 0, 0, 0, 0, 0, 0, 0, 0, 0, 0, 0, 0, 0, 0, 0, 0, 0, 0, 0, 0, 0, 0, 0, 0, 0, 0, 0, 0, 0, 0, 0, 0, 0, 0, 0, 0, 0, 0, 0, 0, 0, 0, 0, 0, 0, 0, 0, 0, 0, 0, 0, 0, 0, 0, 0, 0, 0, 0, 0, 0, 0, 0, 0, 0, 0, 0, 0, 0, 0, 0, 0, 0, 0, 0, 0, 0, 0, 0, 0, 0, 0, 0, 0, 0, 0, 0, 0, 0, 0, 0, 0, 0, 0, 0, 0, 0, 0, 0, 0, 0, 0, 0, 0, 0, 0, 0, 0, 0, 0, 0, 0, 0, 0, 0, 0, 0, 0, 0, 0, 0, 0, 0, 0, 0, 0, 0, 0, 0, 0, 0, 0, 0, 0, 0, 0, 0, 0, 0, 0, 0, 0, 0, 0, 0, 0, 0, 0, 0, 0, 0, 0, 0, 0, 0, 0, 0, 0, 0, 0, 0, 0, 0, 0, 0, 0, 0, 0, 0, 0, 0, 0, 0, 0, 0, 0, 0, 0, 0, 0, 0, 0, 0, 0, 0, 0, 0, 0, 0, 0, 0, 0, 0, 0, 0, 0, 0, 0, 0, 0, 0, 0, 0, 0, 0, 0, 0, 0, 0, 0, 0, 0, 0, 0, 0, 0, 0, 0, 0, 0, 0, 1, 0, 0, 0, 0, 0, 0, 0, 0, 0, 0, 0, 0, 0, 0, 0, 0, 0, 0, 0, 0, 0, 0, 0, 0, 0, 0, 0, 0, 0, 0, 0, 0, 0, 0, 0, 0, 0, 0, 0, 0, 0, 0, 0, 0, 0, 0, 0, 0, 0, 0, 0, 0, 0, 0, 0, 0, 0, 0, 0, 0, 0, 0, 0, 0, 0, 0, 0, 0, 0, 0, 0, 0, 0, 0, 0, 0, 0, 0, 0, 0, 0, 0, 0, 0, 0, 0, 0, 0, 0, 0, 0, 0, 0, 0, 0, 0, 0, 0, 0, 0, 0, 0, 0, 0, 0, 0, 0, 1, 0, 0, 0, 0, 0, 0, 0, 0, 0, 0, 0, 0, 0, 0, 0, 0, 0, 0, 0, 0, 0, 0, 0, 0, 0, 0, 0, 0, 0, 0, 0, 0, 0, 0, 0, 0, 0, 0, 0, 0, 0, 0, 0, 0, 0, 0, 0, 0, 0, 0, 0, 0, 0, 0, 0, 0, 0, 0, 0, 0, 0, 0, 0, 0, 0, 0, 0, 0, 0, 0, 0, 0, 0, 0, 0, 0, 0, 0, 0, 0, 0, 0, 0, 0, 0, 0, 0, 0, 0, 0, 0, 0, 0, 0, 0, 0, 0, 0, 0, 0, 0, 0, 0, 0, 0, 0, 0, 0, 0, 0, 0, 0, 0, 0, 0, 0, 0, 0, 0, 0, 0, 0, 0, 0, 0, 0, 0, 0, 0, 0, 0, 0, 0, 0, 0, 0, 0, 0, 0, 0, 0, 0, 0, 0, 0, 0, 0, 0, 0, 0, 0, 0, 0, 0, 0, 0, 0, 0, 0, 0, 0, 0, 0, 0, 0, 0, 0, 0, 0, 0, 0, 0, 0, 0, 0, 0, 0, 0, 0, 0, 0, 0, 0, 0, 0, 0, 0, 0, 0, 0, 0, 0, 0, 0, 0, 0, 0, 0, 0, 0, 0, 0, 0, 0, 0, 0, 0, 0, 0, 0, 0, 0, 0, 0, 0, 0, 0, 0, 0, 0, 0, 0, 0, 0, 0, 0, 0, 0, 0, 0, 0, 0, 0, 0, 0, 0, 0, 0, 0, 0, 0, 0, 0, 0, 0, 0, 0, 0, 0, 0, 0, 0, 0, 0, 0, 0, 0, 0, 0, 0, 0, 0, 0, 0, 0, 0, 0, 0, 0, 0, 0, 0, 0, 0, 0, 0, 0, 0, 0, 0, 0, 0, 0, 0, 0, 0, 0, 0, 0, 0, 0, 0, 0, 0, 0, 0, 0, 0, 0, 0, 0, 0, 0, 0, 0, 0, 0, 0, 0, 0, 0, 0, 0, 0, 0, 0, 0, 0, 0, 0, 0, 0, 0, 0, 0, 0, 0, 0, 0, 0, 0, 0, 0, 0, 0, 0, 0, 0, 0, 0, 0, 0, 0, 0, 0, 0, 0, 0, 0, 0, 0, 0, 0, 0, 0, 0, 0, 0, 0, 0, 0, 0, 0, 0, 0, 0, 0, 0, 0, 0, 0, 0, 0, 0, 0, 0, 0, 0, 0, 0, 0, 0, 0, 0, 0, 0, 0, 0, 0, 0, 0, 0, 0, 0, 0, 0, 0, 0, 0, 0, 0, 0, 0, 0, 0, 0, 0, 0, 0, 0, 0, 0, 0, 0, 0, 0, 0, 0, 0, 0, 0, 0, 0, 0, 0, 0, 0, 0, 0, 0, 0, 0, 0, 0, 0, 0, 0, 0, 0, 0, 0, 0, 0, 0, 0, 0, 0, 0, 0, 0, 0, 0, 0, 0, 0, 0, 0, 0, 0, 0, 0, 0, 0, 2, 0, 1, 0]\n"
     ]
    }
   ],
   "source": [
    "test_bow = bow_encoding(test_words, vocabulary)\n",
    "print(test_bow)"
   ]
  },
  {
   "cell_type": "code",
   "execution_count": 44,
   "metadata": {},
   "outputs": [
    {
     "data": {
      "text/plain": [
       "5000"
      ]
     },
     "execution_count": 44,
     "metadata": {},
     "output_type": "execute_result"
    }
   ],
   "source": [
    "len(test_bow)"
   ]
  },
  {
   "cell_type": "markdown",
   "metadata": {},
   "source": [
    "So now we know how to construct a bag of words encoding of a user provided review, how to we send it to our endpoint? First, we need to start the endpoint back up."
   ]
  },
  {
   "cell_type": "code",
   "execution_count": 45,
   "metadata": {},
   "outputs": [
    {
     "name": "stderr",
     "output_type": "stream",
     "text": [
      "Parameter image will be renamed to image_uri in SageMaker Python SDK v2.\n",
      "Using already existing model: xgboost-2021-04-24-21-18-41-974\n"
     ]
    },
    {
     "name": "stdout",
     "output_type": "stream",
     "text": [
      "---------------!"
     ]
    }
   ],
   "source": [
    "xgb_predictor = xgb.deploy(initial_instance_count = 1, instance_type = 'ml.m4.xlarge')"
   ]
  },
  {
   "cell_type": "markdown",
   "metadata": {},
   "source": [
    "At this point we could just do the same thing that we did earlier when we tested our deployed model and send `test_bow` to our endpoint using the `xgb_predictor` object. However, when we eventually construct our Lambda function we won't have access to this object, so how do we call a SageMaker endpoint?\n",
    "\n",
    "It turns out that Python functions that are used in Lambda have access to another Amazon library called `boto3`. This library provides an API for working with Amazon services, including SageMaker. To start with, we need to get a handle to the SageMaker runtime."
   ]
  },
  {
   "cell_type": "code",
   "execution_count": 46,
   "metadata": {},
   "outputs": [],
   "source": [
    "import boto3\n",
    "\n",
    "runtime = boto3.Session().client('sagemaker-runtime')"
   ]
  },
  {
   "cell_type": "markdown",
   "metadata": {},
   "source": [
    "And now that we have access to the SageMaker runtime, we can ask it to make use of (invoke) an endpoint that has already been created. However, we need to provide SageMaker with the name of the deployed endpoint. To find this out we can print it out using the `xgb_predictor` object."
   ]
  },
  {
   "cell_type": "code",
   "execution_count": 47,
   "metadata": {},
   "outputs": [
    {
     "data": {
      "text/plain": [
       "'xgboost-2021-04-24-21-18-41-974'"
      ]
     },
     "execution_count": 47,
     "metadata": {},
     "output_type": "execute_result"
    }
   ],
   "source": [
    "xgb_predictor.endpoint"
   ]
  },
  {
   "cell_type": "markdown",
   "metadata": {},
   "source": [
    "Using the SageMaker runtime and the name of our endpoint, we can invoke the endpoint and send it the `test_bow` data."
   ]
  },
  {
   "cell_type": "code",
   "execution_count": 48,
   "metadata": {},
   "outputs": [
    {
     "ename": "ParamValidationError",
     "evalue": "Parameter validation failed:\nInvalid type for parameter Body, value: [0, 0, 0, 0, 0, 0, 0, 0, 0, 0, 0, 0, 0, 0, 0, 0, 0, 0, 0, 0, 0, 0, 0, 0, 0, 0, 0, 0, 0, 0, 0, 0, 0, 0, 0, 0, 0, 0, 0, 0, 0, 0, 0, 0, 0, 0, 0, 0, 0, 0, 0, 0, 0, 0, 0, 0, 0, 0, 0, 0, 0, 0, 0, 0, 0, 0, 0, 0, 0, 0, 0, 0, 0, 0, 0, 0, 0, 0, 0, 0, 0, 0, 0, 0, 0, 0, 0, 0, 0, 0, 0, 0, 0, 0, 0, 0, 0, 0, 0, 0, 0, 0, 0, 0, 0, 0, 0, 0, 0, 0, 0, 0, 0, 0, 0, 0, 0, 0, 0, 0, 0, 0, 0, 0, 0, 0, 0, 0, 0, 0, 0, 0, 0, 0, 0, 0, 0, 0, 0, 0, 0, 0, 0, 0, 0, 0, 0, 0, 0, 0, 0, 0, 0, 0, 0, 0, 0, 0, 0, 0, 0, 0, 0, 0, 0, 0, 0, 0, 0, 0, 0, 0, 0, 0, 0, 0, 0, 0, 0, 0, 0, 0, 0, 0, 0, 0, 0, 0, 0, 0, 0, 0, 0, 0, 0, 0, 0, 0, 0, 0, 0, 0, 0, 0, 0, 0, 0, 0, 0, 0, 0, 0, 0, 0, 0, 0, 0, 0, 0, 0, 0, 0, 0, 0, 0, 0, 1, 0, 0, 0, 0, 0, 0, 0, 0, 0, 0, 0, 0, 0, 0, 0, 0, 0, 0, 0, 0, 0, 0, 0, 0, 0, 0, 0, 0, 0, 1, 0, 0, 0, 0, 0, 0, 0, 0, 0, 0, 0, 0, 0, 0, 0, 0, 0, 0, 0, 0, 0, 0, 0, 0, 0, 0, 0, 0, 0, 0, 0, 0, 0, 0, 0, 0, 0, 0, 0, 0, 0, 0, 0, 0, 0, 0, 0, 0, 0, 0, 0, 0, 0, 0, 0, 0, 0, 0, 0, 0, 0, 0, 0, 0, 0, 0, 0, 0, 0, 0, 0, 0, 0, 0, 0, 0, 0, 0, 0, 0, 0, 0, 0, 0, 0, 0, 0, 0, 0, 0, 0, 0, 0, 0, 0, 0, 0, 0, 0, 0, 0, 0, 0, 0, 0, 0, 0, 0, 0, 0, 0, 0, 0, 0, 0, 0, 0, 0, 0, 0, 0, 0, 0, 0, 0, 0, 0, 0, 0, 0, 0, 0, 0, 0, 0, 0, 0, 0, 0, 0, 0, 0, 0, 0, 0, 0, 0, 0, 0, 0, 0, 0, 0, 0, 0, 0, 0, 0, 0, 0, 0, 0, 0, 0, 0, 0, 0, 0, 0, 0, 0, 0, 0, 0, 0, 0, 0, 0, 0, 0, 0, 0, 0, 0, 0, 0, 0, 0, 0, 0, 0, 0, 0, 0, 0, 0, 0, 0, 0, 0, 0, 0, 0, 0, 0, 0, 0, 0, 0, 0, 0, 0, 0, 0, 0, 0, 0, 0, 0, 0, 0, 0, 0, 0, 0, 0, 0, 0, 0, 0, 0, 0, 0, 0, 0, 0, 0, 0, 0, 0, 0, 0, 0, 0, 0, 0, 0, 0, 0, 0, 0, 0, 0, 0, 0, 0, 0, 0, 0, 0, 0, 0, 0, 0, 0, 0, 0, 0, 0, 0, 0, 0, 0, 0, 0, 0, 0, 0, 0, 0, 0, 0, 0, 0, 0, 0, 0, 0, 0, 0, 0, 0, 0, 0, 0, 0, 0, 0, 0, 0, 0, 0, 0, 0, 0, 0, 0, 0, 0, 0, 0, 0, 0, 0, 0, 0, 0, 0, 0, 0, 0, 0, 0, 0, 0, 0, 0, 0, 0, 0, 0, 0, 0, 0, 0, 0, 0, 0, 0, 0, 0, 0, 0, 0, 0, 0, 0, 0, 0, 0, 0, 0, 0, 0, 0, 0, 0, 0, 0, 0, 0, 0, 0, 0, 0, 0, 0, 0, 0, 0, 0, 0, 0, 0, 0, 0, 0, 0, 0, 1, 0, 0, 0, 0, 0, 0, 0, 0, 0, 0, 0, 0, 0, 0, 0, 0, 0, 0, 0, 0, 0, 0, 0, 0, 0, 0, 0, 0, 0, 0, 0, 0, 0, 0, 0, 0, 0, 0, 0, 0, 0, 0, 0, 0, 0, 0, 0, 0, 0, 0, 0, 0, 0, 0, 0, 0, 0, 0, 0, 0, 0, 0, 0, 0, 0, 0, 0, 0, 0, 0, 0, 0, 0, 0, 0, 0, 0, 0, 0, 0, 0, 0, 0, 0, 0, 0, 0, 0, 0, 0, 0, 0, 0, 0, 0, 0, 0, 0, 0, 0, 0, 0, 0, 0, 0, 0, 0, 0, 0, 0, 0, 0, 0, 0, 0, 0, 0, 0, 0, 0, 0, 0, 0, 0, 0, 0, 0, 0, 0, 0, 0, 0, 0, 0, 0, 0, 0, 0, 0, 0, 0, 0, 0, 0, 0, 0, 0, 0, 0, 0, 0, 0, 0, 0, 0, 0, 0, 0, 0, 0, 0, 0, 0, 0, 0, 0, 0, 0, 0, 0, 0, 0, 0, 0, 0, 0, 0, 0, 0, 0, 0, 0, 0, 0, 0, 0, 0, 0, 0, 0, 0, 0, 0, 0, 0, 0, 0, 0, 0, 0, 0, 0, 0, 0, 0, 0, 0, 0, 0, 0, 0, 0, 0, 0, 0, 0, 0, 0, 0, 0, 0, 0, 0, 0, 0, 0, 0, 0, 0, 0, 0, 0, 0, 0, 0, 0, 0, 0, 0, 0, 0, 0, 0, 0, 0, 0, 0, 0, 0, 0, 0, 0, 0, 1, 0, 0, 0, 0, 0, 0, 0, 0, 0, 0, 0, 0, 0, 0, 0, 0, 0, 0, 0, 0, 0, 0, 0, 0, 0, 0, 0, 0, 0, 0, 0, 0, 0, 0, 0, 0, 0, 0, 0, 0, 0, 0, 0, 0, 0, 0, 0, 0, 0, 0, 0, 0, 0, 0, 0, 0, 0, 0, 0, 0, 0, 0, 0, 0, 0, 0, 0, 0, 0, 0, 0, 0, 0, 0, 0, 0, 0, 0, 0, 0, 0, 0, 0, 0, 0, 0, 1, 0, 0, 0, 0, 0, 0, 0, 0, 0, 0, 0, 0, 0, 0, 0, 0, 0, 0, 0, 0, 0, 0, 0, 0, 0, 0, 0, 0, 0, 0, 0, 0, 0, 0, 0, 0, 0, 0, 0, 0, 0, 0, 0, 0, 0, 0, 0, 0, 0, 0, 0, 0, 0, 0, 0, 0, 0, 0, 0, 0, 0, 0, 0, 0, 0, 0, 0, 0, 0, 0, 0, 0, 0, 0, 0, 0, 0, 0, 0, 0, 0, 0, 0, 0, 0, 0, 0, 0, 0, 0, 0, 0, 0, 0, 0, 0, 0, 0, 0, 0, 0, 0, 0, 0, 0, 0, 0, 0, 0, 0, 0, 0, 0, 0, 0, 0, 0, 0, 0, 0, 0, 0, 0, 0, 0, 0, 0, 0, 0, 0, 0, 0, 0, 0, 0, 0, 0, 0, 0, 0, 0, 0, 0, 0, 0, 0, 0, 0, 0, 0, 0, 0, 0, 0, 0, 0, 0, 0, 0, 0, 0, 0, 0, 0, 0, 0, 0, 0, 0, 0, 0, 0, 0, 0, 0, 0, 0, 0, 0, 0, 0, 0, 0, 0, 0, 0, 0, 0, 0, 0, 0, 0, 0, 0, 0, 0, 0, 0, 0, 0, 0, 0, 0, 0, 0, 0, 0, 0, 0, 0, 0, 0, 0, 0, 0, 0, 0, 0, 0, 0, 0, 0, 0, 0, 0, 0, 0, 0, 0, 0, 0, 0, 0, 0, 0, 0, 0, 0, 0, 0, 0, 0, 0, 0, 0, 0, 0, 0, 0, 0, 0, 0, 1, 0, 0, 0, 0, 0, 0, 0, 0, 0, 0, 0, 0, 0, 0, 0, 0, 0, 0, 0, 0, 0, 0, 0, 0, 0, 0, 0, 0, 0, 0, 0, 0, 0, 0, 0, 0, 0, 0, 0, 0, 0, 0, 0, 0, 0, 0, 0, 0, 0, 0, 0, 0, 0, 0, 0, 1, 0, 0, 0, 0, 0, 0, 0, 0, 0, 0, 0, 0, 0, 0, 0, 0, 0, 0, 0, 0, 0, 0, 0, 0, 0, 0, 0, 0, 0, 0, 0, 0, 0, 0, 0, 0, 0, 0, 0, 0, 0, 0, 0, 0, 0, 0, 0, 0, 0, 0, 0, 0, 0, 0, 0, 0, 0, 0, 0, 0, 0, 0, 0, 0, 0, 0, 0, 0, 0, 0, 0, 0, 0, 0, 0, 0, 0, 0, 0, 0, 0, 0, 0, 0, 0, 0, 0, 0, 0, 0, 0, 0, 0, 0, 0, 0, 0, 0, 0, 0, 0, 0, 0, 0, 0, 0, 0, 0, 0, 0, 0, 0, 0, 0, 0, 0, 0, 0, 0, 0, 0, 0, 0, 0, 0, 0, 0, 0, 0, 0, 0, 0, 0, 0, 0, 0, 0, 0, 0, 0, 0, 0, 0, 0, 0, 0, 0, 0, 0, 0, 0, 0, 0, 0, 0, 0, 0, 0, 0, 0, 0, 0, 0, 0, 0, 0, 0, 0, 0, 0, 0, 0, 0, 0, 0, 0, 0, 0, 0, 0, 0, 0, 0, 0, 0, 0, 0, 0, 0, 0, 0, 0, 0, 0, 0, 0, 0, 0, 0, 0, 0, 0, 0, 0, 0, 0, 0, 0, 0, 0, 0, 0, 0, 0, 0, 0, 0, 0, 0, 0, 0, 0, 0, 0, 0, 0, 0, 0, 0, 0, 0, 0, 0, 0, 0, 0, 0, 0, 0, 0, 0, 0, 0, 0, 0, 0, 0, 0, 0, 0, 0, 0, 0, 0, 0, 0, 0, 0, 0, 0, 0, 0, 0, 0, 0, 0, 0, 0, 0, 0, 0, 0, 0, 0, 0, 0, 0, 0, 0, 0, 0, 0, 0, 0, 0, 0, 0, 0, 0, 0, 0, 0, 0, 0, 0, 0, 0, 0, 0, 0, 0, 0, 0, 0, 0, 0, 0, 0, 0, 0, 0, 0, 0, 0, 0, 0, 0, 0, 0, 0, 0, 0, 0, 0, 0, 0, 0, 0, 0, 0, 0, 0, 0, 0, 0, 0, 0, 0, 0, 0, 0, 0, 0, 0, 0, 0, 0, 0, 0, 0, 0, 0, 0, 0, 0, 0, 0, 0, 0, 0, 0, 0, 0, 0, 0, 0, 0, 0, 0, 0, 0, 0, 0, 0, 0, 0, 0, 0, 0, 0, 0, 0, 0, 0, 0, 0, 0, 0, 0, 0, 0, 0, 0, 0, 0, 0, 0, 0, 0, 0, 0, 0, 0, 0, 0, 0, 0, 0, 0, 0, 0, 0, 0, 0, 0, 0, 0, 0, 0, 0, 0, 0, 0, 0, 0, 0, 0, 0, 0, 0, 0, 0, 0, 0, 0, 0, 0, 0, 0, 0, 0, 0, 0, 0, 0, 0, 0, 0, 0, 0, 0, 0, 0, 0, 0, 0, 0, 0, 0, 0, 0, 0, 0, 0, 0, 0, 0, 0, 0, 0, 0, 0, 0, 0, 0, 0, 0, 0, 0, 0, 0, 0, 0, 0, 0, 0, 0, 0, 0, 0, 0, 0, 0, 0, 0, 0, 0, 0, 0, 0, 0, 0, 0, 0, 0, 0, 0, 0, 0, 0, 0, 0, 0, 0, 0, 0, 0, 0, 0, 0, 0, 0, 0, 0, 0, 0, 0, 0, 0, 0, 0, 0, 0, 0, 0, 0, 0, 0, 0, 0, 0, 0, 0, 0, 0, 0, 0, 0, 0, 0, 0, 0, 0, 0, 0, 0, 0, 0, 0, 0, 0, 0, 0, 0, 0, 0, 0, 0, 0, 0, 0, 0, 0, 0, 0, 0, 0, 0, 0, 0, 0, 0, 0, 0, 0, 0, 0, 0, 0, 0, 0, 0, 0, 0, 0, 0, 0, 0, 0, 0, 0, 0, 0, 0, 0, 0, 0, 0, 0, 0, 0, 0, 0, 0, 0, 0, 0, 0, 0, 0, 0, 0, 0, 0, 0, 0, 0, 0, 0, 0, 0, 0, 0, 0, 0, 0, 0, 0, 0, 0, 0, 0, 0, 0, 0, 0, 0, 0, 0, 0, 0, 0, 0, 0, 0, 0, 0, 0, 0, 0, 0, 0, 0, 0, 0, 0, 0, 0, 0, 0, 0, 0, 0, 0, 0, 0, 0, 0, 0, 0, 0, 1, 0, 0, 0, 0, 0, 0, 0, 0, 0, 0, 0, 0, 0, 0, 0, 0, 0, 0, 0, 0, 0, 0, 0, 0, 0, 0, 0, 0, 0, 0, 0, 0, 0, 0, 0, 0, 0, 0, 0, 0, 0, 0, 0, 0, 0, 0, 0, 0, 0, 0, 0, 0, 0, 0, 0, 0, 0, 0, 0, 0, 0, 0, 0, 0, 0, 0, 0, 0, 0, 0, 0, 0, 0, 0, 1, 0, 0, 0, 0, 0, 0, 0, 0, 0, 0, 0, 0, 0, 0, 0, 0, 0, 0, 0, 0, 1, 0, 0, 1, 0, 0, 0, 0, 0, 0, 0, 0, 0, 0, 0, 0, 0, 0, 0, 0, 0, 0, 0, 0, 0, 0, 0, 0, 0, 0, 0, 0, 0, 0, 0, 0, 0, 0, 0, 0, 0, 0, 0, 0, 0, 0, 0, 0, 0, 0, 0, 0, 0, 0, 0, 0, 0, 0, 0, 0, 0, 0, 0, 0, 0, 0, 0, 0, 0, 0, 0, 0, 0, 0, 0, 0, 0, 0, 0, 0, 0, 0, 0, 0, 0, 0, 0, 0, 0, 0, 0, 0, 0, 0, 0, 0, 0, 0, 0, 0, 0, 0, 0, 0, 0, 0, 0, 0, 0, 0, 0, 0, 0, 0, 0, 0, 0, 0, 0, 0, 0, 0, 0, 0, 0, 0, 0, 0, 0, 0, 0, 0, 0, 0, 0, 0, 0, 0, 0, 0, 0, 0, 0, 0, 0, 0, 0, 0, 0, 0, 0, 0, 0, 0, 0, 0, 0, 0, 0, 0, 0, 0, 0, 0, 0, 0, 0, 0, 0, 0, 0, 0, 0, 0, 0, 0, 0, 0, 0, 0, 0, 0, 0, 0, 0, 0, 0, 0, 0, 0, 0, 0, 0, 0, 0, 0, 0, 0, 0, 0, 0, 0, 0, 0, 0, 0, 0, 0, 0, 0, 0, 0, 0, 0, 0, 0, 0, 0, 0, 0, 0, 0, 0, 0, 0, 0, 0, 0, 0, 0, 0, 0, 0, 0, 0, 0, 0, 0, 0, 0, 0, 0, 0, 0, 0, 0, 0, 0, 0, 0, 0, 0, 0, 0, 0, 0, 0, 0, 0, 0, 0, 0, 0, 0, 0, 0, 0, 0, 0, 0, 0, 0, 0, 0, 0, 0, 0, 0, 0, 0, 0, 0, 0, 0, 0, 0, 0, 0, 0, 0, 0, 0, 0, 0, 0, 0, 0, 0, 0, 0, 0, 0, 0, 0, 0, 0, 0, 0, 0, 0, 0, 0, 0, 0, 0, 0, 0, 0, 0, 0, 0, 0, 0, 0, 0, 0, 0, 0, 0, 0, 0, 0, 0, 0, 0, 0, 0, 0, 0, 0, 0, 0, 0, 0, 0, 0, 0, 0, 0, 0, 0, 0, 0, 0, 0, 0, 0, 0, 0, 0, 0, 0, 0, 0, 0, 0, 0, 0, 0, 0, 0, 0, 0, 0, 0, 0, 0, 0, 0, 0, 0, 0, 0, 0, 0, 0, 0, 0, 0, 0, 0, 0, 0, 0, 0, 0, 0, 0, 0, 0, 0, 0, 0, 0, 0, 0, 0, 0, 0, 0, 0, 0, 0, 0, 0, 0, 0, 0, 0, 0, 0, 0, 0, 0, 0, 0, 0, 0, 0, 0, 0, 0, 0, 0, 0, 0, 0, 0, 0, 0, 0, 0, 0, 0, 0, 0, 0, 0, 0, 0, 0, 0, 0, 0, 0, 0, 0, 0, 0, 0, 0, 0, 0, 0, 0, 0, 0, 0, 0, 0, 1, 0, 0, 0, 0, 0, 0, 0, 0, 0, 0, 0, 0, 0, 0, 0, 0, 0, 0, 0, 0, 0, 0, 0, 0, 0, 0, 0, 0, 0, 0, 0, 0, 0, 0, 0, 0, 0, 0, 0, 0, 0, 0, 0, 0, 0, 0, 0, 0, 0, 0, 0, 0, 0, 0, 0, 0, 0, 0, 0, 0, 0, 0, 0, 0, 0, 0, 0, 0, 0, 0, 0, 0, 0, 0, 0, 0, 0, 0, 0, 0, 0, 0, 0, 0, 0, 0, 0, 0, 0, 0, 0, 0, 0, 0, 0, 0, 0, 0, 0, 0, 0, 0, 0, 0, 0, 0, 0, 0, 0, 0, 0, 0, 0, 0, 0, 0, 0, 0, 0, 0, 0, 0, 0, 0, 0, 0, 0, 0, 0, 0, 0, 0, 0, 0, 0, 0, 0, 0, 0, 0, 0, 0, 0, 0, 0, 0, 0, 0, 0, 0, 0, 0, 0, 0, 0, 0, 0, 0, 0, 0, 0, 0, 0, 0, 0, 0, 0, 0, 0, 0, 0, 0, 0, 0, 0, 0, 0, 0, 0, 0, 0, 0, 0, 0, 0, 0, 0, 0, 0, 0, 0, 0, 0, 0, 0, 0, 0, 0, 0, 0, 0, 0, 0, 0, 0, 0, 0, 0, 0, 0, 0, 0, 0, 0, 0, 0, 0, 0, 0, 0, 0, 0, 0, 0, 0, 0, 0, 0, 0, 0, 0, 0, 0, 0, 0, 0, 0, 0, 0, 0, 0, 0, 0, 0, 0, 0, 0, 0, 0, 0, 0, 0, 0, 0, 0, 0, 0, 0, 0, 0, 0, 0, 0, 0, 0, 0, 0, 0, 0, 0, 0, 0, 0, 0, 0, 0, 0, 0, 0, 0, 0, 0, 0, 0, 0, 0, 0, 0, 0, 0, 0, 0, 0, 0, 0, 0, 0, 0, 0, 0, 0, 0, 0, 0, 0, 0, 0, 0, 0, 0, 0, 0, 0, 0, 0, 0, 0, 0, 0, 0, 0, 0, 0, 0, 0, 0, 0, 0, 0, 0, 0, 0, 0, 0, 0, 0, 0, 0, 0, 0, 0, 0, 0, 0, 0, 0, 0, 0, 0, 0, 0, 0, 0, 0, 0, 0, 0, 0, 0, 0, 0, 0, 0, 0, 0, 0, 0, 0, 0, 0, 0, 0, 0, 0, 0, 0, 0, 0, 0, 0, 0, 0, 0, 0, 0, 0, 0, 0, 0, 0, 0, 0, 0, 0, 0, 0, 0, 0, 0, 0, 0, 0, 0, 0, 0, 0, 0, 0, 0, 0, 0, 0, 0, 0, 0, 0, 0, 0, 0, 0, 0, 0, 0, 0, 0, 0, 0, 0, 0, 0, 0, 0, 0, 0, 0, 0, 0, 0, 0, 0, 0, 0, 0, 0, 0, 0, 0, 0, 0, 0, 0, 0, 0, 0, 0, 0, 0, 0, 0, 0, 0, 0, 0, 0, 0, 0, 0, 0, 0, 0, 0, 0, 0, 0, 0, 0, 0, 0, 0, 0, 0, 0, 0, 0, 0, 0, 0, 0, 0, 0, 0, 0, 0, 0, 0, 0, 0, 0, 0, 0, 0, 0, 0, 0, 0, 0, 0, 0, 0, 0, 0, 0, 1, 0, 0, 0, 0, 0, 0, 0, 0, 0, 0, 0, 0, 0, 0, 0, 0, 0, 0, 0, 0, 0, 0, 0, 0, 0, 0, 0, 0, 0, 0, 0, 0, 0, 0, 0, 2, 0, 0, 0, 0, 0, 0, 0, 0, 0, 0, 0, 0, 0, 0, 0, 0, 0, 0, 0, 0, 0, 0, 0, 0, 0, 0, 0, 0, 0, 0, 0, 0, 0, 0, 0, 0, 0, 0, 0, 0, 1, 0, 0, 0, 0, 0, 0, 0, 0, 0, 0, 0, 0, 0, 0, 0, 0, 0, 0, 0, 0, 0, 0, 0, 0, 0, 0, 0, 0, 0, 0, 0, 0, 0, 0, 0, 0, 0, 0, 0, 0, 0, 0, 0, 0, 0, 0, 0, 0, 0, 0, 0, 0, 0, 0, 0, 0, 0, 0, 0, 0, 0, 0, 0, 0, 0, 0, 0, 0, 0, 0, 0, 0, 0, 0, 0, 0, 0, 0, 0, 0, 0, 0, 0, 0, 0, 0, 0, 0, 0, 0, 0, 0, 0, 0, 0, 0, 0, 0, 0, 0, 0, 0, 0, 0, 0, 0, 0, 0, 0, 0, 0, 0, 0, 0, 0, 0, 0, 0, 0, 0, 0, 0, 0, 0, 0, 0, 0, 0, 0, 0, 0, 0, 0, 0, 0, 0, 0, 0, 0, 0, 0, 0, 0, 0, 0, 0, 0, 0, 0, 0, 0, 0, 0, 0, 0, 0, 0, 0, 0, 0, 0, 0, 0, 0, 0, 0, 0, 0, 0, 0, 0, 0, 0, 0, 0, 0, 0, 0, 0, 0, 0, 0, 0, 0, 0, 0, 0, 0, 0, 0, 0, 0, 0, 0, 0, 0, 0, 0, 0, 0, 0, 0, 0, 0, 0, 0, 0, 0, 0, 0, 0, 0, 0, 0, 0, 0, 0, 0, 0, 0, 0, 0, 0, 0, 0, 0, 0, 0, 0, 0, 0, 0, 0, 0, 0, 0, 0, 0, 0, 0, 0, 0, 0, 0, 0, 0, 0, 0, 0, 0, 0, 0, 0, 0, 0, 0, 0, 0, 0, 0, 0, 0, 0, 0, 0, 0, 0, 0, 0, 0, 0, 0, 0, 0, 0, 0, 0, 0, 0, 0, 0, 0, 0, 0, 0, 0, 0, 0, 0, 0, 0, 0, 0, 0, 0, 0, 0, 0, 0, 0, 0, 0, 0, 0, 0, 0, 0, 0, 0, 0, 0, 0, 0, 0, 0, 0, 0, 0, 0, 0, 0, 0, 0, 0, 0, 0, 0, 0, 0, 0, 0, 0, 0, 0, 0, 0, 0, 0, 0, 0, 0, 0, 0, 0, 0, 0, 0, 0, 0, 0, 0, 0, 0, 0, 0, 0, 0, 0, 0, 0, 0, 0, 0, 0, 0, 0, 0, 0, 0, 0, 0, 0, 0, 0, 0, 0, 0, 0, 0, 0, 0, 0, 0, 0, 0, 0, 0, 0, 0, 0, 0, 0, 0, 0, 0, 0, 0, 0, 0, 0, 0, 0, 0, 0, 0, 0, 0, 0, 0, 0, 0, 0, 0, 0, 0, 0, 0, 0, 0, 0, 0, 0, 0, 0, 0, 0, 0, 0, 0, 0, 0, 0, 0, 0, 0, 0, 0, 0, 0, 0, 0, 0, 0, 0, 0, 0, 0, 0, 0, 0, 0, 0, 0, 0, 0, 0, 0, 0, 0, 0, 0, 0, 0, 0, 0, 0, 0, 0, 0, 0, 0, 0, 0, 0, 0, 0, 0, 0, 0, 0, 0, 0, 0, 0, 0, 0, 0, 0, 0, 0, 0, 0, 0, 0, 0, 0, 0, 1, 0, 0, 0, 0, 0, 0, 0, 0, 0, 0, 0, 0, 0, 0, 0, 0, 0, 0, 0, 0, 0, 0, 0, 0, 0, 0, 0, 0, 0, 0, 0, 0, 0, 0, 0, 0, 0, 0, 0, 0, 0, 0, 0, 0, 0, 0, 0, 0, 0, 0, 0, 0, 0, 0, 0, 0, 0, 0, 0, 0, 0, 0, 0, 0, 0, 0, 0, 0, 0, 0, 0, 0, 0, 0, 0, 0, 0, 0, 0, 0, 0, 0, 0, 0, 0, 0, 0, 0, 0, 0, 0, 0, 0, 0, 0, 0, 0, 0, 0, 0, 0, 0, 0, 0, 0, 0, 0, 0, 0, 0, 2, 0, 0, 0, 0, 0, 0, 0, 0, 0, 0, 0, 0, 0, 0, 0, 0, 0, 0, 0, 0, 0, 0, 0, 0, 0, 0, 0, 0, 0, 0, 0, 0, 0, 0, 0, 0, 0, 0, 0, 0, 0, 0, 0, 0, 0, 0, 0, 0, 0, 0, 0, 0, 0, 0, 0, 0, 0, 0, 0, 0, 0, 0, 0, 0, 0, 0, 0, 0, 0, 0, 0, 0, 0, 0, 0, 0, 0, 0, 0, 0, 0, 0, 0, 0, 0, 0, 0, 0, 0, 0, 0, 0, 0, 0, 0, 0, 0, 0, 0, 0, 0, 0, 0, 0, 0, 0, 0, 0, 0, 0, 0, 0, 0, 0, 0, 0, 0, 0, 0, 0, 0, 0, 0, 0, 0, 0, 0, 0, 0, 0, 0, 0, 0, 0, 0, 0, 0, 0, 0, 0, 0, 0, 0, 0, 0, 0, 0, 0, 0, 0, 0, 0, 0, 0, 0, 0, 0, 0, 0, 0, 0, 0, 0, 0, 0, 0, 0, 0, 0, 0, 0, 0, 0, 0, 0, 0, 0, 0, 0, 0, 0, 0, 0, 0, 0, 0, 0, 0, 0, 0, 0, 0, 0, 0, 0, 0, 0, 0, 0, 0, 0, 0, 0, 0, 0, 0, 0, 0, 0, 0, 0, 0, 0, 0, 0, 0, 0, 0, 0, 0, 0, 0, 0, 0, 0, 0, 0, 0, 0, 0, 0, 0, 0, 0, 0, 0, 0, 0, 0, 0, 0, 0, 0, 0, 0, 0, 0, 0, 0, 0, 0, 0, 0, 0, 0, 0, 0, 0, 0, 0, 0, 0, 0, 0, 0, 0, 0, 0, 0, 0, 0, 0, 0, 0, 0, 0, 0, 0, 0, 0, 0, 0, 0, 0, 0, 0, 0, 0, 0, 0, 0, 0, 0, 0, 0, 0, 0, 0, 0, 0, 0, 0, 0, 0, 0, 0, 0, 0, 0, 0, 0, 0, 0, 0, 0, 0, 0, 0, 0, 0, 0, 0, 0, 0, 0, 0, 0, 0, 0, 0, 0, 0, 0, 0, 0, 0, 0, 0, 0, 0, 0, 0, 0, 0, 0, 0, 0, 0, 0, 0, 0, 0, 0, 0, 0, 0, 0, 0, 0, 0, 0, 0, 0, 0, 0, 0, 0, 0, 0, 0, 0, 0, 0, 0, 0, 0, 0, 0, 0, 0, 0, 0, 0, 0, 0, 0, 0, 0, 0, 0, 0, 0, 0, 0, 0, 0, 0, 0, 0, 0, 0, 0, 0, 0, 0, 0, 0, 0, 0, 0, 0, 0, 0, 0, 0, 0, 0, 0, 0, 0, 0, 0, 0, 0, 0, 0, 0, 0, 0, 0, 0, 0, 0, 0, 0, 0, 0, 0, 0, 0, 0, 0, 0, 0, 0, 0, 0, 0, 0, 0, 0, 0, 0, 0, 0, 0, 0, 0, 0, 0, 0, 0, 0, 0, 0, 0, 0, 0, 0, 0, 0, 0, 0, 0, 0, 0, 0, 0, 0, 0, 0, 0, 0, 0, 0, 0, 0, 0, 0, 0, 0, 0, 0, 0, 0, 0, 0, 0, 0, 0, 0, 0, 0, 0, 0, 0, 0, 0, 0, 0, 0, 0, 0, 0, 0, 0, 0, 0, 0, 0, 0, 0, 0, 0, 0, 0, 0, 0, 0, 0, 0, 0, 0, 0, 0, 0, 0, 0, 0, 0, 0, 0, 0, 0, 0, 0, 0, 0, 0, 0, 0, 0, 0, 0, 0, 0, 0, 0, 0, 0, 0, 0, 0, 0, 0, 0, 0, 0, 0, 0, 0, 0, 0, 0, 0, 0, 0, 0, 0, 0, 0, 0, 0, 0, 0, 0, 0, 0, 0, 0, 0, 0, 0, 0, 0, 0, 0, 0, 0, 0, 0, 0, 0, 0, 0, 0, 0, 0, 0, 0, 0, 0, 0, 0, 0, 0, 0, 0, 0, 0, 0, 0, 0, 0, 0, 0, 0, 0, 0, 0, 0, 0, 0, 0, 0, 0, 0, 0, 0, 0, 0, 0, 0, 0, 0, 0, 0, 0, 0, 0, 0, 0, 0, 0, 0, 0, 0, 0, 0, 0, 0, 0, 0, 0, 0, 0, 0, 0, 0, 0, 0, 0, 0, 0, 0, 0, 0, 0, 0, 0, 0, 0, 0, 0, 0, 0, 0, 0, 0, 0, 1, 0, 0, 0, 0, 0, 0, 0, 0, 0, 0, 0, 0, 0, 0, 0, 0, 0, 0, 0, 0, 0, 0, 0, 0, 0, 0, 0, 0, 0, 0, 0, 0, 0, 0, 0, 0, 0, 0, 0, 0, 0, 0, 0, 0, 0, 0, 0, 0, 0, 0, 0, 0, 0, 0, 0, 0, 0, 0, 0, 0, 0, 0, 0, 0, 0, 0, 0, 0, 0, 0, 0, 0, 0, 0, 0, 0, 0, 0, 0, 0, 0, 0, 0, 0, 0, 0, 0, 0, 0, 0, 0, 0, 0, 0, 0, 0, 0, 0, 0, 0, 0, 0, 0, 0, 0, 0, 0, 1, 0, 0, 0, 0, 0, 0, 0, 0, 0, 0, 0, 0, 0, 0, 0, 0, 0, 0, 0, 0, 0, 0, 0, 0, 0, 0, 0, 0, 0, 0, 0, 0, 0, 0, 0, 0, 0, 0, 0, 0, 0, 0, 0, 0, 0, 0, 0, 0, 0, 0, 0, 0, 0, 0, 0, 0, 0, 0, 0, 0, 0, 0, 0, 0, 0, 0, 0, 0, 0, 0, 0, 0, 0, 0, 0, 0, 0, 0, 0, 0, 0, 0, 0, 0, 0, 0, 0, 0, 0, 0, 0, 0, 0, 0, 0, 0, 0, 0, 0, 0, 0, 0, 0, 0, 0, 0, 0, 0, 0, 0, 0, 0, 0, 0, 0, 0, 0, 0, 0, 0, 0, 0, 0, 0, 0, 0, 0, 0, 0, 0, 0, 0, 0, 0, 0, 0, 0, 0, 0, 0, 0, 0, 0, 0, 0, 0, 0, 0, 0, 0, 0, 0, 0, 0, 0, 0, 0, 0, 0, 0, 0, 0, 0, 0, 0, 0, 0, 0, 0, 0, 0, 0, 0, 0, 0, 0, 0, 0, 0, 0, 0, 0, 0, 0, 0, 0, 0, 0, 0, 0, 0, 0, 0, 0, 0, 0, 0, 0, 0, 0, 0, 0, 0, 0, 0, 0, 0, 0, 0, 0, 0, 0, 0, 0, 0, 0, 0, 0, 0, 0, 0, 0, 0, 0, 0, 0, 0, 0, 0, 0, 0, 0, 0, 0, 0, 0, 0, 0, 0, 0, 0, 0, 0, 0, 0, 0, 0, 0, 0, 0, 0, 0, 0, 0, 0, 0, 0, 0, 0, 0, 0, 0, 0, 0, 0, 0, 0, 0, 0, 0, 0, 0, 0, 0, 0, 0, 0, 0, 0, 0, 0, 0, 0, 0, 0, 0, 0, 0, 0, 0, 0, 0, 0, 0, 0, 0, 0, 0, 0, 0, 0, 0, 0, 0, 0, 0, 0, 0, 0, 0, 0, 0, 0, 0, 0, 0, 0, 0, 0, 0, 0, 0, 0, 0, 0, 0, 0, 0, 0, 0, 0, 0, 0, 0, 0, 0, 0, 0, 0, 0, 0, 0, 0, 0, 0, 0, 0, 0, 0, 0, 0, 0, 0, 0, 0, 0, 0, 0, 0, 0, 0, 0, 0, 0, 0, 0, 0, 0, 0, 0, 0, 0, 0, 0, 0, 0, 0, 0, 0, 0, 0, 0, 0, 0, 0, 0, 0, 0, 0, 0, 0, 0, 0, 0, 0, 0, 0, 0, 0, 0, 0, 0, 0, 0, 0, 0, 0, 0, 0, 0, 0, 0, 0, 0, 0, 0, 0, 0, 0, 0, 0, 0, 0, 0, 0, 0, 0, 0, 0, 0, 0, 0, 0, 0, 0, 0, 0, 0, 0, 0, 0, 0, 0, 0, 0, 0, 0, 0, 0, 0, 0, 0, 0, 0, 0, 0, 0, 0, 0, 0, 0, 0, 0, 2, 0, 1, 0], type: <class 'list'>, valid types: <class 'bytes'>, <class 'bytearray'>, file-like object",
     "output_type": "error",
     "traceback": [
      "\u001b[0;31m---------------------------------------------------------------------------\u001b[0m",
      "\u001b[0;31mParamValidationError\u001b[0m                      Traceback (most recent call last)",
      "\u001b[0;32m<ipython-input-48-c9ab54ae3a48>\u001b[0m in \u001b[0;36m<module>\u001b[0;34m\u001b[0m\n\u001b[1;32m      1\u001b[0m response = runtime.invoke_endpoint(EndpointName = xgb_predictor.endpoint, # The name of the endpoint we created\n\u001b[1;32m      2\u001b[0m                                        \u001b[0mContentType\u001b[0m \u001b[0;34m=\u001b[0m \u001b[0;34m'text/csv'\u001b[0m\u001b[0;34m,\u001b[0m                     \u001b[0;31m# The data format that is expected\u001b[0m\u001b[0;34m\u001b[0m\u001b[0;34m\u001b[0m\u001b[0m\n\u001b[0;32m----> 3\u001b[0;31m                                        Body = test_bow)\n\u001b[0m",
      "\u001b[0;32m~/anaconda3/envs/amazonei_mxnet_p36/lib/python3.6/site-packages/botocore/client.py\u001b[0m in \u001b[0;36m_api_call\u001b[0;34m(self, *args, **kwargs)\u001b[0m\n\u001b[1;32m    355\u001b[0m                     \"%s() only accepts keyword arguments.\" % py_operation_name)\n\u001b[1;32m    356\u001b[0m             \u001b[0;31m# The \"self\" in this scope is referring to the BaseClient.\u001b[0m\u001b[0;34m\u001b[0m\u001b[0;34m\u001b[0m\u001b[0;34m\u001b[0m\u001b[0m\n\u001b[0;32m--> 357\u001b[0;31m             \u001b[0;32mreturn\u001b[0m \u001b[0mself\u001b[0m\u001b[0;34m.\u001b[0m\u001b[0m_make_api_call\u001b[0m\u001b[0;34m(\u001b[0m\u001b[0moperation_name\u001b[0m\u001b[0;34m,\u001b[0m \u001b[0mkwargs\u001b[0m\u001b[0;34m)\u001b[0m\u001b[0;34m\u001b[0m\u001b[0;34m\u001b[0m\u001b[0m\n\u001b[0m\u001b[1;32m    358\u001b[0m \u001b[0;34m\u001b[0m\u001b[0m\n\u001b[1;32m    359\u001b[0m         \u001b[0m_api_call\u001b[0m\u001b[0;34m.\u001b[0m\u001b[0m__name__\u001b[0m \u001b[0;34m=\u001b[0m \u001b[0mstr\u001b[0m\u001b[0;34m(\u001b[0m\u001b[0mpy_operation_name\u001b[0m\u001b[0;34m)\u001b[0m\u001b[0;34m\u001b[0m\u001b[0;34m\u001b[0m\u001b[0m\n",
      "\u001b[0;32m~/anaconda3/envs/amazonei_mxnet_p36/lib/python3.6/site-packages/botocore/client.py\u001b[0m in \u001b[0;36m_make_api_call\u001b[0;34m(self, operation_name, api_params)\u001b[0m\n\u001b[1;32m    647\u001b[0m         }\n\u001b[1;32m    648\u001b[0m         request_dict = self._convert_to_request_dict(\n\u001b[0;32m--> 649\u001b[0;31m             api_params, operation_model, context=request_context)\n\u001b[0m\u001b[1;32m    650\u001b[0m \u001b[0;34m\u001b[0m\u001b[0m\n\u001b[1;32m    651\u001b[0m         \u001b[0mservice_id\u001b[0m \u001b[0;34m=\u001b[0m \u001b[0mself\u001b[0m\u001b[0;34m.\u001b[0m\u001b[0m_service_model\u001b[0m\u001b[0;34m.\u001b[0m\u001b[0mservice_id\u001b[0m\u001b[0;34m.\u001b[0m\u001b[0mhyphenize\u001b[0m\u001b[0;34m(\u001b[0m\u001b[0;34m)\u001b[0m\u001b[0;34m\u001b[0m\u001b[0;34m\u001b[0m\u001b[0m\n",
      "\u001b[0;32m~/anaconda3/envs/amazonei_mxnet_p36/lib/python3.6/site-packages/botocore/client.py\u001b[0m in \u001b[0;36m_convert_to_request_dict\u001b[0;34m(self, api_params, operation_model, context)\u001b[0m\n\u001b[1;32m    695\u001b[0m             api_params, operation_model, context)\n\u001b[1;32m    696\u001b[0m         request_dict = self._serializer.serialize_to_request(\n\u001b[0;32m--> 697\u001b[0;31m             api_params, operation_model)\n\u001b[0m\u001b[1;32m    698\u001b[0m         \u001b[0;32mif\u001b[0m \u001b[0;32mnot\u001b[0m \u001b[0mself\u001b[0m\u001b[0;34m.\u001b[0m\u001b[0m_client_config\u001b[0m\u001b[0;34m.\u001b[0m\u001b[0minject_host_prefix\u001b[0m\u001b[0;34m:\u001b[0m\u001b[0;34m\u001b[0m\u001b[0;34m\u001b[0m\u001b[0m\n\u001b[1;32m    699\u001b[0m             \u001b[0mrequest_dict\u001b[0m\u001b[0;34m.\u001b[0m\u001b[0mpop\u001b[0m\u001b[0;34m(\u001b[0m\u001b[0;34m'host_prefix'\u001b[0m\u001b[0;34m,\u001b[0m \u001b[0;32mNone\u001b[0m\u001b[0;34m)\u001b[0m\u001b[0;34m\u001b[0m\u001b[0;34m\u001b[0m\u001b[0m\n",
      "\u001b[0;32m~/anaconda3/envs/amazonei_mxnet_p36/lib/python3.6/site-packages/botocore/validate.py\u001b[0m in \u001b[0;36mserialize_to_request\u001b[0;34m(self, parameters, operation_model)\u001b[0m\n\u001b[1;32m    291\u001b[0m                                                     operation_model.input_shape)\n\u001b[1;32m    292\u001b[0m             \u001b[0;32mif\u001b[0m \u001b[0mreport\u001b[0m\u001b[0;34m.\u001b[0m\u001b[0mhas_errors\u001b[0m\u001b[0;34m(\u001b[0m\u001b[0;34m)\u001b[0m\u001b[0;34m:\u001b[0m\u001b[0;34m\u001b[0m\u001b[0;34m\u001b[0m\u001b[0m\n\u001b[0;32m--> 293\u001b[0;31m                 \u001b[0;32mraise\u001b[0m \u001b[0mParamValidationError\u001b[0m\u001b[0;34m(\u001b[0m\u001b[0mreport\u001b[0m\u001b[0;34m=\u001b[0m\u001b[0mreport\u001b[0m\u001b[0;34m.\u001b[0m\u001b[0mgenerate_report\u001b[0m\u001b[0;34m(\u001b[0m\u001b[0;34m)\u001b[0m\u001b[0;34m)\u001b[0m\u001b[0;34m\u001b[0m\u001b[0;34m\u001b[0m\u001b[0m\n\u001b[0m\u001b[1;32m    294\u001b[0m         return self._serializer.serialize_to_request(parameters,\n\u001b[1;32m    295\u001b[0m                                                      operation_model)\n",
      "\u001b[0;31mParamValidationError\u001b[0m: Parameter validation failed:\nInvalid type for parameter Body, value: [0, 0, 0, 0, 0, 0, 0, 0, 0, 0, 0, 0, 0, 0, 0, 0, 0, 0, 0, 0, 0, 0, 0, 0, 0, 0, 0, 0, 0, 0, 0, 0, 0, 0, 0, 0, 0, 0, 0, 0, 0, 0, 0, 0, 0, 0, 0, 0, 0, 0, 0, 0, 0, 0, 0, 0, 0, 0, 0, 0, 0, 0, 0, 0, 0, 0, 0, 0, 0, 0, 0, 0, 0, 0, 0, 0, 0, 0, 0, 0, 0, 0, 0, 0, 0, 0, 0, 0, 0, 0, 0, 0, 0, 0, 0, 0, 0, 0, 0, 0, 0, 0, 0, 0, 0, 0, 0, 0, 0, 0, 0, 0, 0, 0, 0, 0, 0, 0, 0, 0, 0, 0, 0, 0, 0, 0, 0, 0, 0, 0, 0, 0, 0, 0, 0, 0, 0, 0, 0, 0, 0, 0, 0, 0, 0, 0, 0, 0, 0, 0, 0, 0, 0, 0, 0, 0, 0, 0, 0, 0, 0, 0, 0, 0, 0, 0, 0, 0, 0, 0, 0, 0, 0, 0, 0, 0, 0, 0, 0, 0, 0, 0, 0, 0, 0, 0, 0, 0, 0, 0, 0, 0, 0, 0, 0, 0, 0, 0, 0, 0, 0, 0, 0, 0, 0, 0, 0, 0, 0, 0, 0, 0, 0, 0, 0, 0, 0, 0, 0, 0, 0, 0, 0, 0, 0, 0, 1, 0, 0, 0, 0, 0, 0, 0, 0, 0, 0, 0, 0, 0, 0, 0, 0, 0, 0, 0, 0, 0, 0, 0, 0, 0, 0, 0, 0, 0, 1, 0, 0, 0, 0, 0, 0, 0, 0, 0, 0, 0, 0, 0, 0, 0, 0, 0, 0, 0, 0, 0, 0, 0, 0, 0, 0, 0, 0, 0, 0, 0, 0, 0, 0, 0, 0, 0, 0, 0, 0, 0, 0, 0, 0, 0, 0, 0, 0, 0, 0, 0, 0, 0, 0, 0, 0, 0, 0, 0, 0, 0, 0, 0, 0, 0, 0, 0, 0, 0, 0, 0, 0, 0, 0, 0, 0, 0, 0, 0, 0, 0, 0, 0, 0, 0, 0, 0, 0, 0, 0, 0, 0, 0, 0, 0, 0, 0, 0, 0, 0, 0, 0, 0, 0, 0, 0, 0, 0, 0, 0, 0, 0, 0, 0, 0, 0, 0, 0, 0, 0, 0, 0, 0, 0, 0, 0, 0, 0, 0, 0, 0, 0, 0, 0, 0, 0, 0, 0, 0, 0, 0, 0, 0, 0, 0, 0, 0, 0, 0, 0, 0, 0, 0, 0, 0, 0, 0, 0, 0, 0, 0, 0, 0, 0, 0, 0, 0, 0, 0, 0, 0, 0, 0, 0, 0, 0, 0, 0, 0, 0, 0, 0, 0, 0, 0, 0, 0, 0, 0, 0, 0, 0, 0, 0, 0, 0, 0, 0, 0, 0, 0, 0, 0, 0, 0, 0, 0, 0, 0, 0, 0, 0, 0, 0, 0, 0, 0, 0, 0, 0, 0, 0, 0, 0, 0, 0, 0, 0, 0, 0, 0, 0, 0, 0, 0, 0, 0, 0, 0, 0, 0, 0, 0, 0, 0, 0, 0, 0, 0, 0, 0, 0, 0, 0, 0, 0, 0, 0, 0, 0, 0, 0, 0, 0, 0, 0, 0, 0, 0, 0, 0, 0, 0, 0, 0, 0, 0, 0, 0, 0, 0, 0, 0, 0, 0, 0, 0, 0, 0, 0, 0, 0, 0, 0, 0, 0, 0, 0, 0, 0, 0, 0, 0, 0, 0, 0, 0, 0, 0, 0, 0, 0, 0, 0, 0, 0, 0, 0, 0, 0, 0, 0, 0, 0, 0, 0, 0, 0, 0, 0, 0, 0, 0, 0, 0, 0, 0, 0, 0, 0, 0, 0, 0, 0, 0, 0, 0, 0, 0, 0, 0, 0, 0, 0, 0, 0, 0, 0, 0, 0, 0, 0, 0, 0, 0, 0, 0, 0, 0, 0, 0, 0, 0, 0, 0, 0, 0, 0, 0, 1, 0, 0, 0, 0, 0, 0, 0, 0, 0, 0, 0, 0, 0, 0, 0, 0, 0, 0, 0, 0, 0, 0, 0, 0, 0, 0, 0, 0, 0, 0, 0, 0, 0, 0, 0, 0, 0, 0, 0, 0, 0, 0, 0, 0, 0, 0, 0, 0, 0, 0, 0, 0, 0, 0, 0, 0, 0, 0, 0, 0, 0, 0, 0, 0, 0, 0, 0, 0, 0, 0, 0, 0, 0, 0, 0, 0, 0, 0, 0, 0, 0, 0, 0, 0, 0, 0, 0, 0, 0, 0, 0, 0, 0, 0, 0, 0, 0, 0, 0, 0, 0, 0, 0, 0, 0, 0, 0, 0, 0, 0, 0, 0, 0, 0, 0, 0, 0, 0, 0, 0, 0, 0, 0, 0, 0, 0, 0, 0, 0, 0, 0, 0, 0, 0, 0, 0, 0, 0, 0, 0, 0, 0, 0, 0, 0, 0, 0, 0, 0, 0, 0, 0, 0, 0, 0, 0, 0, 0, 0, 0, 0, 0, 0, 0, 0, 0, 0, 0, 0, 0, 0, 0, 0, 0, 0, 0, 0, 0, 0, 0, 0, 0, 0, 0, 0, 0, 0, 0, 0, 0, 0, 0, 0, 0, 0, 0, 0, 0, 0, 0, 0, 0, 0, 0, 0, 0, 0, 0, 0, 0, 0, 0, 0, 0, 0, 0, 0, 0, 0, 0, 0, 0, 0, 0, 0, 0, 0, 0, 0, 0, 0, 0, 0, 0, 0, 0, 0, 0, 0, 0, 0, 0, 0, 0, 0, 0, 0, 0, 0, 0, 0, 0, 0, 1, 0, 0, 0, 0, 0, 0, 0, 0, 0, 0, 0, 0, 0, 0, 0, 0, 0, 0, 0, 0, 0, 0, 0, 0, 0, 0, 0, 0, 0, 0, 0, 0, 0, 0, 0, 0, 0, 0, 0, 0, 0, 0, 0, 0, 0, 0, 0, 0, 0, 0, 0, 0, 0, 0, 0, 0, 0, 0, 0, 0, 0, 0, 0, 0, 0, 0, 0, 0, 0, 0, 0, 0, 0, 0, 0, 0, 0, 0, 0, 0, 0, 0, 0, 0, 0, 0, 1, 0, 0, 0, 0, 0, 0, 0, 0, 0, 0, 0, 0, 0, 0, 0, 0, 0, 0, 0, 0, 0, 0, 0, 0, 0, 0, 0, 0, 0, 0, 0, 0, 0, 0, 0, 0, 0, 0, 0, 0, 0, 0, 0, 0, 0, 0, 0, 0, 0, 0, 0, 0, 0, 0, 0, 0, 0, 0, 0, 0, 0, 0, 0, 0, 0, 0, 0, 0, 0, 0, 0, 0, 0, 0, 0, 0, 0, 0, 0, 0, 0, 0, 0, 0, 0, 0, 0, 0, 0, 0, 0, 0, 0, 0, 0, 0, 0, 0, 0, 0, 0, 0, 0, 0, 0, 0, 0, 0, 0, 0, 0, 0, 0, 0, 0, 0, 0, 0, 0, 0, 0, 0, 0, 0, 0, 0, 0, 0, 0, 0, 0, 0, 0, 0, 0, 0, 0, 0, 0, 0, 0, 0, 0, 0, 0, 0, 0, 0, 0, 0, 0, 0, 0, 0, 0, 0, 0, 0, 0, 0, 0, 0, 0, 0, 0, 0, 0, 0, 0, 0, 0, 0, 0, 0, 0, 0, 0, 0, 0, 0, 0, 0, 0, 0, 0, 0, 0, 0, 0, 0, 0, 0, 0, 0, 0, 0, 0, 0, 0, 0, 0, 0, 0, 0, 0, 0, 0, 0, 0, 0, 0, 0, 0, 0, 0, 0, 0, 0, 0, 0, 0, 0, 0, 0, 0, 0, 0, 0, 0, 0, 0, 0, 0, 0, 0, 0, 0, 0, 0, 0, 0, 0, 0, 0, 0, 0, 0, 0, 0, 0, 0, 0, 1, 0, 0, 0, 0, 0, 0, 0, 0, 0, 0, 0, 0, 0, 0, 0, 0, 0, 0, 0, 0, 0, 0, 0, 0, 0, 0, 0, 0, 0, 0, 0, 0, 0, 0, 0, 0, 0, 0, 0, 0, 0, 0, 0, 0, 0, 0, 0, 0, 0, 0, 0, 0, 0, 0, 0, 1, 0, 0, 0, 0, 0, 0, 0, 0, 0, 0, 0, 0, 0, 0, 0, 0, 0, 0, 0, 0, 0, 0, 0, 0, 0, 0, 0, 0, 0, 0, 0, 0, 0, 0, 0, 0, 0, 0, 0, 0, 0, 0, 0, 0, 0, 0, 0, 0, 0, 0, 0, 0, 0, 0, 0, 0, 0, 0, 0, 0, 0, 0, 0, 0, 0, 0, 0, 0, 0, 0, 0, 0, 0, 0, 0, 0, 0, 0, 0, 0, 0, 0, 0, 0, 0, 0, 0, 0, 0, 0, 0, 0, 0, 0, 0, 0, 0, 0, 0, 0, 0, 0, 0, 0, 0, 0, 0, 0, 0, 0, 0, 0, 0, 0, 0, 0, 0, 0, 0, 0, 0, 0, 0, 0, 0, 0, 0, 0, 0, 0, 0, 0, 0, 0, 0, 0, 0, 0, 0, 0, 0, 0, 0, 0, 0, 0, 0, 0, 0, 0, 0, 0, 0, 0, 0, 0, 0, 0, 0, 0, 0, 0, 0, 0, 0, 0, 0, 0, 0, 0, 0, 0, 0, 0, 0, 0, 0, 0, 0, 0, 0, 0, 0, 0, 0, 0, 0, 0, 0, 0, 0, 0, 0, 0, 0, 0, 0, 0, 0, 0, 0, 0, 0, 0, 0, 0, 0, 0, 0, 0, 0, 0, 0, 0, 0, 0, 0, 0, 0, 0, 0, 0, 0, 0, 0, 0, 0, 0, 0, 0, 0, 0, 0, 0, 0, 0, 0, 0, 0, 0, 0, 0, 0, 0, 0, 0, 0, 0, 0, 0, 0, 0, 0, 0, 0, 0, 0, 0, 0, 0, 0, 0, 0, 0, 0, 0, 0, 0, 0, 0, 0, 0, 0, 0, 0, 0, 0, 0, 0, 0, 0, 0, 0, 0, 0, 0, 0, 0, 0, 0, 0, 0, 0, 0, 0, 0, 0, 0, 0, 0, 0, 0, 0, 0, 0, 0, 0, 0, 0, 0, 0, 0, 0, 0, 0, 0, 0, 0, 0, 0, 0, 0, 0, 0, 0, 0, 0, 0, 0, 0, 0, 0, 0, 0, 0, 0, 0, 0, 0, 0, 0, 0, 0, 0, 0, 0, 0, 0, 0, 0, 0, 0, 0, 0, 0, 0, 0, 0, 0, 0, 0, 0, 0, 0, 0, 0, 0, 0, 0, 0, 0, 0, 0, 0, 0, 0, 0, 0, 0, 0, 0, 0, 0, 0, 0, 0, 0, 0, 0, 0, 0, 0, 0, 0, 0, 0, 0, 0, 0, 0, 0, 0, 0, 0, 0, 0, 0, 0, 0, 0, 0, 0, 0, 0, 0, 0, 0, 0, 0, 0, 0, 0, 0, 0, 0, 0, 0, 0, 0, 0, 0, 0, 0, 0, 0, 0, 0, 0, 0, 0, 0, 0, 0, 0, 0, 0, 0, 0, 0, 0, 0, 0, 0, 0, 0, 0, 0, 0, 0, 0, 0, 0, 0, 0, 0, 0, 0, 0, 0, 0, 0, 0, 0, 0, 0, 0, 0, 0, 0, 0, 0, 0, 0, 0, 0, 0, 0, 0, 0, 0, 0, 0, 0, 0, 0, 0, 0, 0, 0, 0, 0, 0, 0, 0, 0, 0, 0, 0, 0, 0, 0, 0, 0, 0, 0, 0, 0, 0, 0, 0, 0, 0, 0, 0, 0, 0, 0, 0, 0, 0, 0, 0, 0, 0, 0, 0, 0, 0, 0, 0, 0, 0, 0, 0, 0, 0, 0, 0, 0, 0, 0, 0, 0, 0, 0, 0, 0, 0, 0, 0, 0, 0, 0, 0, 0, 0, 0, 0, 0, 0, 0, 0, 0, 0, 0, 0, 0, 0, 0, 0, 0, 0, 0, 0, 0, 0, 0, 0, 0, 0, 0, 0, 0, 0, 0, 0, 0, 0, 0, 0, 0, 0, 0, 0, 0, 0, 0, 0, 0, 0, 0, 0, 0, 0, 0, 0, 0, 0, 0, 0, 0, 0, 0, 0, 0, 0, 0, 0, 0, 0, 0, 0, 0, 0, 0, 0, 0, 0, 0, 0, 0, 0, 0, 0, 0, 0, 0, 0, 0, 0, 0, 0, 0, 0, 0, 0, 0, 0, 0, 0, 0, 0, 0, 0, 0, 0, 0, 0, 0, 0, 0, 0, 0, 0, 0, 0, 0, 0, 0, 0, 0, 1, 0, 0, 0, 0, 0, 0, 0, 0, 0, 0, 0, 0, 0, 0, 0, 0, 0, 0, 0, 0, 0, 0, 0, 0, 0, 0, 0, 0, 0, 0, 0, 0, 0, 0, 0, 0, 0, 0, 0, 0, 0, 0, 0, 0, 0, 0, 0, 0, 0, 0, 0, 0, 0, 0, 0, 0, 0, 0, 0, 0, 0, 0, 0, 0, 0, 0, 0, 0, 0, 0, 0, 0, 0, 0, 1, 0, 0, 0, 0, 0, 0, 0, 0, 0, 0, 0, 0, 0, 0, 0, 0, 0, 0, 0, 0, 1, 0, 0, 1, 0, 0, 0, 0, 0, 0, 0, 0, 0, 0, 0, 0, 0, 0, 0, 0, 0, 0, 0, 0, 0, 0, 0, 0, 0, 0, 0, 0, 0, 0, 0, 0, 0, 0, 0, 0, 0, 0, 0, 0, 0, 0, 0, 0, 0, 0, 0, 0, 0, 0, 0, 0, 0, 0, 0, 0, 0, 0, 0, 0, 0, 0, 0, 0, 0, 0, 0, 0, 0, 0, 0, 0, 0, 0, 0, 0, 0, 0, 0, 0, 0, 0, 0, 0, 0, 0, 0, 0, 0, 0, 0, 0, 0, 0, 0, 0, 0, 0, 0, 0, 0, 0, 0, 0, 0, 0, 0, 0, 0, 0, 0, 0, 0, 0, 0, 0, 0, 0, 0, 0, 0, 0, 0, 0, 0, 0, 0, 0, 0, 0, 0, 0, 0, 0, 0, 0, 0, 0, 0, 0, 0, 0, 0, 0, 0, 0, 0, 0, 0, 0, 0, 0, 0, 0, 0, 0, 0, 0, 0, 0, 0, 0, 0, 0, 0, 0, 0, 0, 0, 0, 0, 0, 0, 0, 0, 0, 0, 0, 0, 0, 0, 0, 0, 0, 0, 0, 0, 0, 0, 0, 0, 0, 0, 0, 0, 0, 0, 0, 0, 0, 0, 0, 0, 0, 0, 0, 0, 0, 0, 0, 0, 0, 0, 0, 0, 0, 0, 0, 0, 0, 0, 0, 0, 0, 0, 0, 0, 0, 0, 0, 0, 0, 0, 0, 0, 0, 0, 0, 0, 0, 0, 0, 0, 0, 0, 0, 0, 0, 0, 0, 0, 0, 0, 0, 0, 0, 0, 0, 0, 0, 0, 0, 0, 0, 0, 0, 0, 0, 0, 0, 0, 0, 0, 0, 0, 0, 0, 0, 0, 0, 0, 0, 0, 0, 0, 0, 0, 0, 0, 0, 0, 0, 0, 0, 0, 0, 0, 0, 0, 0, 0, 0, 0, 0, 0, 0, 0, 0, 0, 0, 0, 0, 0, 0, 0, 0, 0, 0, 0, 0, 0, 0, 0, 0, 0, 0, 0, 0, 0, 0, 0, 0, 0, 0, 0, 0, 0, 0, 0, 0, 0, 0, 0, 0, 0, 0, 0, 0, 0, 0, 0, 0, 0, 0, 0, 0, 0, 0, 0, 0, 0, 0, 0, 0, 0, 0, 0, 0, 0, 0, 0, 0, 0, 0, 0, 0, 0, 0, 0, 0, 0, 0, 0, 0, 0, 0, 0, 0, 0, 0, 0, 0, 0, 0, 0, 0, 0, 0, 0, 0, 0, 0, 0, 0, 0, 0, 0, 0, 0, 0, 0, 0, 0, 0, 0, 0, 0, 0, 0, 0, 0, 0, 0, 0, 0, 0, 0, 0, 0, 0, 0, 0, 0, 0, 0, 0, 0, 0, 0, 0, 0, 0, 0, 0, 0, 0, 0, 0, 0, 0, 0, 0, 0, 0, 0, 0, 0, 0, 0, 0, 0, 0, 0, 0, 0, 0, 1, 0, 0, 0, 0, 0, 0, 0, 0, 0, 0, 0, 0, 0, 0, 0, 0, 0, 0, 0, 0, 0, 0, 0, 0, 0, 0, 0, 0, 0, 0, 0, 0, 0, 0, 0, 0, 0, 0, 0, 0, 0, 0, 0, 0, 0, 0, 0, 0, 0, 0, 0, 0, 0, 0, 0, 0, 0, 0, 0, 0, 0, 0, 0, 0, 0, 0, 0, 0, 0, 0, 0, 0, 0, 0, 0, 0, 0, 0, 0, 0, 0, 0, 0, 0, 0, 0, 0, 0, 0, 0, 0, 0, 0, 0, 0, 0, 0, 0, 0, 0, 0, 0, 0, 0, 0, 0, 0, 0, 0, 0, 0, 0, 0, 0, 0, 0, 0, 0, 0, 0, 0, 0, 0, 0, 0, 0, 0, 0, 0, 0, 0, 0, 0, 0, 0, 0, 0, 0, 0, 0, 0, 0, 0, 0, 0, 0, 0, 0, 0, 0, 0, 0, 0, 0, 0, 0, 0, 0, 0, 0, 0, 0, 0, 0, 0, 0, 0, 0, 0, 0, 0, 0, 0, 0, 0, 0, 0, 0, 0, 0, 0, 0, 0, 0, 0, 0, 0, 0, 0, 0, 0, 0, 0, 0, 0, 0, 0, 0, 0, 0, 0, 0, 0, 0, 0, 0, 0, 0, 0, 0, 0, 0, 0, 0, 0, 0, 0, 0, 0, 0, 0, 0, 0, 0, 0, 0, 0, 0, 0, 0, 0, 0, 0, 0, 0, 0, 0, 0, 0, 0, 0, 0, 0, 0, 0, 0, 0, 0, 0, 0, 0, 0, 0, 0, 0, 0, 0, 0, 0, 0, 0, 0, 0, 0, 0, 0, 0, 0, 0, 0, 0, 0, 0, 0, 0, 0, 0, 0, 0, 0, 0, 0, 0, 0, 0, 0, 0, 0, 0, 0, 0, 0, 0, 0, 0, 0, 0, 0, 0, 0, 0, 0, 0, 0, 0, 0, 0, 0, 0, 0, 0, 0, 0, 0, 0, 0, 0, 0, 0, 0, 0, 0, 0, 0, 0, 0, 0, 0, 0, 0, 0, 0, 0, 0, 0, 0, 0, 0, 0, 0, 0, 0, 0, 0, 0, 0, 0, 0, 0, 0, 0, 0, 0, 0, 0, 0, 0, 0, 0, 0, 0, 0, 0, 0, 0, 0, 0, 0, 0, 0, 0, 0, 0, 0, 0, 0, 0, 0, 0, 0, 0, 0, 0, 0, 0, 0, 0, 0, 0, 0, 0, 0, 0, 0, 0, 0, 0, 0, 0, 0, 0, 0, 0, 0, 0, 0, 0, 0, 0, 0, 0, 0, 0, 0, 0, 0, 0, 0, 0, 0, 0, 0, 0, 0, 0, 0, 0, 0, 0, 0, 0, 0, 0, 0, 0, 0, 0, 0, 0, 0, 0, 0, 0, 0, 0, 0, 0, 0, 0, 0, 0, 0, 0, 0, 0, 0, 0, 0, 0, 0, 0, 0, 0, 0, 0, 0, 0, 0, 0, 0, 0, 0, 0, 0, 0, 0, 0, 0, 0, 0, 0, 0, 0, 0, 0, 0, 0, 0, 0, 0, 0, 0, 0, 0, 0, 0, 0, 0, 0, 0, 0, 0, 0, 0, 0, 0, 0, 0, 0, 0, 0, 0, 1, 0, 0, 0, 0, 0, 0, 0, 0, 0, 0, 0, 0, 0, 0, 0, 0, 0, 0, 0, 0, 0, 0, 0, 0, 0, 0, 0, 0, 0, 0, 0, 0, 0, 0, 0, 2, 0, 0, 0, 0, 0, 0, 0, 0, 0, 0, 0, 0, 0, 0, 0, 0, 0, 0, 0, 0, 0, 0, 0, 0, 0, 0, 0, 0, 0, 0, 0, 0, 0, 0, 0, 0, 0, 0, 0, 0, 1, 0, 0, 0, 0, 0, 0, 0, 0, 0, 0, 0, 0, 0, 0, 0, 0, 0, 0, 0, 0, 0, 0, 0, 0, 0, 0, 0, 0, 0, 0, 0, 0, 0, 0, 0, 0, 0, 0, 0, 0, 0, 0, 0, 0, 0, 0, 0, 0, 0, 0, 0, 0, 0, 0, 0, 0, 0, 0, 0, 0, 0, 0, 0, 0, 0, 0, 0, 0, 0, 0, 0, 0, 0, 0, 0, 0, 0, 0, 0, 0, 0, 0, 0, 0, 0, 0, 0, 0, 0, 0, 0, 0, 0, 0, 0, 0, 0, 0, 0, 0, 0, 0, 0, 0, 0, 0, 0, 0, 0, 0, 0, 0, 0, 0, 0, 0, 0, 0, 0, 0, 0, 0, 0, 0, 0, 0, 0, 0, 0, 0, 0, 0, 0, 0, 0, 0, 0, 0, 0, 0, 0, 0, 0, 0, 0, 0, 0, 0, 0, 0, 0, 0, 0, 0, 0, 0, 0, 0, 0, 0, 0, 0, 0, 0, 0, 0, 0, 0, 0, 0, 0, 0, 0, 0, 0, 0, 0, 0, 0, 0, 0, 0, 0, 0, 0, 0, 0, 0, 0, 0, 0, 0, 0, 0, 0, 0, 0, 0, 0, 0, 0, 0, 0, 0, 0, 0, 0, 0, 0, 0, 0, 0, 0, 0, 0, 0, 0, 0, 0, 0, 0, 0, 0, 0, 0, 0, 0, 0, 0, 0, 0, 0, 0, 0, 0, 0, 0, 0, 0, 0, 0, 0, 0, 0, 0, 0, 0, 0, 0, 0, 0, 0, 0, 0, 0, 0, 0, 0, 0, 0, 0, 0, 0, 0, 0, 0, 0, 0, 0, 0, 0, 0, 0, 0, 0, 0, 0, 0, 0, 0, 0, 0, 0, 0, 0, 0, 0, 0, 0, 0, 0, 0, 0, 0, 0, 0, 0, 0, 0, 0, 0, 0, 0, 0, 0, 0, 0, 0, 0, 0, 0, 0, 0, 0, 0, 0, 0, 0, 0, 0, 0, 0, 0, 0, 0, 0, 0, 0, 0, 0, 0, 0, 0, 0, 0, 0, 0, 0, 0, 0, 0, 0, 0, 0, 0, 0, 0, 0, 0, 0, 0, 0, 0, 0, 0, 0, 0, 0, 0, 0, 0, 0, 0, 0, 0, 0, 0, 0, 0, 0, 0, 0, 0, 0, 0, 0, 0, 0, 0, 0, 0, 0, 0, 0, 0, 0, 0, 0, 0, 0, 0, 0, 0, 0, 0, 0, 0, 0, 0, 0, 0, 0, 0, 0, 0, 0, 0, 0, 0, 0, 0, 0, 0, 0, 0, 0, 0, 0, 0, 0, 0, 0, 0, 0, 0, 0, 0, 0, 0, 0, 0, 0, 0, 0, 0, 0, 0, 0, 0, 0, 0, 0, 0, 0, 0, 0, 0, 0, 0, 0, 0, 0, 0, 0, 0, 0, 0, 0, 0, 0, 0, 0, 0, 0, 0, 0, 0, 0, 0, 0, 0, 0, 0, 0, 0, 0, 0, 0, 0, 0, 0, 0, 0, 0, 0, 0, 0, 0, 0, 0, 0, 0, 0, 0, 0, 0, 0, 1, 0, 0, 0, 0, 0, 0, 0, 0, 0, 0, 0, 0, 0, 0, 0, 0, 0, 0, 0, 0, 0, 0, 0, 0, 0, 0, 0, 0, 0, 0, 0, 0, 0, 0, 0, 0, 0, 0, 0, 0, 0, 0, 0, 0, 0, 0, 0, 0, 0, 0, 0, 0, 0, 0, 0, 0, 0, 0, 0, 0, 0, 0, 0, 0, 0, 0, 0, 0, 0, 0, 0, 0, 0, 0, 0, 0, 0, 0, 0, 0, 0, 0, 0, 0, 0, 0, 0, 0, 0, 0, 0, 0, 0, 0, 0, 0, 0, 0, 0, 0, 0, 0, 0, 0, 0, 0, 0, 0, 0, 0, 2, 0, 0, 0, 0, 0, 0, 0, 0, 0, 0, 0, 0, 0, 0, 0, 0, 0, 0, 0, 0, 0, 0, 0, 0, 0, 0, 0, 0, 0, 0, 0, 0, 0, 0, 0, 0, 0, 0, 0, 0, 0, 0, 0, 0, 0, 0, 0, 0, 0, 0, 0, 0, 0, 0, 0, 0, 0, 0, 0, 0, 0, 0, 0, 0, 0, 0, 0, 0, 0, 0, 0, 0, 0, 0, 0, 0, 0, 0, 0, 0, 0, 0, 0, 0, 0, 0, 0, 0, 0, 0, 0, 0, 0, 0, 0, 0, 0, 0, 0, 0, 0, 0, 0, 0, 0, 0, 0, 0, 0, 0, 0, 0, 0, 0, 0, 0, 0, 0, 0, 0, 0, 0, 0, 0, 0, 0, 0, 0, 0, 0, 0, 0, 0, 0, 0, 0, 0, 0, 0, 0, 0, 0, 0, 0, 0, 0, 0, 0, 0, 0, 0, 0, 0, 0, 0, 0, 0, 0, 0, 0, 0, 0, 0, 0, 0, 0, 0, 0, 0, 0, 0, 0, 0, 0, 0, 0, 0, 0, 0, 0, 0, 0, 0, 0, 0, 0, 0, 0, 0, 0, 0, 0, 0, 0, 0, 0, 0, 0, 0, 0, 0, 0, 0, 0, 0, 0, 0, 0, 0, 0, 0, 0, 0, 0, 0, 0, 0, 0, 0, 0, 0, 0, 0, 0, 0, 0, 0, 0, 0, 0, 0, 0, 0, 0, 0, 0, 0, 0, 0, 0, 0, 0, 0, 0, 0, 0, 0, 0, 0, 0, 0, 0, 0, 0, 0, 0, 0, 0, 0, 0, 0, 0, 0, 0, 0, 0, 0, 0, 0, 0, 0, 0, 0, 0, 0, 0, 0, 0, 0, 0, 0, 0, 0, 0, 0, 0, 0, 0, 0, 0, 0, 0, 0, 0, 0, 0, 0, 0, 0, 0, 0, 0, 0, 0, 0, 0, 0, 0, 0, 0, 0, 0, 0, 0, 0, 0, 0, 0, 0, 0, 0, 0, 0, 0, 0, 0, 0, 0, 0, 0, 0, 0, 0, 0, 0, 0, 0, 0, 0, 0, 0, 0, 0, 0, 0, 0, 0, 0, 0, 0, 0, 0, 0, 0, 0, 0, 0, 0, 0, 0, 0, 0, 0, 0, 0, 0, 0, 0, 0, 0, 0, 0, 0, 0, 0, 0, 0, 0, 0, 0, 0, 0, 0, 0, 0, 0, 0, 0, 0, 0, 0, 0, 0, 0, 0, 0, 0, 0, 0, 0, 0, 0, 0, 0, 0, 0, 0, 0, 0, 0, 0, 0, 0, 0, 0, 0, 0, 0, 0, 0, 0, 0, 0, 0, 0, 0, 0, 0, 0, 0, 0, 0, 0, 0, 0, 0, 0, 0, 0, 0, 0, 0, 0, 0, 0, 0, 0, 0, 0, 0, 0, 0, 0, 0, 0, 0, 0, 0, 0, 0, 0, 0, 0, 0, 0, 0, 0, 0, 0, 0, 0, 0, 0, 0, 0, 0, 0, 0, 0, 0, 0, 0, 0, 0, 0, 0, 0, 0, 0, 0, 0, 0, 0, 0, 0, 0, 0, 0, 0, 0, 0, 0, 0, 0, 0, 0, 0, 0, 0, 0, 0, 0, 0, 0, 0, 0, 0, 0, 0, 0, 0, 0, 0, 0, 0, 0, 0, 0, 0, 0, 0, 0, 0, 0, 0, 0, 0, 0, 0, 0, 0, 0, 0, 0, 0, 0, 0, 0, 0, 0, 0, 0, 0, 0, 0, 0, 0, 0, 0, 0, 0, 0, 0, 0, 0, 0, 0, 0, 0, 0, 0, 0, 0, 0, 0, 0, 0, 0, 0, 0, 0, 0, 0, 0, 0, 0, 0, 0, 0, 0, 0, 0, 0, 0, 0, 0, 0, 0, 0, 0, 0, 0, 0, 0, 0, 0, 0, 0, 0, 0, 0, 0, 0, 0, 0, 0, 0, 0, 0, 0, 0, 0, 0, 0, 0, 0, 0, 0, 0, 0, 0, 0, 0, 0, 0, 0, 0, 0, 0, 0, 0, 0, 0, 0, 0, 0, 0, 0, 0, 0, 0, 0, 0, 0, 0, 0, 0, 0, 0, 0, 0, 0, 0, 0, 0, 0, 0, 0, 0, 0, 0, 0, 0, 0, 0, 0, 0, 0, 0, 0, 0, 0, 0, 0, 0, 0, 0, 0, 0, 0, 1, 0, 0, 0, 0, 0, 0, 0, 0, 0, 0, 0, 0, 0, 0, 0, 0, 0, 0, 0, 0, 0, 0, 0, 0, 0, 0, 0, 0, 0, 0, 0, 0, 0, 0, 0, 0, 0, 0, 0, 0, 0, 0, 0, 0, 0, 0, 0, 0, 0, 0, 0, 0, 0, 0, 0, 0, 0, 0, 0, 0, 0, 0, 0, 0, 0, 0, 0, 0, 0, 0, 0, 0, 0, 0, 0, 0, 0, 0, 0, 0, 0, 0, 0, 0, 0, 0, 0, 0, 0, 0, 0, 0, 0, 0, 0, 0, 0, 0, 0, 0, 0, 0, 0, 0, 0, 0, 0, 1, 0, 0, 0, 0, 0, 0, 0, 0, 0, 0, 0, 0, 0, 0, 0, 0, 0, 0, 0, 0, 0, 0, 0, 0, 0, 0, 0, 0, 0, 0, 0, 0, 0, 0, 0, 0, 0, 0, 0, 0, 0, 0, 0, 0, 0, 0, 0, 0, 0, 0, 0, 0, 0, 0, 0, 0, 0, 0, 0, 0, 0, 0, 0, 0, 0, 0, 0, 0, 0, 0, 0, 0, 0, 0, 0, 0, 0, 0, 0, 0, 0, 0, 0, 0, 0, 0, 0, 0, 0, 0, 0, 0, 0, 0, 0, 0, 0, 0, 0, 0, 0, 0, 0, 0, 0, 0, 0, 0, 0, 0, 0, 0, 0, 0, 0, 0, 0, 0, 0, 0, 0, 0, 0, 0, 0, 0, 0, 0, 0, 0, 0, 0, 0, 0, 0, 0, 0, 0, 0, 0, 0, 0, 0, 0, 0, 0, 0, 0, 0, 0, 0, 0, 0, 0, 0, 0, 0, 0, 0, 0, 0, 0, 0, 0, 0, 0, 0, 0, 0, 0, 0, 0, 0, 0, 0, 0, 0, 0, 0, 0, 0, 0, 0, 0, 0, 0, 0, 0, 0, 0, 0, 0, 0, 0, 0, 0, 0, 0, 0, 0, 0, 0, 0, 0, 0, 0, 0, 0, 0, 0, 0, 0, 0, 0, 0, 0, 0, 0, 0, 0, 0, 0, 0, 0, 0, 0, 0, 0, 0, 0, 0, 0, 0, 0, 0, 0, 0, 0, 0, 0, 0, 0, 0, 0, 0, 0, 0, 0, 0, 0, 0, 0, 0, 0, 0, 0, 0, 0, 0, 0, 0, 0, 0, 0, 0, 0, 0, 0, 0, 0, 0, 0, 0, 0, 0, 0, 0, 0, 0, 0, 0, 0, 0, 0, 0, 0, 0, 0, 0, 0, 0, 0, 0, 0, 0, 0, 0, 0, 0, 0, 0, 0, 0, 0, 0, 0, 0, 0, 0, 0, 0, 0, 0, 0, 0, 0, 0, 0, 0, 0, 0, 0, 0, 0, 0, 0, 0, 0, 0, 0, 0, 0, 0, 0, 0, 0, 0, 0, 0, 0, 0, 0, 0, 0, 0, 0, 0, 0, 0, 0, 0, 0, 0, 0, 0, 0, 0, 0, 0, 0, 0, 0, 0, 0, 0, 0, 0, 0, 0, 0, 0, 0, 0, 0, 0, 0, 0, 0, 0, 0, 0, 0, 0, 0, 0, 0, 0, 0, 0, 0, 0, 0, 0, 0, 0, 0, 0, 0, 0, 0, 0, 0, 0, 0, 0, 0, 0, 0, 0, 0, 0, 0, 0, 0, 0, 0, 0, 0, 0, 0, 0, 0, 0, 0, 0, 0, 0, 0, 0, 0, 0, 0, 0, 0, 0, 0, 0, 0, 0, 0, 0, 0, 0, 0, 0, 0, 0, 0, 0, 0, 0, 0, 0, 0, 0, 0, 0, 0, 0, 0, 0, 0, 0, 2, 0, 1, 0], type: <class 'list'>, valid types: <class 'bytes'>, <class 'bytearray'>, file-like object"
     ]
    }
   ],
   "source": [
    "response = runtime.invoke_endpoint(EndpointName = xgb_predictor.endpoint, # The name of the endpoint we created\n",
    "                                       ContentType = 'text/csv',                     # The data format that is expected\n",
    "                                       Body = test_bow)"
   ]
  },
  {
   "cell_type": "markdown",
   "metadata": {},
   "source": [
    "So why did we get an error?\n",
    "\n",
    "Because we tried to send the endpoint a list of integers but it expected us to send data of type `text/csv`. So, we need to convert it."
   ]
  },
  {
   "cell_type": "code",
   "execution_count": 49,
   "metadata": {},
   "outputs": [],
   "source": [
    "response = runtime.invoke_endpoint(EndpointName = xgb_predictor.endpoint, # The name of the endpoint we created\n",
    "                                       ContentType = 'text/csv',                     # The data format that is expected\n",
    "                                       Body = ','.join([str(val) for val in test_bow]).encode('utf-8'))"
   ]
  },
  {
   "cell_type": "code",
   "execution_count": 50,
   "metadata": {},
   "outputs": [
    {
     "name": "stdout",
     "output_type": "stream",
     "text": [
      "{'ResponseMetadata': {'RequestId': '30256e84-fd5e-4fe3-a9dc-75d2d1a3114b', 'HTTPStatusCode': 200, 'HTTPHeaders': {'x-amzn-requestid': '30256e84-fd5e-4fe3-a9dc-75d2d1a3114b', 'x-amzn-invoked-production-variant': 'AllTraffic', 'date': 'Sat, 24 Apr 2021 22:25:41 GMT', 'content-type': 'text/csv; charset=utf-8', 'content-length': '18'}, 'RetryAttempts': 0}, 'ContentType': 'text/csv; charset=utf-8', 'InvokedProductionVariant': 'AllTraffic', 'Body': <botocore.response.StreamingBody object at 0x7f68d9753668>}\n"
     ]
    }
   ],
   "source": [
    "print(response)"
   ]
  },
  {
   "cell_type": "markdown",
   "metadata": {},
   "source": [
    "As we can see, the response from our model is a somewhat complicated looking dict that contains a bunch of information. The bit that we are most interested in is `'Body'` object which is a streaming object that we need to `read` in order to make use of."
   ]
  },
  {
   "cell_type": "code",
   "execution_count": 51,
   "metadata": {},
   "outputs": [
    {
     "name": "stdout",
     "output_type": "stream",
     "text": [
      "0.3434404134750366\n"
     ]
    }
   ],
   "source": [
    "response = response['Body'].read().decode('utf-8')\n",
    "print(response)"
   ]
  },
  {
   "cell_type": "markdown",
   "metadata": {},
   "source": [
    "Now that we know how to process the incoming user data we can start setting up the infrastructure to make our simple web app work. To do this we will make use of two different services. Amazon's Lambda and API Gateway services.\n",
    "\n",
    "Lambda is a service which allows someone to write some relatively simple code and have it executed whenever a chosen trigger occurs. For example, you may want to update a database whenever new data is uploaded to a folder stored on S3.\n",
    "\n",
    "API Gateway is a service that allows you to create HTTP endpoints (url addresses) which are connected to other AWS services. One of the benefits to this is that you get to decide what credentials, if any, are required to access these endpoints.\n",
    "\n",
    "In our case we are going to set up an HTTP endpoint through API Gateway which is open to the public. Then, whenever anyone sends data to our public endpoint we will trigger a Lambda function which will send the input (in our case a review) to our model's endpoint and then return the result."
   ]
  },
  {
   "cell_type": "markdown",
   "metadata": {},
   "source": [
    "### Setting up a Lambda function\n",
    "\n",
    "The first thing we are going to do is set up a Lambda function. This Lambda function will be executed whenever our public API has data sent to it. When it is executed it will receive the data, perform any sort of processing that is required, send the data (the review) to the SageMaker endpoint we've created and then return the result.\n",
    "\n",
    "#### Part A: Create an IAM Role for the Lambda function\n",
    "\n",
    "Since we want the Lambda function to call a SageMaker endpoint, we need to make sure that it has permission to do so. To do this, we will construct a role that we can later give the Lambda function.\n",
    "\n",
    "Using the AWS Console, navigate to the **IAM** page and click on **Roles**. Then, click on **Create role**. Make sure that the **AWS service** is the type of trusted entity selected and choose **Lambda** as the service that will use this role, then click **Next: Permissions**.\n",
    "\n",
    "In the search box type `sagemaker` and select the check box next to the **AmazonSageMakerFullAccess** policy. Then, click on **Next: Review**.\n",
    "\n",
    "Lastly, give this role a name. Make sure you use a name that you will remember later on, for example `LambdaSageMakerRole`. Then, click on **Create role**."
   ]
  },
  {
   "cell_type": "markdown",
   "metadata": {},
   "source": [
    "#### Part B: Create a Lambda function\n",
    "\n",
    "Now it is time to actually create the Lambda function. Remember from earlier that in order to process the user provided input and send it to our endpoint we need to gather two pieces of information:\n",
    "\n",
    " - The name of the endpoint, and\n",
    " - the vocabulary object.\n",
    "\n",
    "We will copy these pieces of information to our Lambda function after we create it.\n",
    "\n",
    "To start, using the AWS Console, navigate to the AWS Lambda page and click on **Create a function**. When you get to the next page, make sure that **Author from scratch** is selected. Now, name your Lambda function, using a name that you will remember later on, for example `sentiment_analysis_xgboost_func`. Make sure that the **Python 3.6** runtime is selected and then choose the role that you created in the previous part. Then, click on **Create Function**.\n",
    "\n",
    "On the next page you will see some information about the Lambda function you've just created. If you scroll down you should see an editor in which you can write the code that will be executed when your Lambda function is triggered. Collecting the code we wrote above to process a single review and adding it to the provided example `lambda_handler` we arrive at the following.\n",
    "\n",
    "```python\n",
    "# We need to use the low-level library to interact with SageMaker since the SageMaker API\n",
    "# is not available natively through Lambda.\n",
    "import boto3\n",
    "\n",
    "# And we need the regular expression library to do some of the data processing\n",
    "import re\n",
    "\n",
    "REPLACE_NO_SPACE = re.compile(\"(\\.)|(\\;)|(\\:)|(\\!)|(\\')|(\\?)|(\\,)|(\\\")|(\\()|(\\))|(\\[)|(\\])\")\n",
    "REPLACE_WITH_SPACE = re.compile(\"(<br\\s*/><br\\s*/>)|(\\-)|(\\/)\")\n",
    "\n",
    "def review_to_words(review):\n",
    "    words = REPLACE_NO_SPACE.sub(\"\", review.lower())\n",
    "    words = REPLACE_WITH_SPACE.sub(\" \", words)\n",
    "    return words\n",
    "    \n",
    "def bow_encoding(words, vocabulary):\n",
    "    bow = [0] * len(vocabulary) # Start by setting the count for each word in the vocabulary to zero.\n",
    "    for word in words.split():  # For each word in the string\n",
    "        if word in vocabulary:  # If the word is one that occurs in the vocabulary, increase its count.\n",
    "            bow[vocabulary[word]] += 1\n",
    "    return bow\n",
    "\n",
    "\n",
    "def lambda_handler(event, context):\n",
    "    \n",
    "    vocab = \"*** ACTUAL VOCABULARY GOES HERE ***\"\n",
    "    \n",
    "    words = review_to_words(event['body'])\n",
    "    bow = bow_encoding(words, vocab)\n",
    "\n",
    "    # The SageMaker runtime is what allows us to invoke the endpoint that we've created.\n",
    "    runtime = boto3.Session().client('sagemaker-runtime')\n",
    "\n",
    "    # Now we use the SageMaker runtime to invoke our endpoint, sending the review we were given\n",
    "    response = runtime.invoke_endpoint(EndpointName = '***ENDPOINT NAME HERE***',# The name of the endpoint we created\n",
    "                                       ContentType = 'text/csv',                 # The data format that is expected\n",
    "                                       Body = ','.join([str(val) for val in bow]).encode('utf-8')) # The actual review\n",
    "\n",
    "    # The response is an HTTP response whose body contains the result of our inference\n",
    "    result = response['Body'].read().decode('utf-8')\n",
    "    \n",
    "    # Round the result so that our web app only gets '1' or '0' as a response.\n",
    "    result = round(float(result))\n",
    "\n",
    "    return {\n",
    "        'statusCode' : 200,\n",
    "        'headers' : { 'Content-Type' : 'text/plain', 'Access-Control-Allow-Origin' : '*' },\n",
    "        'body' : str(result)\n",
    "    }\n",
    "```"
   ]
  },
  {
   "cell_type": "markdown",
   "metadata": {},
   "source": [
    "Once you have copy and pasted the code above into the Lambda code editor, replace the `**ENDPOINT NAME HERE**` portion with the name of the endpoint that we deployed earlier. You can determine the name of the endpoint using the code cell below."
   ]
  },
  {
   "cell_type": "code",
   "execution_count": 52,
   "metadata": {},
   "outputs": [
    {
     "data": {
      "text/plain": [
       "'xgboost-2021-04-24-21-18-41-974'"
      ]
     },
     "execution_count": 52,
     "metadata": {},
     "output_type": "execute_result"
    }
   ],
   "source": [
    "xgb_predictor.endpoint"
   ]
  },
  {
   "cell_type": "markdown",
   "metadata": {},
   "source": [
    "In addition, you will need to copy the vocabulary dict to the appropriate place in the code at the beginning of the `lambda_handler` method. The cell below prints out the vocabulary dict in a way that is easy to copy and paste."
   ]
  },
  {
   "cell_type": "code",
   "execution_count": 53,
   "metadata": {
    "collapsed": true,
    "jupyter": {
     "outputs_hidden": true
    }
   },
   "outputs": [
    {
     "name": "stdout",
     "output_type": "stream",
     "text": [
      "{'in': 2257, 'the': 4426, 'year': 4978, '2006': 36, 'cold': 872, 'blood': 512, 'riveting': 3708, 'thriller': 4472, 'from': 1840, 'has': 2043, 'two': 4620, 'new': 3003, 'interesting': 2325, 'that': 4424, 'it': 2366, 'did': 1241, 'not': 3040, 'previous': 3387, 'have': 2052, 'first': 1736, 'and': 226, 'most': 2909, 'is': 2360, 'fact': 1621, 'its': 2370, 'star': 4150, 'robert': 3713, 'blake': 498, 'was': 4805, 'recently': 3567, 'on': 3105, 'trial': 4580, 'for': 1784, 'his': 2118, 'wife': 4884, 'second': 3846, 'recent': 3566, 'oscar': 3133, 'winning': 4898, 'showed': 3956, 'back': 378, 'story': 4207, 'of': 3083, 'this': 4457, 'haunting': 2051, 'true': 4596, 'crime': 1055, 'tales': 4357, 'author': 359, 'these': 4441, 'twists': 4619, 'make': 2713, 'film': 1716, 'modern': 2882, 'audience': 352, 'as': 311, 'stand': 4143, 'alone': 194, 'era': 1513, 'top': 4525, 'notch': 3043, 'every': 1539, 'way': 4820, 'notable': 3041, 'stunning': 4244, 'black': 493, 'white': 4870, 'cinematography': 820, 'hall': 2009, 'later': 2525, 'american': 213, 'beauty': 430, 'road': 3709, 'to': 4507, 'fame': 1642, 'many': 2732, 'farm': 1656, 'house': 2178, 'at': 331, 'night': 3013, 'or': 3124, 'tree': 4576, 'country': 1014, 'could': 1007, 'be': 418, 'sold': 4052, 'fine': 1729, 'art': 304, 'photography': 3260, 'combined': 885, 'with': 4911, 'jack': 2373, 'direction': 1261, 'brooks': 596, 'superb': 4296, 'editing': 1421, 'early': 1400, 'scenes': 3811, 'where': 4864, 'we': 4823, 'see': 3855, 'mundane': 2938, 'daily': 1097, 'life': 2592, 'innocent': 2294, 'family': 1645, 'about': 67, 'beautifully': 429, 'killers': 2471, 'rich': 3685, 'atmosphere': 333, 'created': 1037, 'sets': 3899, 'stage': 4139, 'suspense': 4330, 'even': 1533, 'when': 4862, 'everyone': 1542, 'knows': 2493, 'how': 2181, 'all': 187, 'going': 1931, 'end': 1468, 'due': 1382, 'based': 404, 'real': 3547, 'events': 1536, 'also': 199, 'great': 1964, 'day': 1129, 'age': 148, 'brilliantly': 584, 'staged': 4140, 'murder': 2939, 'scene': 3809, 'can': 665, 'depicted': 1183, 'graphic': 1958, 'nature': 2975, 'act': 97, 'viewer': 4738, 'drop': 1369, 'shown': 3959, 'screen': 3829, 'nicely': 3009, 'by': 642, 'eerie': 1427, 'performance': 3228, 'more': 2904, 'sympathetic': 4342, 'yet': 4984, 'brutal': 603, 'side': 3965, 'killing': 2472, 'duo': 1386, 'flashback': 1746, 'horrible': 2163, 'childhood': 790, 'are': 285, 'extremely': 1610, 'well': 4843, 'done': 1322, 'then': 4436, 'there': 4438, 'towards': 4540, 'he': 2056, 'speaking': 4095, 'before': 440, 'being': 448, 'sent': 3880, 'makes': 2716, 'last': 2521, 'so': 4046, 'speak': 4094, 'one': 3107, 'those': 4460, 'classic': 835, 'movie': 2926, 'moments': 2887, 'perfect': 3224, 'marriage': 2743, 'gritty': 1977, 'acting': 99, 'writing': 4971, 'flawless': 1751, 'dare': 1113, 'you': 4986, 'your': 4991, 'mind': 2849, 'image': 2233, 'reflection': 3585, 'window': 4894, 'down': 1335, 'face': 1616, 'actual': 108, 'tears': 4380, 'only': 3110, 'thing': 4450, 'slow': 4031, 'moving': 2928, 'middle': 2833, 'forced': 1787, 'social': 4049, 'commentary': 899, 'political': 3324, 'message': 2819, 'death': 1141, 'compelling': 916, 'depiction': 1185, 'mad': 2696, 'their': 4431, 'what': 4858, 'low': 2676, 'budget': 610, 'sex': 3907, 'comedy': 890, 'anyway': 261, 'describes': 1196, 'perfectly': 3226, 'people': 3221, 'spain': 4091, 'they': 4442, 'come': 886, 'up': 4683, 'better': 472, 'idea': 2213, 'mean': 2779, 'do': 1302, 'kind': 2476, 'movies': 2927, 'since': 3990, '60s': 54, 'like': 2599, 'them': 4432, 'neither': 2996, 'teen': 4388, 'nor': 3032, 'cant': 671, 'let': 2579, '12': 3, 'old': 3100, 'watch': 4811, 'guys': 2001, 'bed': 436, 'kissing': 2484, 'hell': 2077, 'never': 3001, 'want': 4788, 'go': 1924, 'should': 3951, 'rated': 3527, 'because': 432, '35': 45, 'seem': 3861, 'laugh': 2529, 'watching': 4815, 'im': 2232, 'truly': 4597, 'disappointed': 1273, 'maybe': 2776, 'dont': 1324, 'which': 4867, 'quite': 3495, 'an': 223, 'important': 2247, 'part': 3193, 'foreign': 1790, 'humor': 2192, 'awful': 372, 'films': 1721, 'except': 1556, 'stick': 4185, 'doing': 1312, 'dramas': 1347, 'if': 2222, 'try': 4600, 'nights': 3016, 'strong': 4229, 'language': 2516, 'crude': 1069, 'sexual': 3908, '13': 4, 'canadian': 667, 'home': 2142, 'video': 4733, 'eddie': 1416, 'murphy': 2944, 'came': 656, 'out': 3141, 'starred': 4153, 'places': 3284, 'saturday': 3792, 'made': 2697, 'raw': 3532, 'just': 2437, 'found': 1811, 'subject': 4253, 'matter': 2769, 'however': 2183, 'very': 4723, 'funny': 1852, 'talking': 4360, 'making': 2718, 'fun': 1848, 'such': 4268, 'singers': 3994, 'michael': 2829, 'fan': 1648, 'supposedly': 4307, 'domino': 1319, 'harvey': 2042, 'model': 2880, 'turned': 4606, 'hunter': 2199, 'id': 2212, 'say': 3799, 'always': 203, 'keep': 2449, 'open': 3112, 'comes': 891, 'lost': 2660, 'chances': 748, 'became': 431, 'apparent': 269, 'had': 2003, 'narration': 2965, 'throughout': 4478, 'something': 4066, 'off': 3084, 'heroine': 2091, 'arrogant': 303, 'wanted': 4789, 'her': 2085, 'shot': 3949, 'head': 2057, 'too': 4522, 'incoherent': 2265, 'boring': 543, 'who': 4871, 'gives': 1914, 'crap': 1031, 'kinda': 2477, 'really': 3556, 'think': 4452, 'big': 478, 'time': 4495, 'directors': 1266, 'need': 2987, 'own': 3158, 'writers': 4969, 'imagination': 2236, 'some': 4061, 'ignorant': 2223, 'surviving': 4323, 'christmas': 810, '2004': 34, 'ben': 463, 'james': 2378, 'catherine': 719, 'bill': 481, 'macy': 2695, 'jennifer': 2392, 'mike': 2838, 'mitchell': 2875, 'girlfriend': 1910, 'doesnt': 1309, 'left': 2561, 'decides': 1150, 'return': 3665, 'now': 3054, 'lives': 2628, 'obnoxious': 3067, 'dimensional': 1253, 'mainly': 2708, 'acts': 107, 'smile': 4036, 'character': 758, 'mentally': 2809, 'creep': 1051, 'but': 636, 'into': 2332, 'mess': 2818, 'farce': 1654, 'much': 2934, 'sense': 3877, 'sentimental': 3882, 'messages': 2820, 'phony': 3256, 'pg': 3250, 'yes': 4982, 'ill': 2228, 'admit': 122, 'believed': 455, 'hype': 2207, 'surrounding': 4319, 'piece': 3272, 'work': 4940, 'living': 2629, 'mexico': 2827, 'city': 825, 'concerning': 933, 'expecting': 1578, 'finally': 1724, 'mexican': 2826, 'ages': 152, 'both': 547, 'popular': 3333, 'unfortunately': 4654, 'utterly': 4702, 'disappointing': 1274, 'presents': 3377, 'us': 4690, 'couples': 1017, 'obvious': 3071, 'problems': 3409, 'third': 4455, 'party': 3200, 'each': 1395, 'couple': 1016, 'reach': 3536, 'point': 3316, 'absolute': 71, 'absurd': 73, 'plot': 3309, 'turns': 4609, 'battle': 414, 'taken': 4350, 'group': 1980, 'literally': 2622, 'girls': 1911, 'boys': 559, 'stupid': 4247, 'childish': 791, 'guess': 1989, 'supposed': 4306, 'goes': 1930, 'bad': 382, 'worse': 4951, 'performances': 3229, 'range': 3516, 'good': 1937, 'miss': 2866, 'mediocre': 2791, 'mr': 2929, 'acceptable': 81, 'job': 2405, 'opera': 3116, 'flat': 1748, 'circumstances': 822, 'characters': 760, 'poor': 3328, 'represents': 3639, 'mature': 2773, 'relationship': 3597, 'etc': 1527, 'fail': 1625, 'miserably': 2864, 'impressive': 2253, 'box': 555, 'office': 3091, 'believe': 454, 'risk': 3704, 'must': 2950, 'mistake': 2871, 'sequence': 3887, 'after': 143, 'seeing': 3857, 'seems': 3864, 'bit': 488, 'disappointment': 1275, 'gangster': 1868, 'similar': 3978, 'form': 1798, 'while': 4868, 'enjoyable': 1485, 'cinema': 816, 'nearly': 2981, 'sequel': 3885, 'installment': 2303, 'few': 1700, 'discussion': 1284, 'amongst': 218, 'title': 4504, 'almost': 193, 'decide': 1148, 'simon': 3982, 'will': 4886, 'suffice': 4279, 'over': 3148, 'tony': 4521, 'influence': 2286, 'order': 3126, 'board': 522, 'results': 3662, 'heads': 2059, 'war': 4792, 'determined': 1221, 'become': 433, 'wont': 4932, 'official': 3094, 'until': 4680, 'dragon': 1344, 'material': 2766, 'power': 3359, 'current': 1084, 'hidden': 2096, 'somewhere': 4069, 'china': 795, 'race': 3499, 'devoted': 1231, 'search': 3841, 'cops': 993, 'opposite': 3123, 'sides': 3967, 'leads': 2548, 'involves': 2348, 'named': 2961, 'jet': 2400, 'nick': 3012, 'lots': 2662, 'presence': 3373, 'attention': 345, 'least': 2554, 'wonder': 4926, 'influenced': 2287, 'director': 1264, 'any': 256, 'does': 1308, 'deliver': 1169, 'stealing': 4171, 'give': 1912, 'rest': 3657, 'actors': 104, 'ensemble': 1492, 'cast': 710, 'thought': 4462, 'subtle': 4260, 'usually': 4700, 'glorious': 1921, 'self': 3869, 'louis': 2665, 'under': 4639, 'appreciated': 280, 'arent': 288, 'weak': 4824, 'easily': 1406, 'theyre': 4445, 'gangsters': 1869, 'although': 201, 'things': 4451, 'eye': 1611, 'camera': 659, 'striking': 4226, 'shots': 3950, 'without': 4913, 'saying': 3800, 'definitely': 1162, 'frame': 1815, 'treated': 4573, 'series': 3890, 'innovative': 2295, 'brilliant': 583, 'angles': 237, 'above': 68, 'looking': 2648, 'my': 2951, 'issues': 2365, 'mostly': 2910, 'amount': 219, 'involved': 2346, 'gets': 1900, 'hard': 2033, 'follow': 1772, 'full': 1846, 'focus': 1766, 'offers': 3090, 'process': 3412, 'whole': 4873, 'tons': 4520, 'police': 3322, 'officers': 3093, 'storyline': 4208, 'would': 4957, 'worked': 4941, 'been': 438, 'longer': 2645, 'dedicated': 1153, 'inner': 2292, 'necessary': 2984, 'elements': 1443, 'bottom': 551, 'line': 2610, 'wonderfully': 4929, 'excellent': 1555, 'pacing': 3163, 'punch': 3466, 'little': 2624, 'complicated': 925, 'than': 4420, 'needed': 2988, 'prom': 3429, 'ok': 3098, 'horror': 2168, 'queen': 3485, 'mary': 2751, 'lou': 2663, 'killed': 2469, 'boyfriend': 558, '30': 42, 'years': 4979, 'best': 469, 'actor': 103, 'stars': 4155, 'other': 3135, 'actress': 105, 'justin': 2440, 'richard': 3686, 'gore': 1941, 'kills': 2474, 'girl': 1909, 'trying': 4601, 'hide': 2097, 'together': 4511, 'students': 4239, 'computer': 927, 'him': 2110, 'rating': 3529, '10': 0, 'stilted': 4190, 'strange': 4211, 'visually': 4758, 'wannabe': 4787, 'erotic': 1515, 'fantasy': 1652, 'male': 2719, 'nudity': 3059, 'including': 2264, 'father': 1666, 'son': 4070, 'sort': 4077, 'certain': 737, 'dialogue': 1234, 'terms': 4406, 'quality': 3484, 'seen': 3865, 'friends': 1837, 'feel': 1684, 'familiar': 1643, 'especially': 1520, 'seasons': 3844, 'often': 3095, 'share': 3920, 'same': 3778, 'show': 3953, 'whose': 4877, 'connection': 946, 'class': 833, 'were': 4848, 'still': 4188, 'rather': 3528, 'young': 4989, 'mid': 2832, 'meet': 2793, 'again': 146, 'reunion': 3669, 'starts': 4159, 'typical': 4623, 'episode': 1507, 'deals': 1137, 'multiple': 2936, 'lines': 2612, 'once': 3106, 'connected': 945, 'cut': 1089, 'mixed': 2877, 'lie': 2590, 'silly': 3976, 'setting': 3900, 'situations': 4009, 'main': 2707, 'thats': 4425, 'situation': 4008, 'heavily': 2069, 'exaggerated': 1552, 'wasnt': 4807, 'enough': 1491, 'youre': 4992, 'youll': 4988, 'me': 2778, 'turn': 4605, 'reason': 3557, 'started': 4157, 'credible': 1048, 'romance': 3732, 'root': 3737, 'none': 3028, 'simply': 3986, 'stereotypes': 4179, 'pushed': 3478, 'far': 1653, 'therefore': 4439, 'possible': 3350, 'relate': 3593, 'took': 4523, 'several': 3905, 'ran': 3513, 'run': 3755, 'impossible': 2249, 'planet': 3289, 'satan': 3787, 'pit': 3278, 'episodes': 1508, 'doctor': 1304, 'whos': 4876, 'season': 3843, 'having': 2054, 'said': 3774, 'basically': 407, 'outer': 3143, 'space': 4090, 'history': 2121, 'universe': 4666, 'beast': 422, 'emotional': 1459, 'ties': 4490, 'between': 475, 'rose': 3739, 'whilst': 4869, 'confidence': 938, 'equal': 1509, 'getting': 1901, 'partner': 3198, 'our': 3139, 'beloved': 461, 'lord': 2652, 'note': 3044, 'matt': 2768, 'jones': 2418, 'elegant': 1441, 'screenplay': 3831, 'occasional': 3074, 'liners': 2611, 'entire': 1502, 'notably': 3042, 'captain': 674, 'cross': 1066, 'charming': 768, 'solid': 4057, 'grade': 1951, 'around': 297, 'saw': 3798, 'nice': 3008, 'contrast': 975, 'crappy': 1032, 'figured': 1712, 'write': 4967, 'sure': 4308, 'theaters': 4428, 'hope': 2155, 'jokes': 2415, 'terrific': 4409, 'howard': 2182, 'larry': 2520, 'directing': 1260, 'pretty': 3384, 'directed': 1259, 'neil': 2995, 'smart': 4035, 'screenwriter': 3833, 'notice': 3048, 'cute': 1090, 'recommend': 3571, 'hours': 2177, 'drinking': 1362, 'himself': 2111, 'surprise': 4312, 'didnt': 1242, 'clues': 865, 'knowledge': 2491, 'surprised': 4313, 'grim': 1974, 'sad': 3767, 'waste': 4808, 'peter': 3247, 'sucked': 4270, 'artistic': 308, 'detail': 1217, 'drawn': 1351, 'meaningful': 2781, 'highlight': 2103, 'appreciate': 279, 'vision': 4754, 'entertainment': 1500, 'put': 3480, 'sleep': 4024, 'seriously': 3892, 'fell': 1690, 'asleep': 320, 're': 3535, 'generally': 1881, 'negative': 2991, 'comments': 901, 'reviews': 3679, 'works': 4945, 'others': 3136, 'suck': 4269, 'result': 3660, 'plays': 3301, 'television': 4394, 'might': 2835, 'save': 3794, '90': 60, 'minutes': 2859, 'change': 749, 'channel': 753, 'theres': 4440, 'nothing': 3047, 'special': 4097, 'here': 2086, 'married': 2744, 'trip': 4588, 'number': 3060, 'earl': 1398, 'billy': 482, 'bob': 524, 'car': 680, 'richardson': 3688, 'she': 3923, 'opinion': 3118, 'herself': 2092, 'havent': 2053, 'intimate': 2331, 'long': 2644, 'sleeping': 4025, 'candy': 668, 'friend': 1835, 'roy': 3745, 'patrick': 3213, 'drive': 1363, 'four': 1812, 'stay': 4166, 'baby': 376, 'discovers': 1281, 'pregnant': 3369, 'finds': 1728, 'hes': 2093, 'affair': 135, 'chaos': 755, 'brady': 561, 'comedic': 888, 'lay': 2542, 'blame': 499, 'script': 3834, 'written': 4972, 'sitcom': 4004, 'level': 2584, 'south': 4087, 'naive': 2958, 'idiotic': 2219, 'dollar': 1314, 'called': 652, 'dumb': 1385, 'rare': 3523, 'asks': 319, 'pops': 3332, 'prostitute': 3440, 'totally': 4532, 'worthless': 4954, 'pointless': 3318, 'cameo': 657, 'barely': 399, 'speaks': 4096, 'executive': 1567, 'producers': 3416, 'person': 3238, 'actually': 109, 'isnt': 2362, 'cliche': 843, 'know': 2489, 'figure': 1711, 'read': 3543, 'liked': 2600, 'complete': 921, 'got': 1944, 'paid': 3169, 'viewers': 4739, 'skip': 4016, 'grand': 1953, 'epic': 1506, 'kenneth': 2455, 'perhaps': 3235, 'william': 4887, 'tragedy': 4551, 'suffers': 4278, 'weight': 4840, 'hour': 2176, 'playing': 3300, 'certainly': 738, 'takes': 4351, 'staying': 4168, 'entirely': 1503, 'separate': 3883, 'likely': 2601, 'fully': 1847, 'high': 2100, 'absolutely': 72, 'masterpiece': 2759, 'lack': 2502, 'enthusiasm': 1501, 'sends': 3876, 'thus': 4486, 'hamlet': 2013, 'loses': 2657, 'impact': 2244, 'music': 2946, 'alex': 179, 'tim': 4494, 'visual': 4757, 'branagh': 564, 'three': 4469, 'huge': 2185, 'adaptation': 113, 'role': 3726, 'seemed': 3862, 'showing': 3958, 'incredibly': 2270, 'derek': 1192, 'sinister': 3998, 'julie': 2428, 'dramatic': 1348, 'heston': 2094, 'player': 3298, 'king': 2479, 'lemmon': 2567, 'small': 4033, 'sir': 4000, 'john': 2409, 'gerard': 1895, 'prize': 3405, 'though': 4461, 'kate': 2446, 'portrayal': 3341, 'tragic': 4552, 'finish': 1732, 'review': 3676, 'length': 2569, 'purpose': 3474, 'giving': 1915, 'welcome': 4842, 'holds': 2131, 'fantastic': 1651, 'wisdom': 4902, 'course': 1019, 'opening': 3114, 'take': 4349, 'manage': 2722, 'finale': 1723, 'funeral': 1849, 'june': 2433, 'sky': 4017, 'promise': 3430, 'awkward': 374, 'shallow': 3917, 'parents': 3188, 'lot': 2661, 'corny': 997, 'details': 1219, 'god': 1926, 'everything': 1544, 'boy': 557, 'says': 3801, 'gay': 1876, 'aware': 368, 'talks': 4361, 'lesbian': 2573, 'okay': 3099, 'snl': 4044, 'fairly': 1631, 'minute': 2858, 'drops': 1372, 'consistently': 954, 'fair': 1630, 'williams': 4888, 'days': 1130, 'gone': 1935, 'went': 4847, 'world': 4946, 'wind': 4893, 'wrong': 4973, 'already': 197, 'claim': 828, 'artificial': 306, 'witness': 4914, 'documentary': 1307, 'anything': 260, 'anyone': 259, 'get': 1899, 'intelligent': 2314, 'paris': 3189, 'difficult': 1249, 'mouth': 2920, 'different': 1248, 'worst': 4952, 'professional': 3421, 'worlds': 4947, 'philosophy': 3254, 'fields': 1705, 'notorious': 3051, 'offering': 3089, 'expert': 1585, 'plenty': 3307, 'create': 1036, 'beginning': 443, 'connect': 944, 'randomly': 3515, 'english': 1483, 'creating': 1039, 'mother': 2911, 'love': 2669, 'example': 1553, 'brothers': 599, 'hence': 2083, 'levels': 2585, 'human': 2188, 'ego': 1435, 'super': 4295, 'play': 3296, 'clip': 851, 'seven': 3903, 'premise': 3370, 'numbers': 3061, 'theory': 4437, 'ancient': 225, 'princess': 3397, 'element': 1442, 'intellectual': 2312, 'analysis': 224, 'why': 4878, 'drama': 1346, 'amusing': 221, 'train': 4556, 'wreck': 4965, 'admittedly': 123, 'desperately': 1209, 'science': 3816, 'birds': 485, 'credit': 1049, 'probably': 3407, 'fat': 1663, 'creator': 1043, 'laughing': 2533, 'grave': 1962, 'truth': 4599, 'vast': 4716, 'majority': 2712, 'zero': 4996, 'value': 4709, 'ones': 3108, 'intelligence': 2313, 'draw': 1349, 'map': 2733, 'understand': 4643, 'unless': 4669, 'idiot': 2218, 'sees': 3866, 'meaning': 2780, 'drugs': 1374, 'cheap': 774, 'hole': 2132, 'psycho': 3457, 'shower': 3957, 'holes': 2133, 'sucks': 4271, 'instead': 2307, 'clever': 841, 'irony': 2357, 'hitchcock': 2123, 'wouldnt': 4958, 'illogical': 2231, 'fetched': 1698, 'easy': 1410, 'deep': 1154, 'add': 115, 'wedding': 4836, 'cake': 648, 'instantly': 2306, 'impress': 2250, 'ie': 2221, 'unintentionally': 4659, 'ideas': 2215, 'anthony': 253, 'bathroom': 412, 'writer': 4968, 'ever': 1538, 'vaguely': 4706, 'entertained': 1498, 'notion': 3050, 'enjoying': 1487, 'toilet': 4512, 'talk': 4358, 'putting': 3482, 'words': 4938, 'dead': 1132, 'context': 968, 'initial': 2290, 'thoughts': 4464, 'ruin': 3750, 'impression': 2252, 'anti': 254, 'nonsense': 3030, 'attitude': 346, 'logic': 2638, 'dog': 1310, 'toward': 4539, 'plastic': 3294, 'bone': 533, 'rules': 3754, 'raped': 3522, 'likes': 2602, 'regard': 3588, 'proof': 3434, 'common': 906, 'enemies': 1476, 'mere': 2814, 'toys': 4543, 'either': 1438, 'avoided': 364, 'twisted': 4618, 'fit': 1740, 'goal': 1925, 'hippie': 2115, 'favorite': 1671, 'personal': 3240, 'focuses': 1768, 'overrated': 3156, 'lynch': 2691, 'further': 1853, 'credibility': 1047, 'de': 1131, 'feature': 1678, 'another': 250, 'lame': 2510, 'writes': 4970, 'inept': 2281, 'scripts': 3836, 'field': 1704, 'incomprehensible': 2267, 'watched': 4813, 'comment': 898, 'von': 4765, 'laughable': 2530, 'ground': 1979, 'breaking': 570, 'physical': 3262, 'set': 3898, 'stuff': 4243, 'along': 195, 'scientists': 3819, 'trite': 4589, 'sometimes': 4067, 'complex': 923, 'hearing': 2063, 'told': 4513, 'half': 2007, 'men': 2805, 'suits': 4287, 'suddenly': 4273, 'appear': 273, 'nowhere': 3056, 'suit': 4284, 'soon': 4074, 'kids': 2467, 'park': 3190, 'near': 2979, 'list': 2617, 'kept': 2456, 'away': 369, 'fortunately': 1805, 'feminist': 1695, 'colorful': 878, 'view': 4736, 'ordinary': 3128, 'german': 1896, 'jewish': 2401, 'strength': 4219, 'trapped': 4564, 'within': 4912, 'historical': 2119, 'victims': 4730, 'pace': 3161, 'besides': 468, 'vivid': 4760, 'generations': 1884, 'passing': 3204, 'crafted': 1029, 'narrative': 2966, 'flaws': 1752, 'fault': 1668, 'lies': 2591, 'unable': 4631, 'capture': 676, 'intensity': 2317, 'lived': 2626, 'nevertheless': 3002, 'worth': 4953, 'dealing': 1136, 'ghosts': 1903, 'includes': 2263, 'africa': 141, 'controversial': 978, 'beyond': 476, 'images': 2235, 'brazil': 568, 'following': 1774, 'no': 3020, '14': 6, '18': 10, 'westerns': 4854, 'allowed': 190, 'ten': 4399, 'violence': 4747, 'western': 4853, 'younger': 4990, 'explains': 1589, 'considered': 951, 'average': 362, 'hero': 2088, 'stewart': 4184, 'fighting': 1709, 'against': 147, 'brother': 598, 'revenge': 3675, 'guy': 2000, 'mann': 2728, 'tried': 4584, 'type': 4621, 'next': 3007, 'shelley': 3928, 'winters': 4901, 'leading': 2547, 'lady': 2507, 'man': 2721, 'stayed': 4167, 'dan': 1102, 'dean': 1139, 'villains': 4745, 'remembered': 3617, 'follows': 1775, 'stays': 4169, 'suited': 4286, 'through': 4477, 'offered': 3088, 'starting': 4158, 'taking': 4352, 'prepared': 3371, 'originally': 3131, 'released': 3603, 'devil': 1228, 'heart': 2064, 'paced': 3162, 'ending': 1471, 'blue': 518, 'itself': 2371, 'look': 2646, 'start': 4156, 'thinking': 4453, 'priest': 3392, 'wow': 4962, 'naked': 2959, 'band': 391, 'talent': 4354, 'commercial': 902, 'famous': 1647, 'nobody': 3022, 'heard': 2062, 'till': 4493, 'hate': 2046, 'lyrics': 2692, 'ass': 323, 'hardcore': 2034, 'feelings': 1686, 'walls': 4783, 'themselves': 4435, 'feeling': 1685, 'experience': 1580, 'laughed': 2532, 'cried': 1054, 'travel': 4567, 'worthwhile': 4955, 'friendship': 1838, 'alive': 186, 'roll': 3728, 'hilarious': 2106, 'wives': 4918, 'timing': 4498, 'five': 1743, 'women': 4923, 'else': 1448, 'mans': 2730, 'key': 2458, 'accept': 80, 'jerry': 2396, 'stiller': 4189, 'buddy': 609, 'favor': 1670, 'name': 2960, 'desperate': 1208, 'odd': 3080, 'politically': 3325, 'correct': 1000, 'non': 3027, 'place': 3282, 'cave': 727, 'annoying': 249, 'ive': 2372, 'bedroom': 437, 'shocking': 3940, 'tv': 4610, '40': 48, 'ago': 154, 'topless': 4527, 'kidding': 2465, 'dvd': 1391, 'features': 1680, 'interviews': 2330, 'members': 2801, 'find': 1726, 'depth': 1190, 'importance': 2246, 'roles': 3727, 'wondering': 4930, 'serious': 3891, 'names': 2963, 'church': 813, 'latter': 2528, 'somehow': 4063, 'religion': 3607, 'reference': 3582, 'short': 3946, 'hoping': 2160, 'pushing': 3479, '80': 58, 'chemistry': 782, 'paul': 3214, 'eva': 1531, 'pull': 3461, 'entertaining': 1499, 'lake': 2509, 'bell': 458, 'displays': 1293, 'emotion': 1458, 'cards': 683, 'reads': 3545, 'used': 4693, 'ghost': 1902, 'spirit': 4113, 'final': 1722, 'sloppy': 4030, 'spy': 4135, 'andrews': 229, 'afternoon': 144, 'superior': 4300, 'remember': 3616, 'produced': 3414, 'imdb': 2240, 'memories': 2803, 'reasonably': 3559, 'female': 1693, 'believable': 453, 'reviewers': 3678, 'memory': 2804, 'horses': 2171, 'gas': 1874, 'interest': 2323, 'particularly': 3195, 'opportunity': 3121, 'points': 3319, 'case': 707, 'bother': 548, 'deeply': 1156, 'background': 380, 'filled': 1715, 'wooden': 4934, 'sister': 4001, 'anne': 246, 'portrayed': 3342, 'fall': 1637, 'overall': 3150, 'production': 3419, 'lacks': 2505, 'period': 3236, 'mistakes': 2873, 'overlooked': 3154, 'running': 3756, 'concert': 935, 'street': 4216, 'streets': 4217, 'hat': 2045, 'book': 535, 'romantic': 3733, 'sum': 4289, 'terrible': 4407, 'late': 2523, '11': 2, 'fast': 1661, 'forward': 1808, 'action': 100, 'fits': 1741, '70s': 56, 'glad': 1916, 'missed': 2867, 'robin': 3715, 'kurt': 2499, 'russell': 3761, 'desired': 1206, 'trailer': 4554, 'wasting': 4810, 'spent': 4108, 'yourself': 4993, 'burn': 625, 'happy': 2032, 'cover': 1022, 'hitler': 2124, 'rise': 3702, 'evil': 1548, 'triumph': 4590, 'york': 4985, 'post': 3352, 'wrote': 4974, 'word': 4937, 'peace': 3219, 'paint': 3173, 'picture': 3269, 'colors': 879, 'exist': 1569, 'alright': 198, 'historically': 2120, 'compared': 912, 'animals': 240, 'gentle': 1890, 'sorry': 4076, 'inside': 2297, 'curse': 1086, 'career': 686, 'ended': 1470, 'failed': 1626, 'leader': 2546, 'accurate': 90, 'legendary': 2565, 'fill': 1714, 'leave': 2555, 'shelf': 3926, 'local': 2634, 'virgin': 4749, 'store': 4204, 'aged': 149, 'characterization': 759, 'weve': 4856, 'viewed': 4737, 'honor': 2150, '24': 39, 'satisfying': 3791, 'enjoy': 1484, 'move': 2921, 'cars': 702, '1960s': 15, 'trade': 4547, 'center': 732, '1973': 19, 'clearly': 840, 'visible': 4753, 'poorly': 3329, 'knife': 2487, '1980s': 21, 'audiences': 353, 'eighties': 1437, 'live': 2625, 'catches': 715, 'landscapes': 2514, 'beautiful': 428, 'light': 2595, 'keeps': 2451, 'viewing': 4740, 'subtitles': 4259, 'spanish': 4092, 'gift': 1906, 'talented': 4355, 'matthew': 2772, 'awesome': 371, 'kill': 2468, 'expressed': 1601, 'uses': 4697, 'marketing': 2741, 'extra': 1606, 'exactly': 1551, 'die': 1243, 'fans': 1650, 'caring': 691, 'hed': 2072, 'brilliance': 582, 'lose': 2654, 'avoid': 363, 'larger': 2519, 'angels': 234, 'children': 792, 'supporting': 4304, 'artist': 307, 'member': 2800, 'club': 863, 'single': 3996, 'mom': 2885, 'attacked': 338, 'vampire': 4711, 'begins': 444, 'meets': 2795, 'savage': 3793, 'phone': 3255, 'wants': 4791, 'join': 2412, 'consists': 955, 'british': 589, 'blonde': 511, 'green': 1971, 'am': 204, 'kid': 2464, 'someone': 4064, 'forgot': 1796, 'tell': 4395, 'spends': 4107, 'facial': 1619, 'hugh': 2186, 'grant': 1956, 'tries': 4585, 'badly': 383, 'eating': 1413, 'sons': 4073, 'pet': 3246, 'buying': 641, 'meat': 2787, 'fight': 1707, 'gory': 1943, 'wild': 4885, 'killer': 2470, 'tongue': 4518, 'gross': 1978, 'occurs': 3078, 'strip': 4228, 'conversation': 980, 'include': 2261, 'vampires': 4712, 'eat': 1411, 'george': 1893, 'martin': 2748, 'throw': 4479, 'attempts': 343, 'tiresome': 4502, 'dull': 1384, 'dirty': 1268, 'ride': 3692, 'gun': 1996, 'references': 3583, 'drug': 1373, 'abuse': 74, 'adult': 125, 'disaster': 1276, 'strikes': 4225, 'september': 3884, '2001': 31, 'date': 1118, 'changed': 750, 'global': 1920, 'landscape': 2513, 'filmmakers': 1720, 'academy': 77, 'shoots': 3944, 'training': 4558, 'develop': 1222, 'contain': 962, 'plane': 3288, 'traveling': 4568, 'received': 3564, 'call': 651, 'dad': 1095, 'attack': 337, 'arrived': 301, 'upper': 4685, 'twin': 4615, 'smoke': 4039, 'cameras': 660, 'followed': 1773, 'team': 4378, 'routine': 3743, 'immediately': 2242, 'upon': 4684, 'crash': 1033, 'filmed': 1717, 'happened': 2027, 'quickly': 3491, 'plan': 3287, 'held': 2074, 'journey': 2421, 'captured': 677, 'expressions': 1603, 'numerous': 3062, 'suffer': 4275, 'survivors': 4325, 'brought': 600, 'psychological': 3458, 'struggle': 4234, 'event': 1535, 'learn': 2550, 'jobs': 2406, 'began': 441, 'right': 3696, 'rescue': 3643, 'hopes': 2159, 'finding': 1727, 'round': 3742, 'steel': 4173, 'cannot': 670, 'sound': 4081, 'hollywood': 2137, 'close': 853, 'safety': 3772, 'code': 869, 'contains': 964, 'songs': 4072, 'normally': 3034, 'singing': 3995, 'looked': 2647, 'useful': 4694, 'learning': 2552, 'perspective': 3245, 'government': 1948, 'dancing': 1107, 'violent': 4748, 'clothing': 861, 'photos': 3261, 'looks': 2649, 'parts': 3199, 'using': 4698, 'critical': 1062, 'presented': 3376, 'potentially': 3356, 'less': 2575, 'changes': 751, 'army': 295, 'shoot': 3942, 'evidence': 1546, 'schools': 3814, 'school': 3813, 'information': 2288, 'teacher': 4375, 'arrested': 298, 'persons': 3244, 'racist': 3503, 'laws': 2540, 'chris': 806, 'century': 736, 'fox': 1814, 'studio': 4240, 'jumped': 2430, 'shark': 3921, 'passed': 3202, 'prime': 3395, 'charge': 761, 'decided': 1149, 'changing': 752, 'formula': 1802, 'bunch': 623, 'introduced': 2337, 'cousin': 1021, 'oliver': 3102, 'freak': 1824, 'grew': 1972, 'six': 4010, 'theyd': 4443, 'comic': 893, 'relief': 3605, 'warren': 4801, 'played': 3297, 'appears': 278, 'examples': 1554, 'shut': 3961, 'shows': 3960, 'brain': 562, 'unnecessary': 4672, 'stands': 4147, 'watches': 4814, 'discovered': 1280, 'international': 2326, 'hand': 2015, 'protect': 3443, 'precious': 3366, 'stolen': 4195, 'twist': 4617, 'steal': 4170, 'watchable': 4812, 'wwii': 4975, 'couldnt': 1008, 'survived': 4322, 'japanese': 2382, 'accepted': 82, 'countries': 1013, 'eric': 1514, 'escape': 1517, 'camp': 662, 'horse': 2170, 'account': 89, 'kick': 2460, 'genre': 1888, 'military': 2844, 'prison': 3401, 'reached': 3537, 'danger': 1109, 'eventually': 1537, 'builds': 617, 'climax': 849, 'tension': 4404, 'unlikely': 4671, 'jump': 2429, 'cuts': 1091, 'happen': 2026, 'leo': 2571, 'glenn': 1918, 'david': 1124, 'lead': 2545, 'extras': 1608, 'suspect': 4327, 'exception': 1557, 'constantly': 958, 'quiet': 3492, 'ex': 1549, 'service': 3896, 'approach': 282, 'contrary': 974, 'unlike': 4670, 'intriguing': 2335, 'bar': 396, 'outrageous': 3145, 'stories': 4205, 'unfolds': 4651, 'secret': 3849, 'revealed': 3671, 'revelation': 3674, 'happens': 2029, 'frankly': 1823, 'russian': 3762, 'village': 4743, 'creepy': 1052, 'ladies': 2506, 'fascinating': 1658, 'development': 1225, 'lousy': 2667, 'lazy': 2543, 'makers': 2715, 'imagery': 2234, 'odds': 3082, 'ends': 1474, 'surface': 4310, 'appearance': 274, 'particular': 3194, 'whatever': 4859, 'effects': 1431, 'step': 4175, 'unknown': 4668, 'captivating': 675, 'modesty': 2883, 'crucial': 1068, 'wise': 4903, 'knowing': 2490, 'wishing': 4907, 'known': 2492, 'able': 66, 'stop': 4201, 'armed': 293, 'plausible': 3295, 'accident': 84, 'biggest': 480, 'problem': 3408, 'thin': 4449, 'beat': 423, 'aint': 163, 'wilson': 4891, 'convincing': 985, 'letting': 2583, 'flaw': 1749, 'sequels': 3886, 'care': 684, 'suffered': 4276, 'trek': 4578, 'nine': 3017, '1999': 27, 'enterprise': 1495, 'fresh': 1833, 'visuals': 4759, 'pop': 3330, 'song': 4071, 'shocked': 3939, 'sign': 3970, 'misses': 2868, 'usual': 4699, 'eg': 1434, 'remarkable': 3613, 'independent': 2272, 'bodies': 526, 'purposes': 3475, 'private': 3404, 'becomes': 434, 'soft': 4051, 'porn': 3336, 'shes': 3930, 'falls': 1640, 'crazy': 1035, 'guide': 1993, 'santa': 3783, 'barbara': 397, 'festival': 1697, 'screening': 3830, 'hong': 2149, 'kong': 2494, 'sing': 3992, 'society': 4050, 'coming': 896, 'imagine': 2238, 'occur': 3076, 'during': 1387, 'control': 977, 'powerful': 3360, 'starring': 4154, 'jimmy': 2403, 'lee': 2559, 'realistic': 3550, 'corruption': 1002, 'themes': 4434, 'apart': 264, 'steve': 4181, 'decent': 1147, 'funniest': 1851, 'apparently': 270, 'mistaken': 2872, 'joke': 2414, 'unfunny': 4655, 'across': 96, 'solely': 4056, 'provide': 3448, 'whatsoever': 4861, 'broad': 590, 'loose': 2650, 'count': 1010, 'major': 2711, 'productions': 3420, 'bitter': 491, 'comedies': 889, 'ultimately': 4628, 'fails': 1628, 'money': 2888, 'please': 3304, 'earlier': 1399, 'gave': 1875, 'chance': 747, 'hello': 2078, 'partly': 3197, 'tape': 4365, 'signs': 3973, 'weeks': 4839, 'hands': 2020, 'soundtrack': 4085, 'push': 3477, 'website': 4834, 'parties': 3196, 'produce': 3413, 'tap': 4364, 'ultra': 4629, 'cool': 989, 'older': 3101, 'stephen': 4176, 'bruce': 602, 'robinson': 3716, 'nail': 2957, 'puts': 3481, 'unbelievable': 4634, 'portraying': 3343, 'singer': 3993, 'ray': 3533, 'youve': 4995, 'voice': 4761, 'fever': 1699, 'youd': 4987, 'crowd': 1067, 'cry': 1073, 'thousands': 4466, 'exists': 1573, 'original': 3129, 'completely': 922, 'bush': 632, 'quotes': 3497, 'telling': 4396, 'news': 3005, 'pathetic': 3210, 'drivel': 1364, 'excuse': 1564, 'satire': 3788, 'folks': 1771, 'liberal': 2588, 'hasnt': 2044, 'president': 3378, 'behind': 447, 'bite': 489, 'plain': 3286, 'unhappy': 4656, 'amazing': 209, 'sentence': 3881, 'gold': 1932, 'oh': 3096, 'slightly': 4029, 'accent': 78, 'voices': 4763, 'robot': 3717, 'motion': 2913, 'animation': 242, 'priceless': 3390, 'faithful': 1634, 'witty': 4917, 'french': 1830, 'novel': 3052, 'cynical': 1093, 'depressed': 1187, 'philosophical': 3253, 'humorous': 2193, 'describe': 1194, 'charles': 764, 'intended': 2315, 'bleak': 503, 'relations': 3596, 'achievement': 94, 'ask': 316, 'equally': 1510, 'purple': 3473, 'agree': 155, 'commented': 900, 'confusing': 942, 'significant': 3972, 'dialog': 1232, 'endless': 1473, 'standing': 4146, 'smoking': 4040, 'sitting': 4007, 'room': 3735, 'staring': 4152, 'general': 1880, 'understanding': 4645, 'knew': 2486, 'remotely': 3623, 'occasionally': 3075, 'future': 1856, 'dogs': 1311, 'born': 544, 'pure': 3471, 'passion': 3205, 'desire': 1205, 'industry': 2280, 'genuine': 1891, '20': 29, 'surreal': 4317, 'clue': 864, 'happening': 2028, 'woman': 4921, 'jane': 2380, 'dream': 1354, 'hear': 2061, 'surrounded': 4318, 'thugs': 4484, 'nasty': 2968, 'guns': 1998, 'despite': 1211, 'edited': 1420, 'sharp': 3922, 'feels': 1687, 'smaller': 4034, 'gordon': 1940, 'chosen': 805, 'carry': 700, 'saved': 3795, 'thankfully': 4422, 'manages': 2725, 'convey': 982, 'fear': 1676, 'limited': 2606, 'lesser': 2576, 'hardly': 2036, 'twilight': 4614, 'zone': 4999, 'contrived': 976, 'felt': 1692, 'hoped': 2156, 'leaves': 2556, 'coffee': 870, 'shop': 3945, 'harry': 2039, 'titled': 4505, 'areas': 287, 'enjoyed': 1486, 'favorites': 1672, 'ahead': 159, 'albeit': 173, 'force': 1786, 'mystery': 2956, 'killings': 2473, 'granted': 1957, 'showdown': 3955, 'sandra': 3782, 'question': 3487, 'remains': 3611, 'clint': 850, 'eastwood': 1409, 'brings': 587, 'score': 3822, 'times': 4497, 'explaining': 1588, 'weapon': 4828, 'bullets': 621, 'entry': 1504, 'past': 3207, 'dropped': 1370, 'pass': 3201, 'ways': 4822, 'rat': 3525, 'scared': 3805, 'football': 1783, 'tad': 4347, 'astaire': 330, 'rogers': 3725, 'overly': 3155, 'tedious': 4387, 'subplot': 4255, 'scott': 3824, 'navy': 2976, 'stereotypical': 4180, 'ginger': 1908, 'asked': 317, 'blond': 510, 'ball': 388, 'meanwhile': 2785, 'pick': 3265, 'wonderful': 4928, 'dance': 1103, 'sweet': 4336, 'sings': 3997, 'poster': 3353, 'lets': 2580, 'executed': 1565, '30s': 44, 'susan': 4326, 'outstanding': 3147, 'confused': 941, 'creative': 1041, 'simple': 3983, 'focused': 1767, 'radio': 3504, 'shakespeare': 3915, 'pretentious': 3383, 'given': 1913, 'attempted': 341, 'cook': 988, 'thief': 4448, 'lover': 2672, 'content': 966, 'stomach': 4196, 'taste': 4369, 'nonetheless': 3029, 'managed': 2723, 'falling': 1639, 'highly': 2105, 'clear': 839, 'books': 536, 'slasher': 4020, 'flick': 1754, 'promising': 3433, 'horribly': 2164, 'method': 2824, 'spoof': 4127, 'ridiculous': 3693, 'pulled': 3462, 'clichéd': 845, 'standards': 4145, 'counter': 1011, 'laughably': 2531, 'texas': 4418, 'matrix': 2767, 'creators': 1044, 'anime': 243, 'inspired': 2301, 'japan': 2381, 'costumes': 1006, 'version': 4720, 'ad': 110, 'theyve': 4446, 'directly': 1263, 'guessed': 1990, 'nuclear': 3057, 'destroyed': 1214, 'conflict': 939, 'continued': 970, 'abandoned': 62, 'cities': 823, 'via': 4726, 'techniques': 4384, 'earth': 1403, 'mysterious': 2955, 'advanced': 128, 'aids': 161, 'closer': 856, 'conflicts': 940, 'spoilers': 4124, 'synopsis': 4344, 'emotions': 1461, '80s': 59, 'tale': 4353, 'cardboard': 682, 'bullet': 620, 'suffering': 4277, 'caught': 722, 'conspiracy': 956, 'may': 2775, 'style': 4249, 'reminiscent': 3621, 'traditional': 4550, 'cultural': 1078, 'pleasure': 3306, 'greatest': 1966, 'incredible': 2269, 'justice': 2438, 'purchased': 3470, 'holding': 2130, 'deserves': 1201, 'essential': 1522, 'collection': 874, 'heck': 2071, 'cop': 991, 'reporter': 3636, 'described': 1195, 'pain': 3170, 'valuable': 4708, 'fourth': 1813, '1983': 22, 'surprising': 4315, 'considering': 952, 'needs': 2990, 'hundred': 2195, 'pages': 3168, 'minor': 2857, 'reading': 3544, 'heavy': 2070, 'symbolism': 4341, 'critics': 1064, 'prove': 3445, 'tells': 4397, 'forget': 1793, 'explicit': 1591, 'afraid': 140, 'gratuitous': 1961, 'otherwise': 3137, 'hoffman': 2128, 'painful': 3171, 'technical': 4381, 'developed': 1223, 'monsters': 2893, 'sid': 3964, 'pink': 3277, 'dollars': 1315, 'bat': 410, 'spider': 4109, 'dude': 1381, 'classics': 837, 'dracula': 1341, 'frankenstein': 1822, 'monster': 2892, 'compare': 911, 'total': 4531, 'free': 1827, 'effort': 1432, 'hit': 2122, 'wondered': 4927, 'lucas': 2680, 'temple': 4398, 'gary': 1873, 'cole': 873, 'sheriff': 3929, 'buck': 605, 'somewhat': 4068, 'understood': 4647, 'powers': 3361, 'holy': 2140, 'ring': 3698, 'cause': 723, 'spite': 4117, 'pleasant': 3302, 'steven': 4182, 'kings': 2481, 'usa': 4691, 'network': 3000, 'anymore': 258, 'offensive': 3086, 'religious': 3608, 'nostalgic': 3039, '1st': 28, 'packed': 3166, 'substance': 4258, 'theme': 4433, 'relative': 3599, 'pictures': 3270, 'cabin': 643, 'mine': 2853, 'chinese': 796, 'mafia': 2700, 'wars': 4804, 'distribution': 1298, 'west': 4852, 'outside': 3146, 'rape': 3521, 'suspects': 4328, 'torn': 4528, 'orange': 3125, 'banned': 395, 'uk': 4626, 'disney': 1289, 'cartoon': 704, 'asian': 314, 'catch': 714, 'insane': 2296, 'miike': 2837, 'working': 4944, 'hunting': 2201, 'web': 4833, 'eyre': 1614, 'hurts': 2203, 'bold': 528, 'edward': 1426, 'rochester': 3719, 'charlotte': 766, 'bored': 541, 'teenager': 4390, 'hurt': 2202, 'literature': 2623, 'personalities': 3241, 'tall': 4362, 'touched': 4534, 'responsible': 3656, 'boss': 546, 'thomas': 4458, 'iii': 2227, 'assigned': 325, 'task': 4368, 'italy': 2368, 'landing': 2512, 'escapes': 1519, 'help': 2079, 'murderer': 2941, 'brand': 565, 'front': 1841, 'theater': 4427, '3000': 43, 'coherent': 871, 'mst3k': 2932, 'prefer': 3368, 'helps': 2082, 'delivered': 1170, 'thick': 4447, 'italian': 2367, 'accents': 79, 'terribly': 4408, 'involve': 2345, 'joe': 2407, 'don': 1320, 'baker': 385, 'size': 4012, 'choices': 798, 'decision': 1151, 'struck': 4232, 'stretch': 4221, 'sidekick': 3966, 'bond': 532, 'finger': 1731, 'clark': 832, 'begin': 442, 'teenagers': 4391, 'fbi': 1675, 'agent': 150, 'whats': 4860, 'hey': 2095, 'tied': 4489, 'wearing': 4831, 'dress': 1357, 'swear': 4334, 'anybody': 257, 'law': 2538, 'gag': 1861, 'aside': 315, 'realized': 3553, 'tear': 4379, 'loss': 2659, 'alan': 171, 'public': 3460, 'opinions': 3119, 'embarrassed': 1453, 'speech': 4102, 'outfit': 3144, 'deal': 1135, 'contemporary': 965, 'displayed': 1292, 'treatment': 4574, 'insulting': 2310, 'lowest': 2678, 'ratings': 3530, 'gonna': 1936, 'shame': 3918, 'godfather': 1927, 'saga': 3773, 'extended': 1604, 'treat': 4572, 'reality': 3551, 'discuss': 1283, 'sun': 4292, 'pan': 3180, 'rage': 3505, 'body': 527, 'break': 569, 'sit': 4003, 'advice': 133, 'finished': 1733, 'sunday': 4293, 'versus': 4722, 'trust': 4598, 'shouldnt': 3952, 'iron': 2354, 'waiting': 4772, 'aspects': 322, 'loved': 2670, 'fitting': 1742, 'tom': 4514, 'hanks': 2025, 'choose': 799, 'normal': 3033, 'spoil': 4121, 'em': 1452, 'format': 1799, 'thinks': 4454, 'dying': 1393, 'random': 3514, 'whom': 4875, 'bothered': 549, 'memorable': 2802, 'reasons': 3560, 'ninja': 3018, 'meaningless': 2782, 'provides': 3450, 'reasonable': 3558, 'fights': 1710, 'walking': 4779, 'neck': 2985, 'halfway': 2008, 'threw': 4470, 'frustration': 1843, 'jean': 2389, 'peters': 3248, 'missing': 2869, 'building': 615, 'bag': 384, 'widmark': 4882, 'game': 1864, 'ritter': 3705, 'apartment': 265, 'hair': 2005, 'stuck': 4237, 'removed': 3624, 'million': 2847, 'picks': 3268, 'flicks': 1755, 'chest': 784, 'opens': 3115, 'detailed': 1218, 'moves': 2925, 'truck': 4595, 'water': 4816, 'unforgettable': 4652, 'loser': 2655, 'behave': 445, 'expect': 1575, 'birthday': 487, 'touching': 4536, 'land': 2511, 'delivers': 1172, 'shine': 3931, 'nightmare': 3014, 'elm': 1447, 'child': 789, 'freddy': 1826, 'build': 614, 'grab': 1949, 'alice': 182, 'survivor': 4324, 'dreams': 1355, 'slowly': 4032, 'dialogues': 1235, 'scary': 3807, 'deaths': 1142, 'uninteresting': 4660, 'reminded': 3619, 'amateur': 206, 'theatre': 4429, 'embarrassing': 1454, 'lisa': 2616, 'bring': 585, 'sexy': 3911, 'pity': 3281, 'master': 2757, 'imaginative': 2237, 'craven': 1034, 'clown': 862, 'fake': 1635, 'rate': 3526, '25': 40, 'ears': 1402, 'plus': 3311, 'ugly': 4625, 'werewolf': 4850, 'costume': 1005, 'halloween': 2010, 'retarded': 3663, 'spoken': 4126, 'forty': 1807, 'switch': 4339, 'pig': 3274, 'use': 4692, 'lion': 2614, 'sounds': 4084, 'buy': 640, 'garden': 1872, 'hill': 2108, 'won': 4925, 'awards': 367, 'depression': 1189, 'ambitious': 211, 'letters': 2582, 'discover': 1279, 'owner': 3159, 'convinced': 984, 'leaving': 2557, 'briefly': 580, 'fired': 1735, 'inevitable': 2282, 'dated': 1119, 'poverty': 3357, 'consider': 949, 'musical': 2947, 'peoples': 3222, 'enjoyment': 1488, 'effective': 1429, '1990s': 25, 'mail': 2706, 'ryan': 3765, 'chain': 741, 'offended': 3085, 'corner': 996, 'lane': 2515, 'lovers': 2673, 'topic': 4526, 'progress': 3425, 'saving': 3797, 'grace': 1950, 'fiction': 1702, 'arrive': 300, 'silver': 3977, 'strangely': 4212, 'breathtaking': 574, 'release': 3602, 'today': 4508, 'interested': 2324, 'albert': 174, 'shirt': 3937, 'handle': 2018, 'desperation': 1210, 'winter': 4900, 'essentially': 1523, 'obsessed': 3069, 'attracted': 349, 'styles': 4250, 'basic': 406, 'rule': 3753, 'horrific': 2166, 'victim': 4729, 'sight': 3969, 'wish': 4904, 'scare': 3803, 'pulling': 3463, 'teeth': 4393, 'hadnt': 2004, 'forever': 1792, 'cheesy': 781, 'demand': 1174, 'dr': 1340, 'died': 1244, '1972': 18, 'golden': 1934, 'pieces': 3273, 'heres': 2087, 'april': 284, 'elaborate': 1439, 'coach': 868, 'burning': 627, 'gang': 1867, 'burned': 626, 'midnight': 2834, 'hang': 2022, 'food': 1778, 'drink': 1361, 'trouble': 4592, 'page': 3167, 'aliens': 184, 'realizes': 3554, 'shirley': 3936, 'bath': 411, 'acid': 95, 'marty': 2749, 'mask': 2752, 'awake': 365, 'wait': 4770, 'survive': 4321, 'rent': 3626, 'clichés': 846, 'mention': 2810, 'carol': 693, 'frank': 1821, 'spin': 4112, 'cutting': 1092, 'gem': 1877, 'brad': 560, 'pitt': 3280, 'screams': 3828, 'delight': 1167, 'refreshing': 3586, 'wealth': 4826, 'moore': 2901, 'spot': 4131, 'emotionally': 1460, 'disagree': 1269, 'sci': 3815, 'fi': 1701, 'decade': 1144, 'cure': 1081, 'myself': 2953, 'indie': 2276, 'below': 462, 'directorial': 1265, 'debut': 1143, 'handled': 2019, 'color': 877, 'lighting': 2596, 'portray': 3340, 'womans': 4922, 'narrator': 2967, 'energy': 1478, 'excitement': 1562, 'instance': 2304, 'mile': 2842, 'jamie': 2379, 'kennedy': 2454, 'scream': 3826, 'edgar': 1417, 'indian': 2274, 'la': 2500, 'airplane': 166, 'manner': 2729, 'magic': 2703, 'tomatoes': 4515, 'filming': 1718, 'throwing': 4480, 'basketball': 409, 'indeed': 2271, 'grasp': 1960, 'miller': 2846, 'taylor': 4372, 'soldiers': 4054, 'dubbed': 1379, 'samurai': 3779, 'yeah': 4977, 'san': 3780, 'gags': 1862, 'credits': 1050, 'rock': 3720, 'underrated': 4642, 'dislike': 1288, 'shall': 3916, 'hearted': 2065, 'bright': 581, 'boat': 523, 'happiness': 2031, 'dancers': 1105, 'warming': 4795, 'assume': 328, 'constant': 957, 'tonight': 4519, 'patient': 3211, 'minded': 2850, 'jim': 2402, 'allow': 189, 'win': 4892, 'sub': 4252, 'culture': 1079, '3d': 46, 'thumbs': 4485, 'mood': 2898, 'shooting': 3943, 'obsession': 3070, 'regret': 3591, 'paper': 3183, 'wing': 4896, 'struggling': 4236, 'remain': 3609, 'officer': 3092, 'bits': 490, 'france': 1816, 'arthur': 305, 'chilling': 794, 'spend': 4105, 'norman': 3035, 'according': 88, 'le': 2544, 'alcohol': 176, 'wall': 4781, 'unusual': 4681, 'choice': 797, 'judging': 2425, 'recording': 3575, 'lawrence': 2539, 'appropriate': 283, 'dropping': 1371, 'newspaper': 3006, 'reviewer': 3677, 'research': 3644, 'reveals': 3673, 'producer': 3415, 'leslie': 2574, 'husband': 2204, 'suggests': 4282, 'capable': 672, 'among': 217, 'obscure': 3068, 'detective': 1220, 'settle': 3902, 'dry': 1377, 'types': 4622, 'fashion': 1659, 'empathy': 1462, 'available': 361, 'purchase': 3469, 'print': 3399, 'compelled': 915, 'air': 164, 'island': 2361, 'werent': 4849, 'hold': 2129, 'higher': 2101, 'authority': 360, 'atlantis': 332, 'keeping': 2450, 'twenty': 4612, 'fire': 1734, 'royal': 3746, 'gotten': 1947, 'blues': 519, 'sunshine': 4294, 'solo': 4058, 'millions': 2848, 'americans': 214, 'moment': 2886, 'christ': 807, 'humanity': 2189, 'battles': 415, 'jesus': 2399, 'sellers': 3872, 'sheer': 3925, 'kirk': 2482, 'cameron': 661, 'growing': 1983, 'reflect': 3584, 'christian': 808, 'values': 4710, 'theatrical': 4430, 'strictly': 4223, 'suppose': 4305, 'town': 4541, 'nyc': 3065, 'bible': 477, 'bet': 470, 'manhattan': 2726, 'check': 777, 'crew': 1053, 'listen': 2619, 'closely': 855, 'honestly': 2147, 'hooked': 2153, 'gotta': 1946, 'heaven': 2068, 'luck': 2681, 'cable': 644, 'whoever': 4872, 'amazingly': 210, 'smooth': 4041, 'funnier': 1850, 'instinct': 2308, 'grows': 1985, 'couldve': 1009, 'vice': 4727, 'week': 4837, 'serial': 3889, 'broadcast': 591, 'trailers': 4555, 'emphasis': 1463, 'arm': 292, 'victor': 4731, 'experiment': 1583, 'london': 2641, 'corrupt': 1001, 'dick': 1239, 'francis': 1818, 'lacking': 2504, 'featured': 1679, 'beating': 425, 'blown': 516, 'terrorists': 4414, 'horrors': 2169, 'boom': 537, 'shadow': 3912, 'ignore': 2224, 'rarely': 3524, 'storytelling': 4209, 'adults': 126, 'becoming': 435, 'physically': 3263, 'visit': 4755, 'chases': 771, 'guessing': 1991, 'thrills': 4475, 'dark': 1115, 'woods': 4935, 'demon': 1177, 'red': 3576, 'successful': 4266, 'questions': 3489, 'bizarre': 492, 'attacks': 339, 'possibilities': 3348, 'garbage': 1870, 'explore': 1594, 'exercise': 1568, 'possibly': 3351, 'quirky': 3493, 'carries': 699, 'resist': 3648, 'aspect': 321, 'overwhelming': 3157, 'realism': 3549, 'families': 1644, 'whether': 4866, 'adding': 117, 'dangerous': 1110, 'criminal': 1057, 'actions': 101, 'seemingly': 3863, 'petty': 3249, 'criminals': 1058, 'inspiring': 2302, 'awe': 370, 'todays': 4509, 'et': 1526, 'imagined': 2239, 'defined': 1160, 'attempt': 340, 'meant': 2784, 'summer': 4291, 'heat': 2067, 'pulls': 3464, 'strongly': 4231, 'recognized': 3570, 'scenery': 3810, 'thank': 4421, 'goodness': 1938, 'dvds': 1392, 'borrowed': 545, 'library': 2589, 'likewise': 2603, 'forgotten': 1797, 'luke': 2687, 'realizing': 3555, 'helped': 2080, 'track': 4544, 'empty': 1465, 'silent': 3975, 'damage': 1099, 'props': 3439, 'pulp': 3465, 'turning': 4608, 'thoroughly': 4459, 'dreary': 1356, 'adds': 119, 'insult': 2309, 'boredom': 542, 'medium': 2792, 'rival': 3706, 'anna': 245, 'expected': 1577, 'jason': 2383, 'wishes': 4906, 'soviet': 4089, 'treasure': 4571, 'colour': 880, 'remote': 3622, 'arrival': 299, 'revolution': 3680, 'germans': 1897, 'returns': 3668, 'oil': 3097, 'extraordinary': 1607, 'tricks': 4583, 'genuinely': 1892, 'delightful': 1168, 'text': 4419, 'match': 2762, 'ralph': 3510, 'edge': 1418, 'opened': 3113, 'witch': 4909, 'explained': 1587, 'demons': 1178, 'trained': 4557, 'filmmaker': 1719, 'loves': 2674, 'distant': 1295, 'spiritual': 4116, 'opportunities': 3120, 'introduce': 2336, 'poetry': 3314, 'dressing': 1359, 'resembles': 3646, 'rush': 3759, 'clothes': 860, 'fool': 1779, 'nonsensical': 3031, 'jeff': 2390, 'former': 1800, 'united': 4664, 'states': 4163, 'present': 3374, 'claims': 830, 'helping': 2081, 'wealthy': 4827, 'businessman': 634, 'investigation': 2343, 'deeper': 1155, 'utter': 4701, 'mentioned': 2811, 'deliberately': 1166, 'wasted': 4809, 'cinematic': 818, 'elizabeth': 1445, 'delivery': 1173, 'appeal': 271, 'belong': 459, 'semi': 3874, 'weird': 4841, 'obviously': 3072, 'cult': 1077, 'enter': 1494, 'competition': 918, 'glory': 1922, 'predictable': 3367, 'martial': 2747, 'arts': 310, 'kung': 2498, 'fu': 1844, 'kicking': 2462, 'interaction': 2322, 'success': 4265, 'india': 2273, 'proves': 3447, 'respect': 3652, 'project': 3427, 'evening': 1534, 'dinner': 1254, 'hits': 2125, 'suitable': 4285, 'horrifying': 2167, 'outcome': 3142, 'underground': 4640, 'attractive': 351, 'chapter': 757, 'latest': 2526, 'motivation': 2914, 'explored': 1595, 'germany': 1898, 'previously': 3388, 'extent': 1605, 'massacre': 2754, 'faced': 1617, 'massive': 2756, 'basis': 408, 'berlin': 467, 'nazi': 2977, 'cost': 1003, 'nazis': 2978, 'support': 4303, 'capital': 673, 'shock': 3938, '2002': 32, 'scale': 3802, 'improve': 2254, 'matters': 2770, 'dubbing': 1380, 'zombies': 4998, 'clumsy': 866, 'ability': 65, 'doubt': 1332, 'table': 4346, 'zombie': 4997, 'nation': 2969, 'redeeming': 3577, 'montana': 2895, 'weapons': 4829, 'max': 2774, 'safe': 3771, 'bumbling': 622, 'ed': 1415, 'daniel': 1111, 'chasing': 772, 'station': 4164, 'added': 116, 'mix': 2876, 'foot': 1781, 'sorts': 4078, 'loaded': 2632, 'laughs': 2534, 'al': 170, 'pacino': 3164, 'kim': 2475, 'tea': 4373, '60': 53, 'record': 3573, 'button': 639, 'morning': 2906, 'guarantee': 1987, 'continuity': 972, 'existent': 1572, 'musicals': 2948, 'shy': 3962, 'portrays': 3344, 'sequences': 3888, 'menacing': 2807, 'madness': 2698, 'creativity': 1042, 'artists': 309, 'profound': 3423, 'natural': 2973, 'source': 4086, 'trees': 4577, 'rocks': 3722, 'joy': 2422, 'spare': 4093, 'miracle': 2860, 'photographed': 3258, 'depicting': 1184, 'models': 2881, 'stereotype': 4178, 'broken': 594, 'raymond': 3534, 'co': 867, 'effect': 1428, 'pilot': 3276, 'civilization': 827, 'covers': 1024, '100': 1, 'conventional': 979, 'price': 3389, 'buff': 611, 'bear': 420, 'repeated': 3631, 'viewings': 4741, 'campbell': 663, 'double': 1331, 'propaganda': 3435, 'ii': 2226, 'dig': 1250, 'haunted': 2050, 'lugosi': 2686, 'combination': 883, 'karloff': 2445, 'cat': 713, 'alas': 172, 'lacked': 2503, 'genius': 1887, 'treats': 4575, 'engaged': 1480, 'aid': 160, 'fifteen': 1706, 'suspenseful': 4331, 'largely': 2518, 'difference': 1246, 'laughter': 2535, 'surely': 4309, 'hint': 2112, 'universal': 4665, 'allen': 188, 'torture': 4529, 'wrapped': 4964, 'commercials': 903, 'unrealistic': 4677, 'dreadful': 1353, 'means': 2783, 'state': 4160, 'audio': 354, 'raise': 3507, 'orson': 3132, 'welles': 4844, 'closed': 854, 'witches': 4910, 'represent': 3637, 'doll': 1313, 'toy': 4542, 'factory': 1623, 'drives': 1367, 'causes': 725, 'blow': 514, 'dolls': 1316, 'caused': 724, 'realize': 3552, 'involving': 2349, 'addition': 118, 'footage': 1782, 'versions': 4721, 'disc': 1278, 'host': 2173, 'trash': 4565, 'pretending': 3382, 'composed': 926, 'conversations': 981, 'humble': 2191, 'depressing': 1188, 'cruel': 1070, 'marie': 2737, 'jealous': 2388, 'exposed': 1598, 'revolutionary': 3681, 'wave': 4818, 'movement': 2923, 'movements': 2924, 'experiences': 1582, 'committed': 905, 'suicide': 4283, 'anger': 235, 'honest': 2146, 'statement': 4162, 'revealing': 3672, 'calling': 653, 'thrill': 4471, 'thrillers': 4473, 'silence': 3974, 'technically': 4382, 'gandhi': 1866, 'freedom': 1828, 'fighter': 1708, 'stress': 4220, 'territory': 4411, 'courage': 1018, 'kapoor': 2443, 'khan': 2459, 'akshay': 169, 'joined': 2413, 'showcase': 3954, 'believes': 456, 'study': 4242, 'education': 1424, 'walk': 4775, 'path': 3209, 'bigger': 479, 'placed': 3283, 'developing': 1224, 'performed': 3230, 'ease': 1404, 'proved': 3446, 'metal': 2823, 'kinds': 2478, 'technique': 4383, 'tone': 4517, 'insight': 2298, 'area': 286, 'worn': 4948, 'seat': 3845, 'sports': 4130, 'handed': 2016, 'forgive': 1795, 'sappy': 3784, 'blend': 504, 'adorable': 124, 'appreciation': 281, 'perfection': 3225, 'breath': 573, 'hopefully': 2157, 'marks': 2742, 'fallen': 1638, 'vs': 4767, 'provided': 3449, 'subtlety': 4261, 'baseball': 403, 'chick': 786, 'develops': 1226, 'chase': 769, 'flashbacks': 1747, 'serves': 3895, 'grow': 1982, 'bought': 552, 'false': 1641, 'escaped': 1518, 'tortured': 4530, 'centered': 733, 'object': 3066, 'dealt': 1138, 'sympathy': 4343, 'unpleasant': 4674, 'fate': 1665, 'forbidden': 1785, '2007': 37, 'cleverly': 842, 'blowing': 515, 'variety': 4714, 'slight': 4027, 'players': 3299, 'recorded': 3574, 'twice': 4613, 'worthy': 4956, 'con': 928, 'australian': 357, 'rachel': 3500, 'load': 2631, 'personally': 3243, 'belief': 451, 'repeatedly': 3632, 'sounding': 4083, 'greek': 1970, 'trail': 4553, 'closing': 859, 'card': 681, 'benefit': 465, 'sat': 3786, 'convoluted': 987, 'sacrifice': 3766, 'charm': 767, 'surprisingly': 4316, 'gradually': 1952, 'hook': 2152, 'reactions': 3542, 'pot': 3354, 'facts': 1624, '2003': 33, 'houses': 2180, 'contract': 973, 'hot': 2174, 'internet': 2327, 'errors': 1516, 'merely': 2815, 'comfortable': 892, 'technology': 4385, 'realise': 3548, 'conclusion': 936, 'forces': 1788, 'digital': 1251, 'security': 3854, 'guard': 1988, 'jeremy': 2394, 'device': 1227, 'investigate': 2342, 'victoria': 4732, 'opposed': 3122, 'scottish': 3825, 'whenever': 4863, 'mrs': 2930, 'brown': 601, 'balance': 387, 'sarah': 3785, 'daughter': 1121, 'brief': 579, 'concerns': 934, 'widely': 4881, 'duke': 1383, 'prince': 3396, 'uncle': 4636, 'crisis': 1060, 'system': 4345, 'reduced': 3579, 'conservative': 948, 'views': 4742, 'whereas': 4865, 'rotten': 3740, 'lessons': 2578, 'transfer': 4559, 'position': 3345, 'signed': 3971, 'chess': 783, 'comparing': 913, 'moved': 2922, 'cliché': 844, 'warning': 4800, 'mark': 2739, 'emily': 1456, 'blunt': 520, 'widow': 4883, 'loving': 2675, 'succeeded': 4263, 'gripping': 1976, 'exploration': 1593, 'mob': 2879, 'deserved': 1200, 'oscars': 3134, 'nominated': 3025, 'jr': 2423, 'site': 4005, 'disturbing': 1300, 'soul': 4079, 'rex': 3683, 'answer': 251, 'remake': 3612, 'blade': 495, 'ford': 1789, 'commit': 904, 'furthermore': 1854, 'market': 2740, 'sell': 3871, 'curious': 1083, 'expectations': 1576, 'carrying': 701, 'tradition': 4549, 'lying': 2690, 'finest': 1730, 'rick': 3689, 'sadly': 3769, 'jonathan': 2417, 'nicholas': 3010, 'soldier': 4053, 'locations': 2636, 'eastern': 1408, 'europe': 1529, 'tense': 4403, 'questionable': 3488, 'secretary': 3850, 'earned': 1401, 'cash': 709, 'cd': 728, 'rid': 3690, 'ruined': 3751, 'judge': 2424, 'careful': 688, 'masses': 2755, 'passionate': 3206, 'yesterday': 4983, 'express': 1600, 'responsibility': 3655, 'noticed': 3049, 'proper': 3436, 'mel': 2796, 'secondly': 3847, 'acted': 98, 'casting': 711, 'celluloid': 731, 'harsh': 2040, 'condition': 937, 'losing': 2658, 'murders': 2943, 'ups': 4686, 'warmth': 4796, 'blind': 506, 'lately': 2524, 'abc': 63, 'nowadays': 3055, 'magazine': 2701, 'recommended': 3572, 'critic': 1061, 'unoriginal': 4673, 'central': 735, 'relatives': 3601, 'lovely': 2671, 'stood': 4199, 'fictional': 1703, 'various': 4715, 'groups': 1981, 'descent': 1193, 'arguably': 289, 'hyde': 2206, 'praise': 3364, 'straight': 4210, 'melodramatic': 2798, 'affect': 136, 'museum': 2945, 'large': 2517, 'deceased': 1146, 'providing': 3451, 'neat': 2982, 'needless': 2989, 'eager': 1396, 'pair': 3176, 'walks': 4780, 'estate': 1525, 'directs': 1267, 'hung': 2197, 'crimes': 1056, 'pays': 3218, 'stone': 4197, 'darkness': 1117, 'shadows': 3913, 'runs': 3757, 'explanation': 1590, 'disappeared': 1271, 'learns': 2553, 'henry': 2084, 'surprises': 4314, 'dozens': 1339, 'speed': 4103, 'destiny': 1212, 'bbc': 417, 'ice': 2210, '2005': 35, 'worried': 4949, 'masters': 2761, 'factor': 1622, 'terrifying': 4410, 'minimum': 2856, 'countryside': 1015, 'unsettling': 4679, 'backdrop': 379, 'supernatural': 4302, 'beings': 449, 'del': 1165, 'bears': 421, 'raised': 3508, 'eyes': 1613, 'favourite': 1673, 'presentation': 3375, 'latin': 2527, 'america': 212, 'involvement': 2347, 'politics': 3326, 'communist': 907, 'activities': 102, 'positive': 3346, 'east': 1407, 'european': 1530, 'unfortunate': 4653, 'elsewhere': 1449, 'wouldve': 4959, 'species': 4098, 'england': 1482, 'rubber': 3747, 'jerk': 2395, 'lasted': 2522, 'pleased': 3305, 'nightmares': 3015, 'colonel': 876, 'rubbish': 3748, 'moody': 2899, 'porno': 3337, 'shake': 3914, 'roger': 3724, 'virtually': 4751, 'virus': 4752, 'ludicrous': 2685, 'concept': 930, 'turner': 4607, 'davis': 1126, 'standard': 4144, 'fatal': 1664, 'witnessed': 4915, 'unbelievably': 4635, 'locked': 2637, 'stones': 4198, 'titles': 4506, 'tiny': 4500, 'damn': 1100, 'stupidity': 4248, 'imitation': 2241, 'faith': 1633, 'greatly': 1967, 'intentionally': 2320, 'lips': 2615, 'bargain': 400, 'bin': 483, 'replaced': 3634, 'resulting': 3661, 'endearing': 1469, 'abusive': 75, 'selfish': 3870, 'simpson': 3987, 'happily': 2030, 'danny': 1112, 'phantom': 3251, 'falk': 1636, 'glass': 1917, 'fred': 1825, 'ward': 4793, 'arnold': 296, 'vehicle': 4718, 'wit': 4908, 'riding': 3695, 'slapstick': 4019, 'convincingly': 986, 'redemption': 3578, 'existence': 1571, 'core': 995, 'lonely': 2643, 'holiday': 2134, 'met': 2822, 'experienced': 1581, 'hospital': 2172, 'warm': 4794, 'stretched': 4222, 'psychiatrist': 3455, 'cheated': 775, 'contact': 961, 'darker': 1116, 'suggest': 4280, 'touch': 4533, 'teenage': 4389, 'youth': 4994, 'marry': 2745, 'decades': 1145, 'allows': 192, 'jumps': 2432, 'college': 875, 'busy': 635, 'related': 3594, 'weakest': 4825, 'hundreds': 2196, 'slave': 4022, 'cup': 1080, 'mindless': 2851, 'spending': 4106, 'ticket': 4487, 'calls': 654, 'abilities': 64, 'daughters': 1122, 'nicholson': 3011, 'sadistic': 3768, 'bollywood': 530, 'pre': 3365, 'pie': 3271, 'pay': 3216, 'screens': 3832, 'currently': 1085, 'stinks': 4192, 'drags': 1345, 'agreed': 156, 'exceptionally': 1559, 'concerned': 932, 'ranks': 3519, 'stinker': 4191, 'cusack': 1088, 'gorgeous': 1942, 'meeting': 2794, 'promised': 3431, 'mate': 2765, 'snow': 4045, 'molly': 2884, 'jay': 2386, 'pat': 3208, 'performers': 3232, 'prior': 3400, 'hearts': 2066, 'dating': 1120, 'performer': 3231, 'countless': 1012, 'spots': 4132, 'lloyd': 2630, 'lifetime': 2594, 'direct': 1258, 'business': 633, 'decisions': 1152, 'daring': 1114, 'receives': 3565, 'expensive': 1579, 'revolves': 3682, 'winds': 4895, 'reveal': 3670, 'games': 1865, 'personality': 3242, 'loosely': 2651, 'inventive': 2341, 'donald': 1321, 'exciting': 1563, 'hints': 2113, 'glover': 1923, 'unique': 4662, 'properly': 3437, 'river': 3707, 'rocky': 3723, 'mountains': 2918, 'kiss': 2483, 'methods': 2825, 'fly': 1763, 'brenda': 575, 'craig': 1030, 'encounter': 1466, 'tie': 4488, 'relationships': 3598, 'implausible': 2245, 'bloody': 513, 'dozen': 1338, 'seconds': 3848, 'stiff': 4187, 'demented': 1176, 'irritating': 2359, 'headed': 2058, 'status': 4165, 'scripted': 3835, 'waited': 4771, 'everyday': 1541, 'projects': 3428, 'advertising': 132, 'deserve': 1199, 'urge': 4689, 'talents': 4356, 'rebel': 3561, 'frightening': 1839, 'fabulous': 1615, 'ann': 244, 'jumping': 2431, '1950s': 14, 'onto': 3111, 'worry': 4950, 'survival': 4320, 'thrown': 4481, 'crying': 1074, 'arrives': 302, 'fulci': 1845, 'helen': 2075, 'hunt': 2198, 'hates': 2048, 'cats': 721, 'brian': 576, 'cares': 690, 'cheese': 780, 'ought': 3138, 'cameos': 658, 'thousand': 4465, 'miles': 2843, '3rd': 47, 'transformation': 4560, 'unpredictable': 4675, 'passes': 3203, 'threatening': 4468, 'african': 142, 'prisoner': 3402, 'neighborhood': 2993, 'teach': 4374, 'teens': 4392, 'scenario': 3808, 'faces': 1618, 'manipulative': 2727, 'beer': 439, 'childrens': 793, 'minds': 2852, 'bugs': 613, 'horrid': 2165, 'spielberg': 4110, 'doors': 1329, 'interpretation': 2328, 'holmes': 2139, 'seventies': 3904, 'criticism': 1063, 'iraq': 2351, 'vietnam': 4735, 'engage': 1479, 'brave': 567, 'greedy': 1969, 'effectively': 1430, 'willing': 4889, 'machines': 2694, 'teaching': 4377, 'skills': 4014, 'ironically': 2356, 'picked': 3266, 'mentioning': 2812, 'minimal': 2855, 'blockbuster': 509, 'luckily': 2682, 'searching': 3842, 'renting': 3629, 'listed': 2618, 'captures': 678, 'essence': 1521, 'continues': 971, 'foster': 1809, 'castle': 712, 'tend': 4400, 'door': 1328, 'humans': 2190, 'sexuality': 3909, 'ingredients': 2289, 'vicious': 4728, 'marvelous': 2750, 'endings': 1472, 'batman': 413, 'animated': 241, 'par': 3184, 'cartoons': 705, '75': 57, 'aka': 168, 'sword': 4340, 'enormous': 1490, 'exploitation': 1592, 'instant': 2305, 'afford': 138, 'comical': 894, 'specifically': 4100, 'hilariously': 2107, 'eccentric': 1414, 'sleazy': 4023, 'inferior': 2285, 'heroes': 2089, 'drag': 1342, 'reel': 3581, 'mini': 2854, 'reminds': 3620, 'chased': 770, 'cliff': 847, 'weekend': 4838, 'chicks': 787, 'forest': 1791, 'link': 2613, 'protagonist': 3441, 'villain': 4744, 'friday': 1834, 'butler': 637, 'prevent': 3385, 'trap': 4563, 'theyll': 4444, 'intention': 2319, 'pal': 3177, 'inevitably': 2283, 'franco': 1820, 'regular': 3592, 'suggested': 4281, 'useless': 4695, 'sick': 3963, 'laid': 2508, 'winner': 4897, 'award': 366, 'rushed': 3760, 'nearby': 2980, 'amy': 222, 'rented': 3628, 'quick': 3490, 'li': 2587, 'legend': 2564, 'jackie': 2374, 'chan': 746, 'drunken': 1376, 'angry': 238, 'legal': 2563, 'doctors': 1305, 'patients': 3212, 'month': 2896, 'ourselves': 3140, 'dancer': 1104, 'bird': 484, 'proud': 3444, 'skill': 4013, 'moral': 2902, 'resolution': 3649, 'humour': 2194, 'severe': 3906, 'blatant': 502, 'mall': 2720, 'potential': 3355, 'relatively': 3600, 'asking': 318, 'distance': 1294, 'hood': 2151, 'fix': 1744, 'summary': 4290, 'loud': 2664, 'sneak': 4043, 'demands': 1175, 'failure': 1629, 'enemy': 1477, 'refuses': 3587, 'tribute': 4581, 'returned': 3666, 'raising': 3509, 'heroic': 2090, 'introduction': 2339, 'kicks': 2463, 'portion': 3338, 'kicked': 2461, '15': 7, 'cases': 708, 'rings': 3699, 'trilogy': 4586, 'selling': 3873, 'stronger': 4230, 'fare': 1655, 'da': 1094, 'conceived': 929, 'mass': 2753, '50': 51, 'pack': 3165, 'godzilla': 1929, 'explosion': 1596, 'paying': 3217, 'spectacular': 4101, 'giant': 1905, 'reaction': 3541, 'diane': 1238, 'everywhere': 1545, 'drunk': 1375, 'dances': 1106, 'breaks': 571, 'hopeless': 2158, 'cinderella': 815, 'fashioned': 1660, 'generated': 1882, 'magical': 2704, 'vhs': 4725, 'accidentally': 85, 'melodrama': 2797, 'gene': 1879, 'smiling': 4037, 'challenging': 744, 'wound': 4960, 'laura': 2536, 'mouse': 2919, 'beaten': 424, 'program': 3424, 'exact': 1550, 'carefully': 689, 'definite': 1161, 'sounded': 4082, 'convince': 983, 'contained': 963, 'string': 4227, 'translation': 4562, 'listening': 2620, 'highlights': 2104, 'hideous': 2098, 'disgusting': 1286, 'steals': 4172, 'recognize': 3569, 'mansion': 2731, 'sticks': 4186, 'hanging': 2023, 'flesh': 1753, 'aforementioned': 139, 'wanting': 4790, 'flop': 1760, 'advise': 134, 'warned': 4798, 'fellow': 1691, 'cooper': 990, 'irish': 2353, 'dear': 1140, 'scores': 3823, 'throat': 4476, 'breasts': 572, 'appalling': 268, 'individual': 2277, 'subsequent': 4257, 'unconvincing': 4638, 'irrelevant': 2358, 'actresses': 106, 'educational': 1425, 'vegas': 4717, 'stock': 4193, 'creatures': 1046, 'deadly': 1133, 'company': 910, 'bucks': 606, 'dinosaurs': 1256, 'environment': 1505, 'restaurant': 3658, 'workers': 4943, 'attitudes': 347, 'hated': 2047, 'uwe': 4703, 'fancy': 1649, 'boll': 529, 'explain': 1586, 'forth': 1804, 'murdered': 2940, 'suspicious': 4332, 'unexpected': 4650, 'ridiculously': 3694, 'hollow': 2135, 'sophisticated': 4075, 'atrocious': 335, 'ridden': 3691, 'friendly': 1836, 'spoiler': 4123, 'simplicity': 3984, 'jessica': 2398, 'send': 3875, 'homage': 2141, 'horrendous': 2162, 'terror': 4412, 'fond': 1776, 'wide': 4880, 'chose': 804, 'pants': 3182, 'saves': 3796, 'vote': 4766, 'months': 2897, 'repetitive': 3633, 'wonders': 4931, 'neighbors': 2994, 'grandfather': 1954, 'sutherland': 4333, 'grandmother': 1955, 'civil': 826, 'adapted': 114, 'wallace': 4782, 'incident': 2260, 'bringing': 586, 'guilt': 1994, 'circle': 821, 'consequences': 947, 'terrorist': 4413, 'driven': 1365, 'intense': 2316, 'union': 4661, 'native': 2972, 'encounters': 1467, 'learned': 2551, 'frequent': 1831, 'hiding': 2099, 'spring': 4134, '1980': 20, 'smith': 4038, 'ken': 2453, 'online': 3109, 'pleasantly': 3303, 'rain': 3506, 'van': 4713, 'thanks': 4423, 'department': 1182, 'frequently': 1832, 'margaret': 2735, 'angel': 231, 'ellen': 1446, 'canada': 666, 'required': 3641, 'classes': 834, 'mothers': 2912, 'likable': 2598, 'alcoholic': 177, 'pride': 3391, 'led': 2558, 'carried': 698, 'spread': 4133, 'aunt': 355, 'reputation': 3640, 'population': 3335, 'exceptional': 1558, 'attend': 344, 'kevin': 2457, 'appearances': 275, 'desert': 1198, 'ocean': 3079, 'stops': 4203, 'spirited': 4114, 'beatty': 427, 'bottle': 550, 'skin': 4015, 'california': 650, 'aired': 165, 'alternate': 200, 'clips': 852, 'ship': 3934, 'attempting': 342, 'bridge': 578, 'sidney': 3968, 'lumet': 2688, 'throws': 4482, 'excited': 1561, 'offer': 3087, 'driver': 1366, 'kudos': 2497, 'doom': 1326, 'creation': 1040, 'parody': 3192, 'pile': 3275, 'sally': 3776, 'lucy': 2684, 'crush': 1072, 'pseudo': 3454, 'remaining': 3610, 'videos': 4734, 'protagonists': 3442, 'angle': 236, 'wins': 4899, 'columbo': 881, 'unseen': 4678, 'poignant': 3315, 'mysteries': 2954, 'morgan': 2905, 'freeman': 1829, 'construction': 960, 'ms': 2931, 'tired': 4501, 'ireland': 2352, 'rocket': 3721, 'graphics': 1959, 'design': 1202, 'atmospheric': 334, 'spooky': 4128, 'mission': 2870, 'campy': 664, 'rip': 3700, 'fathers': 1667, 'fears': 1677, 'achieved': 93, 'wandering': 4785, 'portrait': 3339, 'homosexual': 2145, 'superbly': 4297, 'painfully': 3172, 'absence': 70, 'featuring': 1681, 'diana': 1237, 'appeared': 276, 'loyal': 2679, 'bang': 393, '2000': 30, 'ironic': 2355, 'americas': 215, 'execution': 1566, 'explosions': 1597, 'buffs': 612, 'knock': 2488, 'advance': 127, 'fascinated': 1657, 'bank': 394, 'lifestyle': 2593, 'editor': 1423, 'issue': 2364, 'similarly': 3980, 'edition': 1422, 'manager': 2724, 'hip': 2114, 'naturally': 2974, 'concern': 931, 'closest': 857, 'duty': 1390, 'birth': 486, 'efforts': 1433, 'border': 539, 'grown': 1984, 'newly': 3004, 'identity': 2217, 'prisoners': 3403, 'access': 83, 'feet': 1688, 'eaten': 1412, 'juvenile': 2441, 'crocodile': 1065, 'paltrow': 3178, 'emma': 1457, '17': 9, 'dawson': 1128, 'flawed': 1750, 'rising': 3703, 'namely': 2962, 'miscast': 2862, 'confusion': 943, 'student': 4238, 'lit': 2621, 'university': 4667, 'bus': 631, 'urban': 4688, 'accompanied': 86, 'display': 1291, 'principal': 3398, 'hitting': 2126, 'drawing': 1350, 'unintentional': 4658, 'overacting': 3149, 'extreme': 1609, 'travels': 4569, 'sin': 3988, 'rob': 3710, 'everybody': 1540, 'tough': 4537, 'quote': 3496, 'seed': 3856, 'importantly': 2248, 'category': 718, 'hollywoods': 2138, 'adventure': 130, 'integrity': 2311, 'receive': 3563, 'virginia': 4750, 'draws': 1352, 'yellow': 4981, 'alfred': 181, 'complaint': 920, 'copy': 994, 'disturbed': 1299, 'destroying': 1215, 'folk': 1770, 'built': 618, 'sake': 3775, 'planning': 3291, 'fay': 1674, 'harris': 2038, 'eyed': 1612, 'corporate': 998, 'closet': 858, 'barry': 401, 'competent': 917, 'talked': 4359, 'improved': 2255, 'ships': 3935, 'backgrounds': 381, 'rights': 3697, 'remind': 3618, 'frustrated': 1842, 'figures': 1713, 'claire': 831, 'forms': 1801, 'individuals': 2278, 'distinct': 1296, 'shines': 3932, 'someones': 4065, 'faster': 1662, 'appealing': 272, 'league': 2549, 'superman': 4301, 'engaging': 1481, 'originality': 3130, 'comedian': 887, 'attached': 336, 'swimming': 4338, 'pool': 3327, 'woody': 4936, 'generic': 1885, 'block': 508, 'multi': 2935, 'designed': 1203, 'regardless': 3590, 'financial': 1725, 'celebrity': 729, 'charisma': 762, 'che': 773, 'court': 1020, 'dorothy': 1330, 'assistant': 326, 'regarding': 3589, 'hills': 2109, 'stunt': 4245, 'oddly': 3081, 'veteran': 4724, 'impressed': 2251, 'despair': 1207, 'companion': 909, 'ruins': 3752, 'whale': 4857, 'dolph': 1317, 'wished': 4905, 'charismatic': 763, 'annoyed': 248, '2nd': 41, 'plant': 3293, 'nuts': 3064, 'stopped': 4202, 'boot': 538, 'lengthy': 2570, 'interview': 2329, 'included': 2262, 'adventures': 131, 'melting': 2799, 'andy': 230, 'rental': 3627, 'gain': 1863, 'scope': 3821, 'represented': 3638, 'classical': 836, 'makeup': 2717, 'danes': 1108, 'cowboy': 1025, 'vengeance': 4719, 'succeed': 4262, 'lust': 2689, 'intrigued': 2334, 'subjects': 4254, 'korean': 2495, 'household': 2179, 'thoughtful': 4463, 'occasion': 3073, 'qualities': 3483, 'generation': 1883, 'covered': 1023, 'invasion': 2340, 'altogether': 202, 'parallel': 3185, 'ear': 1397, 'gothic': 1945, 'screaming': 3827, 'formulaic': 1803, 'mildly': 2840, 'scientific': 3817, 'lab': 2501, 'spoke': 4125, 'initially': 2291, 'disjointed': 1287, 'downright': 1337, 'term': 4405, 'abysmal': 76, 'notes': 3046, 'novels': 3053, 'lewis': 2586, 'relies': 3606, 'moon': 2900, 'repeat': 3630, 'resident': 3647, '13th': 5, 'resemblance': 3645, 'icon': 2211, 'pitch': 3279, 'dawn': 1127, 'flow': 1762, 'guilty': 1995, 'leonard': 2572, 'dinosaur': 1255, 'behavior': 446, 'wears': 4832, 'resources': 3651, 'bo': 521, 'rolling': 3730, 'pretend': 3381, 'spoiled': 4122, 'infamous': 2284, 'unbearable': 4633, 'dennis': 1179, '90s': 61, 'blew': 505, 'wacky': 4769, 'steps': 4177, 'drew': 1360, 'unit': 4663, 'arms': 294, 'willis': 4890, 'tracy': 4546, 'machine': 2693, 'picking': 3267, 'shell': 3927, 'nurse': 3063, 'lucky': 2683, 'antics': 255, 'dressed': 1358, 'alert': 178, 'broke': 593, 'sudden': 4272, 'flynn': 1765, 'plots': 3310, 'gray': 1963, 'centers': 734, 'sam': 3777, 'charlie': 765, 'feed': 1683, 'taxi': 4371, 'clean': 838, 'blows': 517, 'rooms': 3736, 'helicopter': 2076, 'driving': 1368, '1990': 24, 'reynolds': 3684, 'photo': 3257, 'caine': 647, 'enters': 1496, 'homer': 2144, 'belongs': 460, 'linda': 2609, 'gifted': 1907, 'uncomfortable': 4637, 'bomb': 531, 'claimed': 829, 'argument': 291, 'ah': 158, 'response': 3654, 'segments': 3868, 'segment': 3867, 'careers': 687, 'dies': 1245, 'lower': 2677, 'christopher': 811, 'flash': 1745, 'anywhere': 263, 'description': 1197, 'location': 2635, 'familys': 1646, 'stranger': 4213, 'polanski': 3321, 'roman': 3731, 'georges': 1894, 'mountain': 2917, 'timothy': 4499, 'dalton': 1098, 'respected': 3653, 'ideal': 2214, 'swim': 4337, 'thirty': 4456, 'ape': 266, 'creature': 1045, 'performing': 3233, 'national': 2970, 'walter': 4784, 'matthau': 2771, 'felix': 1689, 'mtv': 2933, 'aging': 153, 'base': 402, 'wake': 4774, 'generous': 1886, 'somebody': 4062, 'brando': 566, 'hire': 2116, 'attraction': 350, 'bacall': 377, 'possessed': 3347, 'wayne': 4821, 'defense': 1159, 'illness': 2230, 'health': 2060, 'affected': 137, 'slap': 4018, 'product': 3418, 'rank': 3518, 'turkey': 4604, 'popcorn': 3331, 'stated': 4161, 'legs': 2566, 'dust': 1388, 'flight': 1757, 'adam': 111, 'vincent': 4746, 'jake': 2377, 'jackson': 2375, 'degree': 1164, 'omen': 3104, 'laurel': 2537, 'equivalent': 1512, 'achieve': 92, 'destruction': 1216, 'warn': 4797, 'dentist': 1180, 'bland': 500, 'threat': 4467, 'possibility': 3349, 'wolf': 4920, 'carpenter': 694, 'strike': 4224, 'shape': 3919, 'curtis': 1087, 'immensely': 2243, 'devoid': 1230, 'choreographed': 801, 'inappropriate': 2259, 'merits': 2817, 'practically': 3362, 'fest': 1696, 'keaton': 2448, 'cagney': 646, 'johnny': 2410, 'medical': 2790, 'kelly': 2452, '1930s': 11, 'preview': 3386, 'slaughter': 4021, 'bore': 540, 'nostalgia': 3038, 'fairy': 1632, 'walken': 4777, 'trademark': 4548, 'ps': 3453, 'donna': 1323, 'crack': 1027, 'ready': 3546, 'scares': 3806, 'storm': 4206, 'daddy': 1096, 'accused': 91, 'believing': 457, 'purely': 3472, 'comparison': 914, 'roberts': 3714, 'joseph': 2419, 'troubles': 4594, 'doubts': 1333, 'glimpse': 1919, 'julia': 2427, 'chief': 788, 'cia': 814, 'guest': 1992, 'wanna': 4786, 'undoubtedly': 4648, 'tracks': 4545, 'tour': 4538, 'jon': 2416, 'excessive': 1560, 'splatter': 4118, 'focusing': 1769, 'greater': 1965, 'pointed': 3317, 'devils': 1229, 'greed': 1968, 'hotel': 2175, 'simmons': 3981, 'album': 175, 'handful': 2017, 'carrie': 697, 'row': 3744, 'senseless': 3878, 'improvement': 2256, 'mistress': 2874, 'spell': 4104, 'jail': 2376, 'capturing': 679, 'sits': 4006, 'idiots': 2220, 'wizard': 4919, 'oz': 3160, 'guts': 1999, 'ho': 2127, 'catholic': 720, 'letter': 2581, 'retired': 3664, 'per': 3223, 'buried': 624, 'eight': 1436, 'bette': 471, '16': 8, 'paulie': 3215, 'floor': 1759, 'mental': 2808, 'carradine': 695, 'ashamed': 312, 'psychotic': 3459, 'unwatchable': 4682, 'costs': 1004, 'hardy': 2037, 'stan': 4142, 'solution': 4059, 'sea': 3838, 'junk': 2436, 'yelling': 4980, 'ensues': 1493, 'rap': 3520, 'popularity': 3334, '1996': 26, 'split': 4120, 'rolled': 3729, 'goofy': 1939, 'amazed': 208, 'admire': 121, 'provoking': 3452, 'shoes': 3941, '50s': 52, 'primary': 3394, 'touches': 4535, 'pursuit': 3476, 'strangers': 4214, 'everyones': 1543, 'test': 4416, 'community': 908, 'quest': 3486, 'travesty': 4570, 'stellar': 4174, 'piano': 3264, 'allowing': 191, 'murderous': 2942, 'succeeds': 4264, 'todd': 4510, 'moronic': 2907, 'argue': 290, 'directions': 1262, 'distracting': 1297, 'justify': 2439, 'huh': 2187, 'mainstream': 2709, 'douglas': 1334, 'performs': 3234, 'ignored': 2225, 'target': 4366, 'north': 3036, 'st': 4137, 'eve': 1532, 'bound': 553, 'attorney': 348, 'uninspired': 4657, 'thrilling': 4474, 'brooklyn': 595, 'wrestling': 4966, 'cgi': 740, 'copies': 992, 'seeking': 3859, 'lees': 2560, 'forgettable': 1794, 'planned': 3290, 'deaf': 1134, 'simplistic': 3985, 'carrey': 696, 'combine': 884, 'continue': 969, 'polished': 3323, 'mixture': 2878, 'hal': 2006, 'cinemas': 817, 'parker': 3191, 'carl': 692, 'tunes': 4603, 'lights': 2597, 'assault': 324, 'solve': 4060, 'handsome': 2021, '1970s': 17, 'pearl': 3220, 'parent': 3187, 'lawyer': 2541, 'jaw': 2384, 'scientist': 3818, 'gods': 1928, 'sole': 4055, 'citizen': 824, 'plague': 3285, 'noise': 3024, 'studios': 4241, 'mild': 2839, 'gender': 1878, 'miserable': 2863, 'womens': 4924, 'channels': 754, 'surfing': 4311, 'females': 1694, 'react': 3540, 'necessarily': 2983, 'resort': 3650, 'wrap': 4963, 'burton': 630, 'apes': 267, 'sixties': 4011, 'superficial': 4298, 'carter': 703, 'requires': 3642, 'beneath': 464, 'creates': 1038, 'franchise': 1817, 'inspector': 2299, 'waters': 4817, 'elephant': 1444, 'exposure': 1599, 'britain': 588, 'cinematographer': 819, 'tight': 4492, 'overdone': 3152, 'amateurish': 207, 'cox': 1026, '1968': 16, 'presumably': 3380, 'catchy': 717, 'los': 2653, 'angeles': 233, 'robbery': 3711, 'ron': 3734, 'nervous': 2999, 'mars': 2746, 'rabbit': 3498, 'trick': 4582, 'upset': 4687, 'stunts': 4246, 'doc': 1303, 'noted': 3045, 'authentic': 358, 'mirror': 2861, 'blob': 507, 'alien': 183, 'elderly': 1440, 'waitress': 4773, 'downhill': 1336, 'swedish': 4335, 'wed': 4835, 'bud': 607, 'disappoint': 1272, 'quit': 3494, 'curiosity': 1082, 'mechanical': 2788, 'hunters': 2200, 'inane': 2258, 'orders': 3127, 'unreal': 4676, 'leg': 2562, 'climactic': 848, 'ruthless': 3764, 'defend': 1158, 'anderson': 227, 'depicts': 1186, 'sean': 3840, 'mayor': 2777, 'fonda': 1777, 'dub': 1378, 'ham': 2011, 'neo': 2998, 'wicked': 4879, 'doomed': 1327, 'caliber': 649, 'beliefs': 452, 'diamond': 1236, 'cringe': 1059, 'perform': 3227, 'chair': 742, 'blair': 497, 'judy': 2426, 'recall': 3562, 'bands': 392, 'pro': 3406, 'wholly': 4874, 'cary': 706, 'successfully': 4267, 'butt': 638, 'mummy': 2937, 'rambo': 3511, 'motivations': 2915, 'lesson': 2577, 'davies': 1125, '70': 55, 'timeless': 4496, 'monkeys': 2891, 'identify': 2216, 'overcome': 3151, 'michelle': 2830, 'niro': 3019, 'kingdom': 2480, 'racial': 3501, 'faults': 1669, 'abraham': 69, 'established': 1524, 'defeat': 1157, 'racism': 3502, 'chorus': 803, 'sinatra': 3989, 'spirits': 4115, 'stylish': 4251, 'innocence': 2293, 'dire': 1257, 'plans': 3292, 'agrees': 157, 'challenge': 743, 'secrets': 3852, 'calm': 655, 'beach': 419, 'jungle': 2434, 'indians': 2275, 'taught': 4370, 'command': 897, 'cell': 730, 'kidnapped': 2466, 'olivier': 3103, 'discovery': 1282, 'poetic': 3313, 'joan': 2404, 'expression': 1602, 'shed': 3924, 'served': 3894, 'painted': 3174, 'snake': 4042, 'constructed': 959, 'lively': 2627, 'tooth': 4524, 'bare': 398, 'louise': 2666, 'matched': 2763, 'secretly': 3851, 'contest': 967, 'intentions': 2321, 'misery': 2865, 'husbands': 2205, 'corpse': 999, 'relation': 3595, 'transition': 4561, 'messed': 2821, '40s': 49, 'seek': 3858, 'titanic': 4503, 'hbo': 2055, 'rough': 3741, 'babe': 375, 'ruth': 3763, 'complexity': 924, 'stooges': 4200, 'waves': 4819, 'typically': 4624, 'aimed': 162, 'limits': 2607, 'settings': 3901, 'wood': 4933, 'bride': 577, 'documentaries': 1306, 'illegal': 2229, 'dragged': 1343, 'cruise': 1071, 'soap': 4047, 'destroy': 1213, 'ballet': 389, 'merit': 2816, 'burns': 628, 'magnificent': 2705, 'specific': 4099, 'catching': 716, 'restored': 3659, 'practice': 3363, 'media': 2789, 'hop': 2154, 'ted': 4386, 'failing': 1627, 'march': 2734, 'easier': 1405, 'endure': 1475, 'poem': 3312, 'superhero': 4299, 'inspiration': 2300, 'fortune': 1806, '1984': 23, 'reed': 3580, 'mgm': 2828, 'logical': 2639, 'hank': 2024, 'denzel': 1181, 'washington': 4806, 'associated': 327, 'honesty': 2148, 'scrooge': 3837, '20th': 38, 'understandable': 4644, 'stole': 4194, 'craft': 1028, 'motives': 2916, 'sensitive': 3879, 'junior': 2435, 'wear': 4830, 'proceedings': 3410, 'blah': 496, 'bela': 450, 'dynamic': 1394, 'balls': 390, 'structure': 4233, 'painting': 3175, 'vague': 4705, 'definition': 1163, 'vacation': 4704, 'kay': 2447, 'spike': 4111, 'twelve': 4611, 'alike': 185, 'robots': 3718, 'rangers': 3517, 'tiger': 4491, 'brains': 563, 'flies': 1756, 'satisfy': 3790, 'pamela': 3179, 'photographer': 3259, 'angela': 232, 'blank': 501, 'noir': 3023, 'sisters': 4002, 'bay': 416, 'basement': 405, 'persona': 3239, 'dickens': 1240, 'visits': 4756, 'bull': 619, 'cheek': 779, 'seagal': 3839, 'disappear': 1270, 'amitabh': 216, 'cg': 739, 'measure': 2786, 'hopper': 2161, 'hudson': 2184, 'karen': 2444, 'jenny': 2393, 'annie': 247, 'mentions': 2813, 'introduces': 2338, 'ripped': 3701, 'entertain': 1497, 'bettie': 473, 'hammer': 2014, 'chooses': 800, 'sadness': 3770, 'souls': 4080, 'recognition': 3568, 'lily': 2605, 'tame': 4363, 'mill': 2845, 'section': 3853, 'damon': 1101, 'lovable': 2668, 'increasingly': 2268, 'delivering': 1171, 'amanda': 205, 'morality': 2903, 'disease': 1285, 'tends': 4402, 'fooled': 1780, 'goldberg': 1933, 'un': 4630, 'lena': 2568, 'cannibal': 669, 'press': 3379, 'animal': 239, 'dignity': 1252, 'adams': 112, 'cheating': 776, 'scheme': 3812, 'alexander': 180, 'exotic': 1574, 'designs': 1204, 'richards': 3687, 'relevant': 3604, 'jaws': 2385, 'unaware': 4632, 'incompetent': 2266, 'mighty': 2836, 'advantage': 129, 'disneys': 1290, 'embarrassment': 1455, 'kane': 2442, '45': 50, 'masterpieces': 2760, 'lincoln': 2608, 'broadway': 592, 'highest': 2102, 'evident': 1547, 'hatred': 2049, 'cared': 685, 'cube': 1076, 'answers': 252, 'stevens': 4183, 'nude': 3058, 'terry': 4415, 'fx': 1858, 'flying': 1764, 'teachers': 4376, 'checking': 778, 'occurred': 3077, 'serving': 3897, 'tremendous': 4579, 'ruby': 3749, 'sexually': 3910, 'ashley': 313, 'enjoys': 1489, 'soccer': 4048, 'tender': 4401, 'wet': 4855, 'myers': 2952, 'foul': 1810, 'ha': 2002, 'troops': 4591, 'amounts': 220, 'tag': 4348, 'warrior': 4802, 'brutally': 604, 'user': 4696, 'voight': 4764, 'trio': 4587, 'existed': 1570, 'facing': 1620, 'complain': 919, 'troubled': 4593, 'lol': 2640, 'tune': 4602, 'punk': 3468, 'ramones': 3512, 'divorce': 1301, 'equipment': 1511, 'combat': 882, 'betty': 474, 'futuristic': 1857, 'differences': 1247, 'jeffrey': 2391, 'wounded': 4961, 'operation': 3117, 'cage': 645, 'walked': 4776, 'masterful': 2758, 'montage': 2894, 'splendid': 4119, 'wore': 4939, 'nations': 2971, 'iran': 2350, 'jesse': 2397, 'lone': 2642, 'ultimate': 4627, 'maggie': 2702, 'satisfied': 3789, 'championship': 745, 'sandler': 3781, 'hamilton': 2012, 'hart': 2041, 'madonna': 2699, 'gundam': 1997, 'neighbor': 2992, 'shorts': 3948, 'panic': 3181, 'rural': 3758, 'gruesome': 1986, 'elvira': 1450, 'burt': 629, 'intrigue': 2333, 'sincere': 3991, 'bonus': 534, 'maintain': 2710, 'domestic': 1318, 'florida': 1761, 'staff': 4138, 'jazz': 2387, 'tommy': 4516, 'appearing': 277, 'accomplished': 87, 'menace': 2806, 'noble': 3021, 'square': 4136, 'prequel': 3372, 'causing': 726, 'scarecrow': 3804, 'ya': 4976, 'ian': 2209, 'hired': 2117, 'maker': 2714, 'boxing': 556, 'subplots': 4256, 'empire': 1464, 'promises': 3432, 'genres': 1889, 'fed': 1682, 'homeless': 2143, 'airport': 167, 'intent': 2318, 'philip': 3252, 'kitchen': 2485, 'slightest': 4028, 'monkey': 2890, 'experiments': 1584, 'heights': 2073, 'chuck': 812, 'testament': 4417, 'professor': 3422, 'rats': 3531, 'elvis': 1451, 'robbins': 3712, 'morris': 2908, 'fisher': 1739, 'francisco': 1819, 'sport': 4129, 'sullivan': 4288, 'monk': 2889, 'serve': 3893, 'warner': 4799, 'awfully': 373, 'liking': 2604, 'underlying': 4641, 'report': 3635, 'andrew': 228, 'worker': 4942, 'seeks': 3860, 'floating': 1758, 'disbelief': 1277, 'losers': 2656, 'shortly': 3947, 'inducing': 2279, 'dialogs': 1233, 'wes': 4851, 'tarzan': 4367, 'bergman': 466, 'walker': 4778, 'progresses': 3426, 'reaching': 3539, 'nancy': 2964, 'ned': 2986, 'muslim': 2949, 'invisible': 2344, 'itll': 2369, 'wells': 4845, 'remarkably': 3614, 'ethan': 1528, 'maria': 2736, 'slick': 4026, 'streep': 4215, 'similarities': 3979, 'overlook': 3153, 'property': 3438, 'thru': 4483, 'struggles': 4235, 'christians': 809, 'grey': 1973, 'brosnan': 597, 'nomination': 3026, 'cuba': 1075, 'considerable': 950, 'der': 1191, 'punishment': 3467, 'sink': 3999, 'perry': 3237, 'proceeds': 3411, 'buddies': 608, 'voiced': 4762, 'producing': 3417, 'stale': 4141, 'matches': 2764, 'valley': 4707, 'dutch': 1389, 'wendy': 4846, 'firstly': 1737, 'nose': 3037, 'dave': 1123, 'shining': 3933, 'twins': 4616, 'garbo': 1871, 'joey': 2408, 'fury': 1855, 'blacks': 494, 'edie': 1419, 'beats': 426, 'rendition': 3625, 'chicago': 785, 'trashy': 4566, 'roots': 3738, 'paranoia': 3186, 'streisand': 4218, 'consistent': 953, 'primarily': 3393, 'psychic': 3456, 'afterwards': 145, 'southern': 4088, 'understated': 4646, 'gabriel': 1859, 'choreography': 802, '1933': 12, 'powell': 3358, 'australia': 356, 'bobby': 525, 'fish': 1738, 'adequate': 120, 'johnson': 2411, 'returning': 3667, 'remarks': 3615, 'nelson': 2997, 'alongside': 196, 'uneven': 4649, '1940s': 13, 'journalist': 2420, 'stargate': 4151, 'suspend': 4329, 'stanley': 4148, 'mario': 2738, 'isolated': 2363, 'hysterical': 2208, 'giallo': 1904, 'harder': 2035, 'buildings': 616, 'stanwyck': 4149, 'holly': 2136, 'bakshi': 386, 'comics': 895, 'vulnerable': 4768, 'plight': 3308, 'kubrick': 2496, 'loads': 2633, 'anyways': 262, 'sue': 4274, 'grinch': 1975, 'agents': 151, 'witnesses': 4916, 'warriors': 4803, 'scooby': 3820, 'reaches': 3538, 'assumed': 329, 'doo': 1325, 'chaplin': 756, 'mickey': 2831, 'mildred': 2841, 'bourne': 554, 'gadget': 1860, 'pokemon': 3320}\n"
     ]
    }
   ],
   "source": [
    "print(str(vocabulary))"
   ]
  },
  {
   "cell_type": "markdown",
   "metadata": {},
   "source": [
    "Once you have added the endpoint name to the Lambda function, click on **Save**. Your Lambda function is now up and running. Next we need to create a way for our web app to execute the Lambda function."
   ]
  },
  {
   "cell_type": "markdown",
   "metadata": {},
   "source": [
    "### Setting up API Gateway\n",
    "\n",
    "Now that our Lambda function is set up, it is time to create a new API using API Gateway that will trigger the Lambda function we have just created.\n",
    "\n",
    "Using AWS Console, navigate to **Amazon API Gateway** and then click on **Get started**.\n",
    "\n",
    "On the next page, make sure that **New API** is selected and give the new api a name, for example, `sentiment_analysis_web_app`. Then, click on **Create API**.\n",
    "\n",
    "Now we have created an API, however it doesn't currently do anything. What we want it to do is to trigger the Lambda function that we created earlier.\n",
    "\n",
    "Select the **Actions** dropdown menu and click **Create Method**. A new blank method will be created, select its dropdown menu and select **POST**, then click on the check mark beside it.\n",
    "\n",
    "For the integration point, make sure that **Lambda Function** is selected and click on the **Use Lambda Proxy integration**. This option makes sure that the data that is sent to the API is then sent directly to the Lambda function with no processing. It also means that the return value must be a proper response object as it will also not be processed by API Gateway.\n",
    "\n",
    "Type the name of the Lambda function you created earlier into the **Lambda Function** text entry box and then click on **Save**. Click on **OK** in the pop-up box that then appears, giving permission to API Gateway to invoke the Lambda function you created.\n",
    "\n",
    "The last step in creating the API Gateway is to select the **Actions** dropdown and click on **Deploy API**. You will need to create a new Deployment stage and name it anything you like, for example `prod`.\n",
    "\n",
    "You have now successfully set up a public API to access your SageMaker model. Make sure to copy or write down the URL provided to invoke your newly created public API as this will be needed in the next step. This URL can be found at the top of the page, highlighted in blue next to the text **Invoke URL**."
   ]
  },
  {
   "cell_type": "markdown",
   "metadata": {},
   "source": [
    "## Step 7: Deploying our web app\n",
    "\n",
    "Now that we have a publicly available API, we can start using it in a web app. For our purposes, we have provided a simple static html file which can make use of the public api you created earlier.\n",
    "\n",
    "In the `website` folder there should be a file called `index.html`. Download the file to your computer and open that file up in a text editor of your choice. There should be a line which contains **\\*\\*REPLACE WITH PUBLIC API URL\\*\\***. Replace this string with the url that you wrote down in the last step and then save the file.\n",
    "\n",
    "Now, if you open `index.html` on your local computer, your browser will behave as a local web server and you can use the provided site to interact with your SageMaker model.\n",
    "\n",
    "If you'd like to go further, you can host this html file anywhere you'd like, for example using github or hosting a static site on Amazon's S3. Once you have done this you can share the link with anyone you'd like and have them play with it too!\n",
    "\n",
    "> **Important Note** In order for the web app to communicate with the SageMaker endpoint, the endpoint has to actually be deployed and running. This means that you are paying for it. Make sure that the endpoint is running when you want to use the web app but that you shut it down when you don't need it, otherwise you will end up with a surprisingly large AWS bill."
   ]
  },
  {
   "cell_type": "markdown",
   "metadata": {},
   "source": [
    "### Delete the endpoint\n",
    "\n",
    "Remember to always shut down your endpoint if you are no longer using it. You are charged for the length of time that the endpoint is running so if you forget and leave it on you could end up with an unexpectedly large bill."
   ]
  },
  {
   "cell_type": "code",
   "execution_count": 54,
   "metadata": {},
   "outputs": [],
   "source": [
    "xgb_predictor.delete_endpoint()"
   ]
  },
  {
   "cell_type": "markdown",
   "metadata": {},
   "source": [
    "## Optional: Clean up\n",
    "\n",
    "The default notebook instance on SageMaker doesn't have a lot of excess disk space available. As you continue to complete and execute notebooks you will eventually fill up this disk space, leading to errors which can be difficult to diagnose. Once you are completely finished using a notebook it is a good idea to remove the files that you created along the way. Of course, you can do this from the terminal or from the notebook hub if you would like. The cell below contains some commands to clean up the created files from within the notebook."
   ]
  },
  {
   "cell_type": "code",
   "execution_count": null,
   "metadata": {},
   "outputs": [],
   "source": [
    "# First we will remove all of the files contained in the data_dir directory\n",
    "!rm $data_dir/*\n",
    "\n",
    "# And then we delete the directory itself\n",
    "!rmdir $data_dir\n",
    "\n",
    "# Similarly we remove the files in the cache_dir directory and the directory itself\n",
    "!rm $cache_dir/*\n",
    "!rmdir $cache_dir"
   ]
  },
  {
   "cell_type": "code",
   "execution_count": null,
   "metadata": {},
   "outputs": [],
   "source": []
  }
 ],
 "metadata": {
  "kernelspec": {
   "display_name": "conda_amazonei_mxnet_p36",
   "language": "python",
   "name": "conda_amazonei_mxnet_p36"
  },
  "language_info": {
   "codemirror_mode": {
    "name": "ipython",
    "version": 3
   },
   "file_extension": ".py",
   "mimetype": "text/x-python",
   "name": "python",
   "nbconvert_exporter": "python",
   "pygments_lexer": "ipython3",
   "version": "3.6.13"
  }
 },
 "nbformat": 4,
 "nbformat_minor": 4
}
